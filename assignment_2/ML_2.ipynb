{
 "cells": [
  {
   "cell_type": "code",
   "execution_count": 1,
   "metadata": {},
   "outputs": [],
   "source": [
    "import numpy as np\n",
    "import pandas as pd\n",
    "import sklearn\n",
    "from matplotlib import pyplot as plt\n",
    "import statsmodels.api as sm\n",
    "import seaborn as sns\n",
    "from yahooquery import Ticker\n",
    "import statsmodels.formula.api as smf"
   ]
  },
  {
   "cell_type": "markdown",
   "source": [
    "##### make sure files are in same directory"
   ],
   "metadata": {
    "collapsed": false,
    "pycharm": {
     "name": "#%% md\n"
    }
   }
  },
  {
   "cell_type": "code",
   "execution_count": 2,
   "metadata": {
    "pycharm": {
     "name": "#%%\n"
    }
   },
   "outputs": [],
   "source": [
    "t_rates = pd.read_csv('data//Treasury-rates-20220517.csv')"
   ]
  },
  {
   "cell_type": "code",
   "execution_count": 20,
   "metadata": {},
   "outputs": [
    {
     "data": {
      "text/plain": "          Date  1 Mo  2 Mo  3 Mo  6 Mo  1 Yr  2 Yr  3 Yr  5 Yr  7 Yr  10 Yr  \\\n0   2022-01-03  0.05  0.06  0.08  0.22  0.40  0.78  1.04  1.37  1.55   1.63   \n1   2022-01-04  0.06  0.05  0.08  0.22  0.38  0.77  1.02  1.37  1.57   1.66   \n2   2022-01-05  0.05  0.06  0.09  0.22  0.41  0.83  1.10  1.43  1.62   1.71   \n3   2022-01-06  0.04  0.05  0.10  0.23  0.45  0.88  1.15  1.47  1.66   1.73   \n4   2022-01-07  0.05  0.05  0.10  0.24  0.43  0.87  1.17  1.50  1.69   1.76   \n..         ...   ...   ...   ...   ...   ...   ...   ...   ...   ...    ...   \n89  2022-05-11  0.59  0.77  0.91  1.43  1.99  2.66  2.81  2.89  2.94   2.91   \n90  2022-05-12  0.61  0.77  0.96  1.44  1.96  2.56  2.73  2.81  2.86   2.84   \n91  2022-05-13  0.67  0.79  1.03  1.47  2.04  2.61  2.79  2.89  2.95   2.93   \n92  2022-05-16  0.64  0.85  1.07  1.54  2.07  2.58  2.75  2.83  2.89   2.88   \n93  2022-05-17  0.61  0.85  1.06  1.57  2.16  2.71  2.89  2.96  3.00   2.98   \n\n    20 Yr  30 Yr  \n0    2.05   2.01  \n1    2.10   2.07  \n2    2.12   2.09  \n3    2.12   2.09  \n4    2.15   2.11  \n..    ...    ...  \n89   3.25   3.05  \n90   3.22   3.00  \n91   3.32   3.10  \n92   3.30   3.09  \n93   3.36   3.17  \n\n[94 rows x 13 columns]",
      "text/html": "<div>\n<style scoped>\n    .dataframe tbody tr th:only-of-type {\n        vertical-align: middle;\n    }\n\n    .dataframe tbody tr th {\n        vertical-align: top;\n    }\n\n    .dataframe thead th {\n        text-align: right;\n    }\n</style>\n<table border=\"1\" class=\"dataframe\">\n  <thead>\n    <tr style=\"text-align: right;\">\n      <th></th>\n      <th>Date</th>\n      <th>1 Mo</th>\n      <th>2 Mo</th>\n      <th>3 Mo</th>\n      <th>6 Mo</th>\n      <th>1 Yr</th>\n      <th>2 Yr</th>\n      <th>3 Yr</th>\n      <th>5 Yr</th>\n      <th>7 Yr</th>\n      <th>10 Yr</th>\n      <th>20 Yr</th>\n      <th>30 Yr</th>\n    </tr>\n  </thead>\n  <tbody>\n    <tr>\n      <th>0</th>\n      <td>2022-01-03</td>\n      <td>0.05</td>\n      <td>0.06</td>\n      <td>0.08</td>\n      <td>0.22</td>\n      <td>0.40</td>\n      <td>0.78</td>\n      <td>1.04</td>\n      <td>1.37</td>\n      <td>1.55</td>\n      <td>1.63</td>\n      <td>2.05</td>\n      <td>2.01</td>\n    </tr>\n    <tr>\n      <th>1</th>\n      <td>2022-01-04</td>\n      <td>0.06</td>\n      <td>0.05</td>\n      <td>0.08</td>\n      <td>0.22</td>\n      <td>0.38</td>\n      <td>0.77</td>\n      <td>1.02</td>\n      <td>1.37</td>\n      <td>1.57</td>\n      <td>1.66</td>\n      <td>2.10</td>\n      <td>2.07</td>\n    </tr>\n    <tr>\n      <th>2</th>\n      <td>2022-01-05</td>\n      <td>0.05</td>\n      <td>0.06</td>\n      <td>0.09</td>\n      <td>0.22</td>\n      <td>0.41</td>\n      <td>0.83</td>\n      <td>1.10</td>\n      <td>1.43</td>\n      <td>1.62</td>\n      <td>1.71</td>\n      <td>2.12</td>\n      <td>2.09</td>\n    </tr>\n    <tr>\n      <th>3</th>\n      <td>2022-01-06</td>\n      <td>0.04</td>\n      <td>0.05</td>\n      <td>0.10</td>\n      <td>0.23</td>\n      <td>0.45</td>\n      <td>0.88</td>\n      <td>1.15</td>\n      <td>1.47</td>\n      <td>1.66</td>\n      <td>1.73</td>\n      <td>2.12</td>\n      <td>2.09</td>\n    </tr>\n    <tr>\n      <th>4</th>\n      <td>2022-01-07</td>\n      <td>0.05</td>\n      <td>0.05</td>\n      <td>0.10</td>\n      <td>0.24</td>\n      <td>0.43</td>\n      <td>0.87</td>\n      <td>1.17</td>\n      <td>1.50</td>\n      <td>1.69</td>\n      <td>1.76</td>\n      <td>2.15</td>\n      <td>2.11</td>\n    </tr>\n    <tr>\n      <th>...</th>\n      <td>...</td>\n      <td>...</td>\n      <td>...</td>\n      <td>...</td>\n      <td>...</td>\n      <td>...</td>\n      <td>...</td>\n      <td>...</td>\n      <td>...</td>\n      <td>...</td>\n      <td>...</td>\n      <td>...</td>\n      <td>...</td>\n    </tr>\n    <tr>\n      <th>89</th>\n      <td>2022-05-11</td>\n      <td>0.59</td>\n      <td>0.77</td>\n      <td>0.91</td>\n      <td>1.43</td>\n      <td>1.99</td>\n      <td>2.66</td>\n      <td>2.81</td>\n      <td>2.89</td>\n      <td>2.94</td>\n      <td>2.91</td>\n      <td>3.25</td>\n      <td>3.05</td>\n    </tr>\n    <tr>\n      <th>90</th>\n      <td>2022-05-12</td>\n      <td>0.61</td>\n      <td>0.77</td>\n      <td>0.96</td>\n      <td>1.44</td>\n      <td>1.96</td>\n      <td>2.56</td>\n      <td>2.73</td>\n      <td>2.81</td>\n      <td>2.86</td>\n      <td>2.84</td>\n      <td>3.22</td>\n      <td>3.00</td>\n    </tr>\n    <tr>\n      <th>91</th>\n      <td>2022-05-13</td>\n      <td>0.67</td>\n      <td>0.79</td>\n      <td>1.03</td>\n      <td>1.47</td>\n      <td>2.04</td>\n      <td>2.61</td>\n      <td>2.79</td>\n      <td>2.89</td>\n      <td>2.95</td>\n      <td>2.93</td>\n      <td>3.32</td>\n      <td>3.10</td>\n    </tr>\n    <tr>\n      <th>92</th>\n      <td>2022-05-16</td>\n      <td>0.64</td>\n      <td>0.85</td>\n      <td>1.07</td>\n      <td>1.54</td>\n      <td>2.07</td>\n      <td>2.58</td>\n      <td>2.75</td>\n      <td>2.83</td>\n      <td>2.89</td>\n      <td>2.88</td>\n      <td>3.30</td>\n      <td>3.09</td>\n    </tr>\n    <tr>\n      <th>93</th>\n      <td>2022-05-17</td>\n      <td>0.61</td>\n      <td>0.85</td>\n      <td>1.06</td>\n      <td>1.57</td>\n      <td>2.16</td>\n      <td>2.71</td>\n      <td>2.89</td>\n      <td>2.96</td>\n      <td>3.00</td>\n      <td>2.98</td>\n      <td>3.36</td>\n      <td>3.17</td>\n    </tr>\n  </tbody>\n</table>\n<p>94 rows × 13 columns</p>\n</div>"
     },
     "execution_count": 20,
     "metadata": {},
     "output_type": "execute_result"
    }
   ],
   "source": [
    "t_rates"
   ]
  },
  {
   "cell_type": "code",
   "execution_count": 4,
   "metadata": {},
   "outputs": [
    {
     "data": {
      "text/plain": "Date     2022-05-16\n1 Mo           0.64\n2 Mo           0.85\n3 Mo           1.07\n6 Mo           1.54\n1 Yr           2.07\n2 Yr           2.58\n3 Yr           2.75\n5 Yr           2.83\n7 Yr           2.89\n10 Yr          2.88\n20 Yr           3.3\n30 Yr          3.09\nName: 92, dtype: object"
     },
     "execution_count": 4,
     "metadata": {},
     "output_type": "execute_result"
    }
   ],
   "source": [
    "t_rates.iloc[t_rates['3 Mo'].idxmax()]"
   ]
  },
  {
   "cell_type": "code",
   "execution_count": 5,
   "metadata": {},
   "outputs": [],
   "source": [
    "rates = pd.DataFrame()\n",
    "for  i in range(0,len(t_rates)):\n",
    "    # selects row across each date\n",
    "    rates_i= pd.DataFrame(t_rates.iloc[i][1:])\n",
    "    rates_i.columns=['rates']\n",
    "    rates_i=rates_i.reset_index()\n",
    "    # get the integer value from time periods eg 1mo = 1\n",
    "    rates_i['y'] = rates_i['index'].str.slice(0,2)\n",
    "    rates_i['y']= rates_i['y'].astype(float)\n",
    "    #finds where rates are less than 1 year and covert them into proper time period otherwise use the current time period\n",
    "    rates_i['t']= np.where(rates_i.index<4,rates_i['y']/12,rates_i['y'])\n",
    "    # repeats the date for each maturity\n",
    "    rates_i['date'] = np.repeat(t_rates['Date'][i], 12, axis=0)\n",
    "    rates_i=rates_i[['date' , 'index', 't', 'rates']]\n",
    "    rates_i.columns= ['date' , 'maturities', 't', 'rate']\n",
    "    rates = pd.concat([rates,rates_i])"
   ]
  },
  {
   "cell_type": "code",
   "execution_count": 9,
   "outputs": [
    {
     "data": {
      "text/plain": "(1128, 4)"
     },
     "execution_count": 9,
     "metadata": {},
     "output_type": "execute_result"
    }
   ],
   "source": [
    "rates.shape"
   ],
   "metadata": {
    "collapsed": false,
    "pycharm": {
     "name": "#%%\n"
    }
   }
  },
  {
   "cell_type": "code",
   "execution_count": 7,
   "outputs": [],
   "source": [
    "rates_1 = rates[ rates['date'] < '2022-02-01']"
   ],
   "metadata": {
    "collapsed": false,
    "pycharm": {
     "name": "#%%\n"
    }
   }
  },
  {
   "cell_type": "code",
   "execution_count": 8,
   "outputs": [
    {
     "data": {
      "text/plain": "(240, 4)"
     },
     "execution_count": 8,
     "metadata": {},
     "output_type": "execute_result"
    }
   ],
   "source": [
    "rates_1.shape"
   ],
   "metadata": {
    "collapsed": false,
    "pycharm": {
     "name": "#%%\n"
    }
   }
  },
  {
   "cell_type": "code",
   "execution_count": 10,
   "outputs": [
    {
     "data": {
      "text/plain": "<matplotlib.legend.Legend at 0x260047f40d0>"
     },
     "execution_count": 10,
     "metadata": {},
     "output_type": "execute_result"
    },
    {
     "data": {
      "text/plain": "<Figure size 432x288 with 1 Axes>",
      "image/png": "[encoded data removed]"
     },
     "metadata": {
      "needs_background": "light"
     },
     "output_type": "display_data"
    }
   ],
   "source": [
    "a = sns.scatterplot(x='t', y='rate', data =rates_1, hue ='maturities')\n",
    "plt.legend(bbox_to_anchor=(1.0, .5) ,loc ='right',borderaxespad=-8)"
   ],
   "metadata": {
    "collapsed": false,
    "pycharm": {
     "name": "#%%\n"
    }
   }
  },
  {
   "cell_type": "code",
   "execution_count": 11,
   "outputs": [
    {
     "name": "stderr",
     "output_type": "stream",
     "text": [
      "C:\\Users\\shane\\AppData\\Local\\Temp/ipykernel_17888/4068104504.py:1: SettingWithCopyWarning: \n",
      "A value is trying to be set on a copy of a slice from a DataFrame.\n",
      "Try using .loc[row_indexer,col_indexer] = value instead\n",
      "\n",
      "See the caveats in the documentation: https://pandas.pydata.org/pandas-docs/stable/user_guide/indexing.html#returning-a-view-versus-a-copy\n",
      "  rates_1['rate']=pd.to_numeric(rates_1['rate'])\n"
     ]
    },
    {
     "data": {
      "text/plain": "date           object\nmaturities     object\nt             float64\nrate          float64\ndtype: object"
     },
     "execution_count": 11,
     "metadata": {},
     "output_type": "execute_result"
    }
   ],
   "source": [
    "rates_1['rate']=pd.to_numeric(rates_1['rate'])\n",
    "rates_1.dropna()\n",
    "rates_1.dtypes"
   ],
   "metadata": {
    "collapsed": false,
    "pycharm": {
     "name": "#%%\n"
    }
   }
  },
  {
   "cell_type": "code",
   "execution_count": 12,
   "outputs": [],
   "source": [
    "from sklearn.linear_model import LinearRegression\n"
   ],
   "metadata": {
    "collapsed": false,
    "pycharm": {
     "name": "#%%\n"
    }
   }
  },
  {
   "cell_type": "code",
   "execution_count": 13,
   "outputs": [],
   "source": [
    "X = rates_1[['t']]\n",
    "y = rates_1[['rate']]"
   ],
   "metadata": {
    "collapsed": false,
    "pycharm": {
     "name": "#%%\n"
    }
   }
  },
  {
   "cell_type": "code",
   "execution_count": 14,
   "outputs": [],
   "source": [
    "lm=LinearRegression()\n",
    "X1 = sm.add_constant(X)\n",
    "model1 = sm.OLS(y,X1).fit()\n",
    "ypred1 = model1.predict(X1)"
   ],
   "metadata": {
    "collapsed": false,
    "pycharm": {
     "name": "#%%\n"
    }
   }
  },
  {
   "cell_type": "code",
   "execution_count": 16,
   "outputs": [
    {
     "data": {
      "text/plain": "[<matplotlib.lines.Line2D at 0x2600662bf40>]"
     },
     "execution_count": 16,
     "metadata": {},
     "output_type": "execute_result"
    },
    {
     "data": {
      "text/plain": "<Figure size 432x288 with 1 Axes>",
      "image/png": "[encoded data removed]"
     },
     "metadata": {
      "needs_background": "light"
     },
     "output_type": "display_data"
    }
   ],
   "source": [
    "# how does linear reg fit the data\n",
    "a = sns.scatterplot(x='t', y='rate', data =rates_1, hue ='maturities')\n",
    "plt.legend(bbox_to_anchor=(1.0, .5) ,loc ='right',borderaxespad=-8)\n",
    "plt.plot(X,ypred1, c= 'red')"
   ],
   "metadata": {
    "collapsed": false,
    "pycharm": {
     "name": "#%%\n"
    }
   }
  },
  {
   "cell_type": "code",
   "execution_count": 17,
   "outputs": [],
   "source": [
    "from sklearn.preprocessing import PolynomialFeatures\n",
    "poly = PolynomialFeatures(degree = 2)\n",
    "X_poly = poly.fit_transform(X)\n",
    "model2 =sm.OLS(y,X_poly).fit()\n",
    "ypred2 = model2.predict(X_poly)"
   ],
   "metadata": {
    "collapsed": false,
    "pycharm": {
     "name": "#%%\n"
    }
   }
  },
  {
   "cell_type": "code",
   "execution_count": 18,
   "outputs": [
    {
     "data": {
      "text/plain": "array([2.13357386])"
     },
     "execution_count": 18,
     "metadata": {},
     "output_type": "execute_result"
    }
   ],
   "source": [
    "y_pred =np.array([1,12,144])\n",
    "model2.predict(y_pred)"
   ],
   "metadata": {
    "collapsed": false,
    "pycharm": {
     "name": "#%%\n"
    }
   }
  },
  {
   "cell_type": "code",
   "execution_count": 232,
   "outputs": [
    {
     "data": {
      "text/plain": "array(<class 'statsmodels.iolib.summary.Summary'>\n\"\"\"\n                            OLS Regression Results                            \n==============================================================================\nDep. Variable:                   rate   R-squared:                       0.900\nModel:                            OLS   Adj. R-squared:                  0.899\nMethod:                 Least Squares   F-statistic:                     1061.\nDate:                Mon, 30 May 2022   Prob (F-statistic):          5.45e-119\nTime:                        15:17:31   Log-Likelihood:                -2.7540\nNo. Observations:                 240   AIC:                             11.51\nDf Residuals:                     237   BIC:                             21.95\nDf Model:                           2                                         \nCovariance Type:            nonrobust                                         \n==============================================================================\n                 coef    std err          t      P>|t|      [0.025      0.975]\n------------------------------------------------------------------------------\nconst          0.2846      0.023     12.128      0.000       0.238       0.331\nx1             0.2198      0.006     34.584      0.000       0.207       0.232\nx2            -0.0055      0.000    -24.740      0.000      -0.006      -0.005\n==============================================================================\nOmnibus:                      103.506   Durbin-Watson:                   0.903\nProb(Omnibus):                  0.000   Jarque-Bera (JB):               16.429\nSkew:                           0.261   Prob(JB):                     0.000271\nKurtosis:                       1.829   Cond. No.                         430.\n==============================================================================\n\nNotes:\n[1] Standard Errors assume that the covariance matrix of the errors is correctly specified.\n\"\"\", dtype=object)"
     },
     "execution_count": 232,
     "metadata": {},
     "output_type": "execute_result"
    }
   ],
   "source": [
    "np.array(model2.summary())"
   ],
   "metadata": {
    "collapsed": false,
    "pycharm": {
     "name": "#%%\n"
    }
   }
  },
  {
   "cell_type": "code",
   "execution_count": 232,
   "outputs": [],
   "source": [],
   "metadata": {
    "collapsed": false,
    "pycharm": {
     "name": "#%%\n"
    }
   }
  },
  {
   "cell_type": "code",
   "execution_count": 233,
   "outputs": [
    {
     "data": {
      "text/plain": "[<matplotlib.lines.Line2D at 0x220db4beb50>]"
     },
     "execution_count": 233,
     "metadata": {},
     "output_type": "execute_result"
    },
    {
     "data": {
      "text/plain": "<Figure size 432x288 with 1 Axes>",
      "image/png": "[encoded data removed]"
     },
     "metadata": {
      "needs_background": "light"
     },
     "output_type": "display_data"
    }
   ],
   "source": [
    "# how poly reg fits the data\n",
    "a = sns.scatterplot(x='t', y='rate', data =rates_1, hue ='maturities')\n",
    "plt.legend(bbox_to_anchor=(1.0, .5) ,loc ='right',borderaxespad=-8)\n",
    "plt.plot(X,ypred2, c= 'red')"
   ],
   "metadata": {
    "collapsed": false,
    "pycharm": {
     "name": "#%%\n"
    }
   }
  },
  {
   "cell_type": "code",
   "execution_count": 234,
   "outputs": [],
   "source": [
    "data_tech = pd.read_csv('data//tech_sector_5m_20220519.csv', usecols =['symbol', 'date', 'close', 'volume'])"
   ],
   "metadata": {
    "collapsed": false,
    "pycharm": {
     "name": "#%%\n"
    }
   }
  },
  {
   "cell_type": "code",
   "execution_count": 235,
   "outputs": [
    {
     "data": {
      "text/plain": "(39312, 4)"
     },
     "execution_count": 235,
     "metadata": {},
     "output_type": "execute_result"
    }
   ],
   "source": [
    "data_tech.shape"
   ],
   "metadata": {
    "collapsed": false,
    "pycharm": {
     "name": "#%%\n"
    }
   }
  },
  {
   "cell_type": "code",
   "execution_count": 236,
   "outputs": [
    {
     "data": {
      "text/plain": "symbol     object\ndate       object\nvolume      int64\nclose     float64\ndtype: object"
     },
     "execution_count": 236,
     "metadata": {},
     "output_type": "execute_result"
    }
   ],
   "source": [
    "data_tech.dtypes"
   ],
   "metadata": {
    "collapsed": false,
    "pycharm": {
     "name": "#%%\n"
    }
   }
  },
  {
   "cell_type": "code",
   "execution_count": 237,
   "outputs": [
    {
     "data": {
      "text/plain": "  symbol                date   volume       close         day  minute\n0    SPY 2022-03-21 09:30:00  4363511  445.790009  2022-03-21     570\n1    SPY 2022-03-21 09:35:00  2008084  446.260010  2022-03-21     575\n2    SPY 2022-03-21 09:40:00  1324533  445.839996  2022-03-21     580\n3    SPY 2022-03-21 09:45:00  1577899  444.989990  2022-03-21     585\n4    SPY 2022-03-21 09:50:00  1540934  443.920013  2022-03-21     590",
      "text/html": "<div>\n<style scoped>\n    .dataframe tbody tr th:only-of-type {\n        vertical-align: middle;\n    }\n\n    .dataframe tbody tr th {\n        vertical-align: top;\n    }\n\n    .dataframe thead th {\n        text-align: right;\n    }\n</style>\n<table border=\"1\" class=\"dataframe\">\n  <thead>\n    <tr style=\"text-align: right;\">\n      <th></th>\n      <th>symbol</th>\n      <th>date</th>\n      <th>volume</th>\n      <th>close</th>\n      <th>day</th>\n      <th>minute</th>\n    </tr>\n  </thead>\n  <tbody>\n    <tr>\n      <th>0</th>\n      <td>SPY</td>\n      <td>2022-03-21 09:30:00</td>\n      <td>4363511</td>\n      <td>445.790009</td>\n      <td>2022-03-21</td>\n      <td>570</td>\n    </tr>\n    <tr>\n      <th>1</th>\n      <td>SPY</td>\n      <td>2022-03-21 09:35:00</td>\n      <td>2008084</td>\n      <td>446.260010</td>\n      <td>2022-03-21</td>\n      <td>575</td>\n    </tr>\n    <tr>\n      <th>2</th>\n      <td>SPY</td>\n      <td>2022-03-21 09:40:00</td>\n      <td>1324533</td>\n      <td>445.839996</td>\n      <td>2022-03-21</td>\n      <td>580</td>\n    </tr>\n    <tr>\n      <th>3</th>\n      <td>SPY</td>\n      <td>2022-03-21 09:45:00</td>\n      <td>1577899</td>\n      <td>444.989990</td>\n      <td>2022-03-21</td>\n      <td>585</td>\n    </tr>\n    <tr>\n      <th>4</th>\n      <td>SPY</td>\n      <td>2022-03-21 09:50:00</td>\n      <td>1540934</td>\n      <td>443.920013</td>\n      <td>2022-03-21</td>\n      <td>590</td>\n    </tr>\n  </tbody>\n</table>\n</div>"
     },
     "execution_count": 237,
     "metadata": {},
     "output_type": "execute_result"
    }
   ],
   "source": [
    "data_tech['date']= pd.to_datetime(data_tech['date'])\n",
    "data_tech['day']= data_tech['date'].dt.date\n",
    "data_tech['minute'] = ((data_tech['date'] - data_tech['date'].dt.normalize()) / pd.Timedelta('1 minute')).astype(int)\n",
    "data_tech.head()"
   ],
   "metadata": {
    "collapsed": false,
    "pycharm": {
     "name": "#%%\n"
    }
   }
  },
  {
   "cell_type": "code",
   "execution_count": 238,
   "outputs": [
    {
     "data": {
      "text/plain": "['AAPL', 'MSFT', 'NVDA', 'V', 'PYPL', 'MA', 'ADBE', 'INTC', 'CRM', 'CSCO']"
     },
     "execution_count": 238,
     "metadata": {},
     "output_type": "execute_result"
    }
   ],
   "source": [
    "symbols= data_tech['symbol'].unique()\n",
    "stks=list( symbols[2:])\n",
    "stks\n"
   ],
   "metadata": {
    "collapsed": false,
    "pycharm": {
     "name": "#%%\n"
    }
   }
  },
  {
   "cell_type": "code",
   "execution_count": 239,
   "outputs": [
    {
     "data": {
      "text/plain": "     symbol                date   volume       close         day  minute\n6552   AAPL 2022-03-21 09:30:00  4030270  164.070007  2022-03-21     570\n6553   AAPL 2022-03-21 09:35:00  2031681  165.009995  2022-03-21     575\n6554   AAPL 2022-03-21 09:40:00  1637002  165.339996  2022-03-21     580\n6555   AAPL 2022-03-21 09:45:00  1497955  165.024994  2022-03-21     585\n6556   AAPL 2022-03-21 09:50:00  1863647  163.990005  2022-03-21     590",
      "text/html": "<div>\n<style scoped>\n    .dataframe tbody tr th:only-of-type {\n        vertical-align: middle;\n    }\n\n    .dataframe tbody tr th {\n        vertical-align: top;\n    }\n\n    .dataframe thead th {\n        text-align: right;\n    }\n</style>\n<table border=\"1\" class=\"dataframe\">\n  <thead>\n    <tr style=\"text-align: right;\">\n      <th></th>\n      <th>symbol</th>\n      <th>date</th>\n      <th>volume</th>\n      <th>close</th>\n      <th>day</th>\n      <th>minute</th>\n    </tr>\n  </thead>\n  <tbody>\n    <tr>\n      <th>6552</th>\n      <td>AAPL</td>\n      <td>2022-03-21 09:30:00</td>\n      <td>4030270</td>\n      <td>164.070007</td>\n      <td>2022-03-21</td>\n      <td>570</td>\n    </tr>\n    <tr>\n      <th>6553</th>\n      <td>AAPL</td>\n      <td>2022-03-21 09:35:00</td>\n      <td>2031681</td>\n      <td>165.009995</td>\n      <td>2022-03-21</td>\n      <td>575</td>\n    </tr>\n    <tr>\n      <th>6554</th>\n      <td>AAPL</td>\n      <td>2022-03-21 09:40:00</td>\n      <td>1637002</td>\n      <td>165.339996</td>\n      <td>2022-03-21</td>\n      <td>580</td>\n    </tr>\n    <tr>\n      <th>6555</th>\n      <td>AAPL</td>\n      <td>2022-03-21 09:45:00</td>\n      <td>1497955</td>\n      <td>165.024994</td>\n      <td>2022-03-21</td>\n      <td>585</td>\n    </tr>\n    <tr>\n      <th>6556</th>\n      <td>AAPL</td>\n      <td>2022-03-21 09:50:00</td>\n      <td>1863647</td>\n      <td>163.990005</td>\n      <td>2022-03-21</td>\n      <td>590</td>\n    </tr>\n  </tbody>\n</table>\n</div>"
     },
     "execution_count": 239,
     "metadata": {},
     "output_type": "execute_result"
    }
   ],
   "source": [
    "data1 = data_tech[data_tech['symbol'].isin(stks)]\n",
    "data1.head()"
   ],
   "metadata": {
    "collapsed": false,
    "pycharm": {
     "name": "#%%\n"
    }
   }
  },
  {
   "cell_type": "code",
   "execution_count": 240,
   "outputs": [
    {
     "data": {
      "text/plain": "      symbol                date   volume      close         day  minute\n39307   CSCO 2022-05-18 15:35:00   493278  48.615002  2022-05-18     935\n39308   CSCO 2022-05-18 15:40:00   694958  48.529999  2022-05-18     940\n39309   CSCO 2022-05-18 15:45:00  1138759  48.330002  2022-05-18     945\n39310   CSCO 2022-05-18 15:50:00  1206911  48.330002  2022-05-18     950\n39311   CSCO 2022-05-18 15:55:00  2550993  48.590000  2022-05-18     955",
      "text/html": "<div>\n<style scoped>\n    .dataframe tbody tr th:only-of-type {\n        vertical-align: middle;\n    }\n\n    .dataframe tbody tr th {\n        vertical-align: top;\n    }\n\n    .dataframe thead th {\n        text-align: right;\n    }\n</style>\n<table border=\"1\" class=\"dataframe\">\n  <thead>\n    <tr style=\"text-align: right;\">\n      <th></th>\n      <th>symbol</th>\n      <th>date</th>\n      <th>volume</th>\n      <th>close</th>\n      <th>day</th>\n      <th>minute</th>\n    </tr>\n  </thead>\n  <tbody>\n    <tr>\n      <th>39307</th>\n      <td>CSCO</td>\n      <td>2022-05-18 15:35:00</td>\n      <td>493278</td>\n      <td>48.615002</td>\n      <td>2022-05-18</td>\n      <td>935</td>\n    </tr>\n    <tr>\n      <th>39308</th>\n      <td>CSCO</td>\n      <td>2022-05-18 15:40:00</td>\n      <td>694958</td>\n      <td>48.529999</td>\n      <td>2022-05-18</td>\n      <td>940</td>\n    </tr>\n    <tr>\n      <th>39309</th>\n      <td>CSCO</td>\n      <td>2022-05-18 15:45:00</td>\n      <td>1138759</td>\n      <td>48.330002</td>\n      <td>2022-05-18</td>\n      <td>945</td>\n    </tr>\n    <tr>\n      <th>39310</th>\n      <td>CSCO</td>\n      <td>2022-05-18 15:50:00</td>\n      <td>1206911</td>\n      <td>48.330002</td>\n      <td>2022-05-18</td>\n      <td>950</td>\n    </tr>\n    <tr>\n      <th>39311</th>\n      <td>CSCO</td>\n      <td>2022-05-18 15:55:00</td>\n      <td>2550993</td>\n      <td>48.590000</td>\n      <td>2022-05-18</td>\n      <td>955</td>\n    </tr>\n  </tbody>\n</table>\n</div>"
     },
     "execution_count": 240,
     "metadata": {},
     "output_type": "execute_result"
    }
   ],
   "source": [
    "data1[(data1['symbol'] == 'CSCO') & (data1['day'] != '2022-05-18')]\n",
    "data1.tail()"
   ],
   "metadata": {
    "collapsed": false,
    "pycharm": {
     "name": "#%%\n"
    }
   }
  },
  {
   "cell_type": "code",
   "execution_count": 31,
   "outputs": [],
   "source": [],
   "metadata": {
    "collapsed": false,
    "pycharm": {
     "name": "#%%\n"
    }
   }
  },
  {
   "cell_type": "code",
   "execution_count": 31,
   "outputs": [],
   "source": [],
   "metadata": {
    "collapsed": false,
    "pycharm": {
     "name": "#%%\n"
    }
   }
  },
  {
   "cell_type": "code",
   "execution_count": 59,
   "outputs": [
    {
     "data": {
      "text/plain": "       Unnamed: 0 symbol                 date   volume       close  \\\n0               0    SPY  2022-03-21 09:30:00  4363511  445.790009   \n1               1    SPY  2022-03-21 09:35:00  2008084  446.260010   \n2               2    SPY  2022-03-21 09:40:00  1324533  445.839996   \n3               3    SPY  2022-03-21 09:45:00  1577899  444.989990   \n4               4    SPY  2022-03-21 09:50:00  1540934  443.920013   \n...           ...    ...                  ...      ...         ...   \n39307       39307   CSCO  2022-05-18 15:35:00   493278   48.615002   \n39308       39308   CSCO  2022-05-18 15:40:00   694958   48.529999   \n39309       39309   CSCO  2022-05-18 15:45:00  1138759   48.330002   \n39310       39310   CSCO  2022-05-18 15:50:00  1206911   48.330002   \n39311       39311   CSCO  2022-05-18 15:55:00  2550993   48.590000   \n\n              day  minute  \n0      2022-03-21     570  \n1      2022-03-21     575  \n2      2022-03-21     580  \n3      2022-03-21     585  \n4      2022-03-21     590  \n...           ...     ...  \n39307  2022-05-18     935  \n39308  2022-05-18     940  \n39309  2022-05-18     945  \n39310  2022-05-18     950  \n39311  2022-05-18     955  \n\n[39312 rows x 7 columns]",
      "text/html": "<div>\n<style scoped>\n    .dataframe tbody tr th:only-of-type {\n        vertical-align: middle;\n    }\n\n    .dataframe tbody tr th {\n        vertical-align: top;\n    }\n\n    .dataframe thead th {\n        text-align: right;\n    }\n</style>\n<table border=\"1\" class=\"dataframe\">\n  <thead>\n    <tr style=\"text-align: right;\">\n      <th></th>\n      <th>Unnamed: 0</th>\n      <th>symbol</th>\n      <th>date</th>\n      <th>volume</th>\n      <th>close</th>\n      <th>day</th>\n      <th>minute</th>\n    </tr>\n  </thead>\n  <tbody>\n    <tr>\n      <th>0</th>\n      <td>0</td>\n      <td>SPY</td>\n      <td>2022-03-21 09:30:00</td>\n      <td>4363511</td>\n      <td>445.790009</td>\n      <td>2022-03-21</td>\n      <td>570</td>\n    </tr>\n    <tr>\n      <th>1</th>\n      <td>1</td>\n      <td>SPY</td>\n      <td>2022-03-21 09:35:00</td>\n      <td>2008084</td>\n      <td>446.260010</td>\n      <td>2022-03-21</td>\n      <td>575</td>\n    </tr>\n    <tr>\n      <th>2</th>\n      <td>2</td>\n      <td>SPY</td>\n      <td>2022-03-21 09:40:00</td>\n      <td>1324533</td>\n      <td>445.839996</td>\n      <td>2022-03-21</td>\n      <td>580</td>\n    </tr>\n    <tr>\n      <th>3</th>\n      <td>3</td>\n      <td>SPY</td>\n      <td>2022-03-21 09:45:00</td>\n      <td>1577899</td>\n      <td>444.989990</td>\n      <td>2022-03-21</td>\n      <td>585</td>\n    </tr>\n    <tr>\n      <th>4</th>\n      <td>4</td>\n      <td>SPY</td>\n      <td>2022-03-21 09:50:00</td>\n      <td>1540934</td>\n      <td>443.920013</td>\n      <td>2022-03-21</td>\n      <td>590</td>\n    </tr>\n    <tr>\n      <th>...</th>\n      <td>...</td>\n      <td>...</td>\n      <td>...</td>\n      <td>...</td>\n      <td>...</td>\n      <td>...</td>\n      <td>...</td>\n    </tr>\n    <tr>\n      <th>39307</th>\n      <td>39307</td>\n      <td>CSCO</td>\n      <td>2022-05-18 15:35:00</td>\n      <td>493278</td>\n      <td>48.615002</td>\n      <td>2022-05-18</td>\n      <td>935</td>\n    </tr>\n    <tr>\n      <th>39308</th>\n      <td>39308</td>\n      <td>CSCO</td>\n      <td>2022-05-18 15:40:00</td>\n      <td>694958</td>\n      <td>48.529999</td>\n      <td>2022-05-18</td>\n      <td>940</td>\n    </tr>\n    <tr>\n      <th>39309</th>\n      <td>39309</td>\n      <td>CSCO</td>\n      <td>2022-05-18 15:45:00</td>\n      <td>1138759</td>\n      <td>48.330002</td>\n      <td>2022-05-18</td>\n      <td>945</td>\n    </tr>\n    <tr>\n      <th>39310</th>\n      <td>39310</td>\n      <td>CSCO</td>\n      <td>2022-05-18 15:50:00</td>\n      <td>1206911</td>\n      <td>48.330002</td>\n      <td>2022-05-18</td>\n      <td>950</td>\n    </tr>\n    <tr>\n      <th>39311</th>\n      <td>39311</td>\n      <td>CSCO</td>\n      <td>2022-05-18 15:55:00</td>\n      <td>2550993</td>\n      <td>48.590000</td>\n      <td>2022-05-18</td>\n      <td>955</td>\n    </tr>\n  </tbody>\n</table>\n<p>39312 rows × 7 columns</p>\n</div>"
     },
     "execution_count": 59,
     "metadata": {},
     "output_type": "execute_result"
    }
   ],
   "source": [
    "data = pd.read_csv('data//tech_sector_5m_20220519.csv')\n",
    "data"
   ],
   "metadata": {
    "collapsed": false,
    "pycharm": {
     "name": "#%%\n"
    }
   }
  },
  {
   "cell_type": "code",
   "execution_count": 60,
   "outputs": [
    {
     "data": {
      "text/plain": "Index(['Unnamed: 0', 'symbol', 'date', 'volume', 'close', 'day', 'minute'], dtype='object')"
     },
     "execution_count": 60,
     "metadata": {},
     "output_type": "execute_result"
    }
   ],
   "source": [
    "data.columns"
   ],
   "metadata": {
    "collapsed": false,
    "pycharm": {
     "name": "#%%\n"
    }
   }
  },
  {
   "cell_type": "code",
   "execution_count": 60,
   "outputs": [],
   "source": [],
   "metadata": {
    "collapsed": false,
    "pycharm": {
     "name": "#%%\n"
    }
   }
  },
  {
   "cell_type": "code",
   "execution_count": 61,
   "outputs": [
    {
     "data": {
      "text/plain": "   Unnamed: 0 symbol                 date   volume       close         day  \\\n0           0    SPY  2022-03-21 09:30:00  4363511  445.790009  2022-03-21   \n1           1    SPY  2022-03-21 09:35:00  2008084  446.260010  2022-03-21   \n2           2    SPY  2022-03-21 09:40:00  1324533  445.839996  2022-03-21   \n3           3    SPY  2022-03-21 09:45:00  1577899  444.989990  2022-03-21   \n4           4    SPY  2022-03-21 09:50:00  1540934  443.920013  2022-03-21   \n\n   minute  \n0     570  \n1     575  \n2     580  \n3     585  \n4     590  ",
      "text/html": "<div>\n<style scoped>\n    .dataframe tbody tr th:only-of-type {\n        vertical-align: middle;\n    }\n\n    .dataframe tbody tr th {\n        vertical-align: top;\n    }\n\n    .dataframe thead th {\n        text-align: right;\n    }\n</style>\n<table border=\"1\" class=\"dataframe\">\n  <thead>\n    <tr style=\"text-align: right;\">\n      <th></th>\n      <th>Unnamed: 0</th>\n      <th>symbol</th>\n      <th>date</th>\n      <th>volume</th>\n      <th>close</th>\n      <th>day</th>\n      <th>minute</th>\n    </tr>\n  </thead>\n  <tbody>\n    <tr>\n      <th>0</th>\n      <td>0</td>\n      <td>SPY</td>\n      <td>2022-03-21 09:30:00</td>\n      <td>4363511</td>\n      <td>445.790009</td>\n      <td>2022-03-21</td>\n      <td>570</td>\n    </tr>\n    <tr>\n      <th>1</th>\n      <td>1</td>\n      <td>SPY</td>\n      <td>2022-03-21 09:35:00</td>\n      <td>2008084</td>\n      <td>446.260010</td>\n      <td>2022-03-21</td>\n      <td>575</td>\n    </tr>\n    <tr>\n      <th>2</th>\n      <td>2</td>\n      <td>SPY</td>\n      <td>2022-03-21 09:40:00</td>\n      <td>1324533</td>\n      <td>445.839996</td>\n      <td>2022-03-21</td>\n      <td>580</td>\n    </tr>\n    <tr>\n      <th>3</th>\n      <td>3</td>\n      <td>SPY</td>\n      <td>2022-03-21 09:45:00</td>\n      <td>1577899</td>\n      <td>444.989990</td>\n      <td>2022-03-21</td>\n      <td>585</td>\n    </tr>\n    <tr>\n      <th>4</th>\n      <td>4</td>\n      <td>SPY</td>\n      <td>2022-03-21 09:50:00</td>\n      <td>1540934</td>\n      <td>443.920013</td>\n      <td>2022-03-21</td>\n      <td>590</td>\n    </tr>\n  </tbody>\n</table>\n</div>"
     },
     "execution_count": 61,
     "metadata": {},
     "output_type": "execute_result"
    }
   ],
   "source": [
    "stocks = pd.DataFrame(data)\n",
    "stocks.head()"
   ],
   "metadata": {
    "collapsed": false,
    "pycharm": {
     "name": "#%%\n"
    }
   }
  },
  {
   "cell_type": "code",
   "execution_count": 62,
   "outputs": [],
   "source": [
    "stocks['close_lag1']= stocks.groupby(['symbol','day'])['close'].shift(1)\n",
    "stocks['close_lead1']= stocks.groupby(['symbol','day'])['close'].shift(-1)\n",
    "# Calculate netxt return\n",
    "stocks['next_ret'] = stocks['close']/stocks['close_lead1'] -1\n",
    "## Calculate returns and agged returns\n",
    "stocks['ret'] = stocks['close']/stocks['close_lag1'] -1\n",
    "stocks['prev1_ret']= stocks.groupby('day')['ret'].shift(1)\n",
    "stocks['prev2_ret']= stocks.groupby('day')['prev1_ret'].shift(1)\n",
    "stocks['prev3_ret']= stocks.groupby('day')['prev2_ret'].shift(1)\n",
    "stocks['prev4_ret']= stocks.groupby('day')['prev3_ret'].shift(1)\n",
    "## Calculate Money flow\n",
    "stocks['money_flow'] = stocks['volume']*stocks['ret']\n",
    "stocks['prev1_money_flow']= stocks.groupby(['symbol','day'])['money_flow'].shift(1)\n",
    "stocks['prev2_money_flow']= stocks.groupby(['symbol','day'])['prev1_money_flow'].shift(1)\n",
    "stocks['prev3_money_flow']= stocks.groupby(['symbol','day'])['prev2_money_flow'].shift(1)\n",
    "stocks['prev4_money_flow']= stocks.groupby(['symbol','day'])['prev3_money_flow'].shift(1)\n",
    "stocks['prev5_money_flow']= stocks.groupby(['symbol','day'])['prev4_money_flow'].shift(1)\n",
    "stocks = stocks[[ 'day', 'minute', 'next_ret', 'ret',\n",
    "       'prev1_ret', 'prev2_ret', 'prev3_ret', 'prev4_ret',\n",
    "       'money_flow', 'prev1_money_flow', 'prev2_money_flow',\n",
    "       'prev3_money_flow', 'prev4_money_flow', 'prev5_money_flow' ]]"
   ],
   "metadata": {
    "collapsed": false,
    "pycharm": {
     "name": "#%%\n"
    }
   }
  },
  {
   "cell_type": "code",
   "execution_count": 63,
   "outputs": [
    {
     "name": "stderr",
     "output_type": "stream",
     "text": [
      "C:\\Users\\shane\\AppData\\Local\\Temp/ipykernel_17888/1312156019.py:2: SettingWithCopyWarning: \n",
      "A value is trying to be set on a copy of a slice from a DataFrame.\n",
      "Try using .loc[row_indexer,col_indexer] = value instead\n",
      "\n",
      "See the caveats in the documentation: https://pandas.pydata.org/pandas-docs/stable/user_guide/indexing.html#returning-a-view-versus-a-copy\n",
      "  spy['close_lag1']= spy.groupby('day')['close'].shift(1)\n",
      "C:\\Users\\shane\\AppData\\Local\\Temp/ipykernel_17888/1312156019.py:3: SettingWithCopyWarning: \n",
      "A value is trying to be set on a copy of a slice from a DataFrame.\n",
      "Try using .loc[row_indexer,col_indexer] = value instead\n",
      "\n",
      "See the caveats in the documentation: https://pandas.pydata.org/pandas-docs/stable/user_guide/indexing.html#returning-a-view-versus-a-copy\n",
      "  spy['close_lead1']= spy.groupby('day')['close'].shift(-1)\n",
      "C:\\Users\\shane\\AppData\\Local\\Temp/ipykernel_17888/1312156019.py:5: SettingWithCopyWarning: \n",
      "A value is trying to be set on a copy of a slice from a DataFrame.\n",
      "Try using .loc[row_indexer,col_indexer] = value instead\n",
      "\n",
      "See the caveats in the documentation: https://pandas.pydata.org/pandas-docs/stable/user_guide/indexing.html#returning-a-view-versus-a-copy\n",
      "  spy['spy_next_ret'] = spy['close']/spy['close_lead1'] -1\n",
      "C:\\Users\\shane\\AppData\\Local\\Temp/ipykernel_17888/1312156019.py:7: SettingWithCopyWarning: \n",
      "A value is trying to be set on a copy of a slice from a DataFrame.\n",
      "Try using .loc[row_indexer,col_indexer] = value instead\n",
      "\n",
      "See the caveats in the documentation: https://pandas.pydata.org/pandas-docs/stable/user_guide/indexing.html#returning-a-view-versus-a-copy\n",
      "  spy['spy_ret'] = spy['close']/spy['close_lag1'] -1\n",
      "C:\\Users\\shane\\AppData\\Local\\Temp/ipykernel_17888/1312156019.py:8: SettingWithCopyWarning: \n",
      "A value is trying to be set on a copy of a slice from a DataFrame.\n",
      "Try using .loc[row_indexer,col_indexer] = value instead\n",
      "\n",
      "See the caveats in the documentation: https://pandas.pydata.org/pandas-docs/stable/user_guide/indexing.html#returning-a-view-versus-a-copy\n",
      "  spy['spy_prev1_ret']= spy.groupby('day')['spy_ret'].shift(1)\n",
      "C:\\Users\\shane\\AppData\\Local\\Temp/ipykernel_17888/1312156019.py:9: SettingWithCopyWarning: \n",
      "A value is trying to be set on a copy of a slice from a DataFrame.\n",
      "Try using .loc[row_indexer,col_indexer] = value instead\n",
      "\n",
      "See the caveats in the documentation: https://pandas.pydata.org/pandas-docs/stable/user_guide/indexing.html#returning-a-view-versus-a-copy\n",
      "  spy['spy_prev2_ret']= spy.groupby('day')['spy_prev1_ret'].shift(1)\n",
      "C:\\Users\\shane\\AppData\\Local\\Temp/ipykernel_17888/1312156019.py:10: SettingWithCopyWarning: \n",
      "A value is trying to be set on a copy of a slice from a DataFrame.\n",
      "Try using .loc[row_indexer,col_indexer] = value instead\n",
      "\n",
      "See the caveats in the documentation: https://pandas.pydata.org/pandas-docs/stable/user_guide/indexing.html#returning-a-view-versus-a-copy\n",
      "  spy['spy_prev3_ret']= spy.groupby('day')['spy_prev2_ret'].shift(1)\n",
      "C:\\Users\\shane\\AppData\\Local\\Temp/ipykernel_17888/1312156019.py:11: SettingWithCopyWarning: \n",
      "A value is trying to be set on a copy of a slice from a DataFrame.\n",
      "Try using .loc[row_indexer,col_indexer] = value instead\n",
      "\n",
      "See the caveats in the documentation: https://pandas.pydata.org/pandas-docs/stable/user_guide/indexing.html#returning-a-view-versus-a-copy\n",
      "  spy['spy_prev4_ret']= spy.groupby('day')['spy_prev3_ret'].shift(1)\n",
      "C:\\Users\\shane\\AppData\\Local\\Temp/ipykernel_17888/1312156019.py:13: SettingWithCopyWarning: \n",
      "A value is trying to be set on a copy of a slice from a DataFrame.\n",
      "Try using .loc[row_indexer,col_indexer] = value instead\n",
      "\n",
      "See the caveats in the documentation: https://pandas.pydata.org/pandas-docs/stable/user_guide/indexing.html#returning-a-view-versus-a-copy\n",
      "  spy['spy_money_flow'] = spy['volume']*spy['spy_ret']\n",
      "C:\\Users\\shane\\AppData\\Local\\Temp/ipykernel_17888/1312156019.py:14: SettingWithCopyWarning: \n",
      "A value is trying to be set on a copy of a slice from a DataFrame.\n",
      "Try using .loc[row_indexer,col_indexer] = value instead\n",
      "\n",
      "See the caveats in the documentation: https://pandas.pydata.org/pandas-docs/stable/user_guide/indexing.html#returning-a-view-versus-a-copy\n",
      "  spy['spy_prev1_money_flow']= spy.groupby('day')['spy_money_flow'].shift(1)\n",
      "C:\\Users\\shane\\AppData\\Local\\Temp/ipykernel_17888/1312156019.py:15: SettingWithCopyWarning: \n",
      "A value is trying to be set on a copy of a slice from a DataFrame.\n",
      "Try using .loc[row_indexer,col_indexer] = value instead\n",
      "\n",
      "See the caveats in the documentation: https://pandas.pydata.org/pandas-docs/stable/user_guide/indexing.html#returning-a-view-versus-a-copy\n",
      "  spy['spy_prev2_money_flow']= spy.groupby('day')['spy_prev1_money_flow'].shift(1)\n",
      "C:\\Users\\shane\\AppData\\Local\\Temp/ipykernel_17888/1312156019.py:16: SettingWithCopyWarning: \n",
      "A value is trying to be set on a copy of a slice from a DataFrame.\n",
      "Try using .loc[row_indexer,col_indexer] = value instead\n",
      "\n",
      "See the caveats in the documentation: https://pandas.pydata.org/pandas-docs/stable/user_guide/indexing.html#returning-a-view-versus-a-copy\n",
      "  spy['spy_prev3_money_flow']= spy.groupby('day')['spy_prev2_money_flow'].shift(1)\n",
      "C:\\Users\\shane\\AppData\\Local\\Temp/ipykernel_17888/1312156019.py:17: SettingWithCopyWarning: \n",
      "A value is trying to be set on a copy of a slice from a DataFrame.\n",
      "Try using .loc[row_indexer,col_indexer] = value instead\n",
      "\n",
      "See the caveats in the documentation: https://pandas.pydata.org/pandas-docs/stable/user_guide/indexing.html#returning-a-view-versus-a-copy\n",
      "  spy['spy_prev4_money_flow']= spy.groupby('day')['spy_prev3_money_flow'].shift(1)\n",
      "C:\\Users\\shane\\AppData\\Local\\Temp/ipykernel_17888/1312156019.py:18: SettingWithCopyWarning: \n",
      "A value is trying to be set on a copy of a slice from a DataFrame.\n",
      "Try using .loc[row_indexer,col_indexer] = value instead\n",
      "\n",
      "See the caveats in the documentation: https://pandas.pydata.org/pandas-docs/stable/user_guide/indexing.html#returning-a-view-versus-a-copy\n",
      "  spy['spy_prev5_money_flow']= spy.groupby('day')['spy_prev4_money_flow'].shift(1)\n"
     ]
    }
   ],
   "source": [
    "spy = data[data['symbol'] == 'SPY']\n",
    "spy['close_lag1']= spy.groupby('day')['close'].shift(1)\n",
    "spy['close_lead1']= spy.groupby('day')['close'].shift(-1)\n",
    "# Calculate netxt return\n",
    "spy['spy_next_ret'] = spy['close']/spy['close_lead1'] -1\n",
    "## Calculate returns and agged returns\n",
    "spy['spy_ret'] = spy['close']/spy['close_lag1'] -1\n",
    "spy['spy_prev1_ret']= spy.groupby('day')['spy_ret'].shift(1)\n",
    "spy['spy_prev2_ret']= spy.groupby('day')['spy_prev1_ret'].shift(1)\n",
    "spy['spy_prev3_ret']= spy.groupby('day')['spy_prev2_ret'].shift(1)\n",
    "spy['spy_prev4_ret']= spy.groupby('day')['spy_prev3_ret'].shift(1)\n",
    "## Calculate Money flow\n",
    "spy['spy_money_flow'] = spy['volume']*spy['spy_ret']\n",
    "spy['spy_prev1_money_flow']= spy.groupby('day')['spy_money_flow'].shift(1)\n",
    "spy['spy_prev2_money_flow']= spy.groupby('day')['spy_prev1_money_flow'].shift(1)\n",
    "spy['spy_prev3_money_flow']= spy.groupby('day')['spy_prev2_money_flow'].shift(1)\n",
    "spy['spy_prev4_money_flow']= spy.groupby('day')['spy_prev3_money_flow'].shift(1)\n",
    "spy['spy_prev5_money_flow']= spy.groupby('day')['spy_prev4_money_flow'].shift(1)\n",
    "spy = spy[[ 'day', 'minute', 'spy_next_ret', 'spy_ret',\n",
    "       'spy_prev1_ret', 'spy_prev2_ret', 'spy_prev3_ret', 'spy_prev4_ret',\n",
    "       'spy_money_flow', 'spy_prev1_money_flow', 'spy_prev2_money_flow',\n",
    "       'spy_prev3_money_flow', 'spy_prev4_money_flow', 'spy_prev5_money_flow' ]]"
   ],
   "metadata": {
    "collapsed": false,
    "pycharm": {
     "name": "#%%\n"
    }
   }
  },
  {
   "cell_type": "code",
   "execution_count": 64,
   "outputs": [
    {
     "name": "stderr",
     "output_type": "stream",
     "text": [
      "C:\\Users\\shane\\AppData\\Local\\Temp/ipykernel_17888/2170491520.py:2: SettingWithCopyWarning: \n",
      "A value is trying to be set on a copy of a slice from a DataFrame.\n",
      "Try using .loc[row_indexer,col_indexer] = value instead\n",
      "\n",
      "See the caveats in the documentation: https://pandas.pydata.org/pandas-docs/stable/user_guide/indexing.html#returning-a-view-versus-a-copy\n",
      "  xlk['close_lag1']= xlk.groupby('day')['close'].shift(1)\n",
      "C:\\Users\\shane\\AppData\\Local\\Temp/ipykernel_17888/2170491520.py:3: SettingWithCopyWarning: \n",
      "A value is trying to be set on a copy of a slice from a DataFrame.\n",
      "Try using .loc[row_indexer,col_indexer] = value instead\n",
      "\n",
      "See the caveats in the documentation: https://pandas.pydata.org/pandas-docs/stable/user_guide/indexing.html#returning-a-view-versus-a-copy\n",
      "  xlk['close_lead1']= xlk.groupby('day')['close'].shift(-1)\n",
      "C:\\Users\\shane\\AppData\\Local\\Temp/ipykernel_17888/2170491520.py:5: SettingWithCopyWarning: \n",
      "A value is trying to be set on a copy of a slice from a DataFrame.\n",
      "Try using .loc[row_indexer,col_indexer] = value instead\n",
      "\n",
      "See the caveats in the documentation: https://pandas.pydata.org/pandas-docs/stable/user_guide/indexing.html#returning-a-view-versus-a-copy\n",
      "  xlk['xlk_next_ret'] = xlk['close'] / xlk['close_lead1'] - 1\n",
      "C:\\Users\\shane\\AppData\\Local\\Temp/ipykernel_17888/2170491520.py:7: SettingWithCopyWarning: \n",
      "A value is trying to be set on a copy of a slice from a DataFrame.\n",
      "Try using .loc[row_indexer,col_indexer] = value instead\n",
      "\n",
      "See the caveats in the documentation: https://pandas.pydata.org/pandas-docs/stable/user_guide/indexing.html#returning-a-view-versus-a-copy\n",
      "  xlk['xlk_ret'] = xlk['close'] / xlk['close_lag1'] - 1\n",
      "C:\\Users\\shane\\AppData\\Local\\Temp/ipykernel_17888/2170491520.py:8: SettingWithCopyWarning: \n",
      "A value is trying to be set on a copy of a slice from a DataFrame.\n",
      "Try using .loc[row_indexer,col_indexer] = value instead\n",
      "\n",
      "See the caveats in the documentation: https://pandas.pydata.org/pandas-docs/stable/user_guide/indexing.html#returning-a-view-versus-a-copy\n",
      "  xlk['xlk_prev1_ret']= xlk.groupby('day')['xlk_ret'].shift(1)\n",
      "C:\\Users\\shane\\AppData\\Local\\Temp/ipykernel_17888/2170491520.py:9: SettingWithCopyWarning: \n",
      "A value is trying to be set on a copy of a slice from a DataFrame.\n",
      "Try using .loc[row_indexer,col_indexer] = value instead\n",
      "\n",
      "See the caveats in the documentation: https://pandas.pydata.org/pandas-docs/stable/user_guide/indexing.html#returning-a-view-versus-a-copy\n",
      "  xlk['xlk_prev2_ret']= xlk.groupby('day')['xlk_prev1_ret'].shift(1)\n",
      "C:\\Users\\shane\\AppData\\Local\\Temp/ipykernel_17888/2170491520.py:10: SettingWithCopyWarning: \n",
      "A value is trying to be set on a copy of a slice from a DataFrame.\n",
      "Try using .loc[row_indexer,col_indexer] = value instead\n",
      "\n",
      "See the caveats in the documentation: https://pandas.pydata.org/pandas-docs/stable/user_guide/indexing.html#returning-a-view-versus-a-copy\n",
      "  xlk['xlk_prev3_ret']= xlk.groupby('day')['xlk_prev2_ret'].shift(1)\n",
      "C:\\Users\\shane\\AppData\\Local\\Temp/ipykernel_17888/2170491520.py:11: SettingWithCopyWarning: \n",
      "A value is trying to be set on a copy of a slice from a DataFrame.\n",
      "Try using .loc[row_indexer,col_indexer] = value instead\n",
      "\n",
      "See the caveats in the documentation: https://pandas.pydata.org/pandas-docs/stable/user_guide/indexing.html#returning-a-view-versus-a-copy\n",
      "  xlk['xlk_prev4_ret']= xlk.groupby('day')['xlk_prev3_ret'].shift(1)\n",
      "C:\\Users\\shane\\AppData\\Local\\Temp/ipykernel_17888/2170491520.py:13: SettingWithCopyWarning: \n",
      "A value is trying to be set on a copy of a slice from a DataFrame.\n",
      "Try using .loc[row_indexer,col_indexer] = value instead\n",
      "\n",
      "See the caveats in the documentation: https://pandas.pydata.org/pandas-docs/stable/user_guide/indexing.html#returning-a-view-versus-a-copy\n",
      "  xlk['xlk_money_flow'] = xlk['volume'] * xlk['xlk_ret']\n",
      "C:\\Users\\shane\\AppData\\Local\\Temp/ipykernel_17888/2170491520.py:14: SettingWithCopyWarning: \n",
      "A value is trying to be set on a copy of a slice from a DataFrame.\n",
      "Try using .loc[row_indexer,col_indexer] = value instead\n",
      "\n",
      "See the caveats in the documentation: https://pandas.pydata.org/pandas-docs/stable/user_guide/indexing.html#returning-a-view-versus-a-copy\n",
      "  xlk['xlk_prev1_money_flow']= xlk.groupby('day')['xlk_money_flow'].shift(1)\n",
      "C:\\Users\\shane\\AppData\\Local\\Temp/ipykernel_17888/2170491520.py:15: SettingWithCopyWarning: \n",
      "A value is trying to be set on a copy of a slice from a DataFrame.\n",
      "Try using .loc[row_indexer,col_indexer] = value instead\n",
      "\n",
      "See the caveats in the documentation: https://pandas.pydata.org/pandas-docs/stable/user_guide/indexing.html#returning-a-view-versus-a-copy\n",
      "  xlk['xlk_prev2_money_flow']= xlk.groupby('day')['xlk_prev1_money_flow'].shift(1)\n",
      "C:\\Users\\shane\\AppData\\Local\\Temp/ipykernel_17888/2170491520.py:16: SettingWithCopyWarning: \n",
      "A value is trying to be set on a copy of a slice from a DataFrame.\n",
      "Try using .loc[row_indexer,col_indexer] = value instead\n",
      "\n",
      "See the caveats in the documentation: https://pandas.pydata.org/pandas-docs/stable/user_guide/indexing.html#returning-a-view-versus-a-copy\n",
      "  xlk['xlk_prev3_money_flow']= xlk.groupby('day')['xlk_prev2_money_flow'].shift(1)\n",
      "C:\\Users\\shane\\AppData\\Local\\Temp/ipykernel_17888/2170491520.py:17: SettingWithCopyWarning: \n",
      "A value is trying to be set on a copy of a slice from a DataFrame.\n",
      "Try using .loc[row_indexer,col_indexer] = value instead\n",
      "\n",
      "See the caveats in the documentation: https://pandas.pydata.org/pandas-docs/stable/user_guide/indexing.html#returning-a-view-versus-a-copy\n",
      "  xlk['xlk_prev4_money_flow']= xlk.groupby('day')['xlk_prev3_money_flow'].shift(1)\n",
      "C:\\Users\\shane\\AppData\\Local\\Temp/ipykernel_17888/2170491520.py:18: SettingWithCopyWarning: \n",
      "A value is trying to be set on a copy of a slice from a DataFrame.\n",
      "Try using .loc[row_indexer,col_indexer] = value instead\n",
      "\n",
      "See the caveats in the documentation: https://pandas.pydata.org/pandas-docs/stable/user_guide/indexing.html#returning-a-view-versus-a-copy\n",
      "  xlk['xlk_prev5_money_flow']= xlk.groupby('day')['xlk_prev4_money_flow'].shift(1)\n"
     ]
    },
    {
     "data": {
      "text/plain": "Index(['day', 'minute', 'xlk_next_ret', 'xlk_ret', 'xlk_prev1_ret',\n       'xlk_prev2_ret', 'xlk_prev3_ret', 'xlk_prev4_ret', 'xlk_money_flow',\n       'xlk_prev1_money_flow', 'xlk_prev2_money_flow', 'xlk_prev3_money_flow',\n       'xlk_prev4_money_flow', 'xlk_prev5_money_flow'],\n      dtype='object')"
     },
     "execution_count": 64,
     "metadata": {},
     "output_type": "execute_result"
    }
   ],
   "source": [
    "xlk = data[data.symbol == 'XLK']\n",
    "xlk['close_lag1']= xlk.groupby('day')['close'].shift(1)\n",
    "xlk['close_lead1']= xlk.groupby('day')['close'].shift(-1)\n",
    "# Calculate netxt return\n",
    "xlk['xlk_next_ret'] = xlk['close'] / xlk['close_lead1'] - 1\n",
    "## Calculate returns and agged returns\n",
    "xlk['xlk_ret'] = xlk['close'] / xlk['close_lag1'] - 1\n",
    "xlk['xlk_prev1_ret']= xlk.groupby('day')['xlk_ret'].shift(1)\n",
    "xlk['xlk_prev2_ret']= xlk.groupby('day')['xlk_prev1_ret'].shift(1)\n",
    "xlk['xlk_prev3_ret']= xlk.groupby('day')['xlk_prev2_ret'].shift(1)\n",
    "xlk['xlk_prev4_ret']= xlk.groupby('day')['xlk_prev3_ret'].shift(1)\n",
    "## Calculate Money flow\n",
    "xlk['xlk_money_flow'] = xlk['volume'] * xlk['xlk_ret']\n",
    "xlk['xlk_prev1_money_flow']= xlk.groupby('day')['xlk_money_flow'].shift(1)\n",
    "xlk['xlk_prev2_money_flow']= xlk.groupby('day')['xlk_prev1_money_flow'].shift(1)\n",
    "xlk['xlk_prev3_money_flow']= xlk.groupby('day')['xlk_prev2_money_flow'].shift(1)\n",
    "xlk['xlk_prev4_money_flow']= xlk.groupby('day')['xlk_prev3_money_flow'].shift(1)\n",
    "xlk['xlk_prev5_money_flow']= xlk.groupby('day')['xlk_prev4_money_flow'].shift(1)\n",
    "xlk = xlk[['day', 'minute', 'xlk_next_ret', 'xlk_ret',\n",
    "       'xlk_prev1_ret', 'xlk_prev2_ret', 'xlk_prev3_ret', 'xlk_prev4_ret',\n",
    "       'xlk_money_flow', 'xlk_prev1_money_flow', 'xlk_prev2_money_flow',\n",
    "       'xlk_prev3_money_flow', 'xlk_prev4_money_flow', 'xlk_prev5_money_flow']]\n",
    "xlk.columns"
   ],
   "metadata": {
    "collapsed": false,
    "pycharm": {
     "name": "#%%\n"
    }
   }
  },
  {
   "cell_type": "code",
   "execution_count": 65,
   "outputs": [],
   "source": [
    "stocks1 = pd.merge(stocks,spy, on=['day', 'minute'], how='left' )\n",
    "stocks= pd.merge(stocks1, xlk, on=['day', 'minute'], how='left')"
   ],
   "metadata": {
    "collapsed": false,
    "pycharm": {
     "name": "#%%\n"
    }
   }
  },
  {
   "cell_type": "code",
   "execution_count": 66,
   "outputs": [],
   "source": [
    "stocks = stocks.dropna()"
   ],
   "metadata": {
    "collapsed": false,
    "pycharm": {
     "name": "#%%\n"
    }
   }
  },
  {
   "cell_type": "code",
   "execution_count": 66,
   "outputs": [],
   "source": [
    "\n"
   ],
   "metadata": {
    "collapsed": false,
    "pycharm": {
     "name": "#%%\n"
    }
   }
  },
  {
   "cell_type": "code",
   "execution_count": 68,
   "outputs": [],
   "source": [
    "stocks['x0']=1\n",
    "vars0= ['x0' ,\n",
    "        'spy_ret','spy_prev1_ret', 'spy_prev2_ret', 'spy_prev3_ret', 'spy_prev4_ret',\n",
    "       'spy_prev4_ret','spy_money_flow', 'spy_prev1_money_flow', 'spy_prev2_money_flow',\n",
    "       'spy_prev3_money_flow', 'spy_prev4_money_flow', 'spy_prev5_money_flow',\n",
    "\n",
    "       'xlk_prev4_ret','xlk_ret', 'xlk_prev1_ret','xlk_prev2_ret', 'xlk_prev3_ret', 'xlk_prev4_ret',\n",
    "        'xlk_money_flow', 'xlk_prev1_money_flow', 'xlk_prev2_money_flow',\n",
    "        'xlk_prev3_money_flow','xlk_prev4_money_flow', 'xlk_prev5_money_flow' ,\n",
    "\n",
    "        'ret', 'prev1_ret', 'prev2_ret', 'prev3_ret', 'prev4_ret',\n",
    "        'prev4_ret', 'money_flow','prev1_money_flow', 'prev2_money_flow',\n",
    "        'prev3_money_flow','prev4_money_flow', 'prev5_money_flow'\n",
    "       ]"
   ],
   "metadata": {
    "collapsed": false,
    "pycharm": {
     "name": "#%%\n"
    }
   }
  },
  {
   "cell_type": "code",
   "execution_count": 69,
   "outputs": [
    {
     "data": {
      "text/plain": "              day  minute  next_ret       ret  prev1_ret  prev2_ret  \\\n6      2022-03-21     600 -0.000045 -0.000874   0.000063  -0.002404   \n7      2022-03-21     605  0.000361  0.000045  -0.000874   0.000063   \n8      2022-03-21     610 -0.000248 -0.000361   0.000045  -0.000874   \n9      2022-03-21     615  0.000496  0.000248  -0.000361   0.000045   \n10     2022-03-21     620  0.000722 -0.000496   0.000248  -0.000361   \n...           ...     ...       ...       ...        ...        ...   \n39306  2022-05-18     930 -0.004525  0.001449   0.000310  -0.001550   \n39307  2022-05-18     935  0.001752  0.004546   0.001449   0.000310   \n39308  2022-05-18     940  0.004138 -0.001748   0.004546   0.001449   \n39309  2022-05-18     945  0.000000 -0.004121  -0.001748   0.004546   \n39310  2022-05-18     950 -0.005351  0.000000  -0.004121  -0.001748   \n\n       prev3_ret  prev4_ret   money_flow  prev1_money_flow  ...  \\\n6      -0.001907  -0.000941  -929.561420         78.458299  ...   \n7      -0.002404  -0.001907    54.872448       -929.561420  ...   \n8       0.000063  -0.002404  -388.492258         54.872448  ...   \n9      -0.000874   0.000063   240.964449       -388.492258  ...   \n10      0.000045  -0.000874  -450.209114        240.964449  ...   \n...          ...        ...          ...               ...  ...   \n39306   0.000000  -0.001548   619.738830         97.007642  ...   \n39307  -0.001550   0.000000  2242.416802        619.738830  ...   \n39308   0.000310  -0.001550 -1215.127898       2242.416802  ...   \n39309   0.001449   0.000310 -4692.939017      -1215.127898  ...   \n39310   0.004546   0.001449     0.000000      -4692.939017  ...   \n\n       xlk_prev2_ret  xlk_prev3_ret  xlk_prev4_ret  xlk_money_flow  \\\n6          -0.004474      -0.004840       0.001422     -383.010743   \n7           0.000130      -0.004474      -0.004840       12.413011   \n8          -0.002019       0.000130      -0.004474     -147.997803   \n9           0.000065      -0.002019       0.000130      -12.516775   \n10         -0.001305       0.000065      -0.002019     -164.801012   \n...              ...            ...            ...             ...   \n39306      -0.001665       0.000833      -0.000303       54.451139   \n39307       0.000000      -0.001665       0.000833     1258.526453   \n39308       0.000227       0.000000      -0.001665     -572.583889   \n39309       0.004243       0.000227       0.000000     -271.631007   \n39310      -0.002641       0.004243       0.000227     -957.716070   \n\n       xlk_prev1_money_flow  xlk_prev2_money_flow  xlk_prev3_money_flow  \\\n6                 22.929684           -845.618739           -810.857606   \n7               -383.010743             22.929684           -845.618739   \n8                 12.413011           -383.010743             22.929684   \n9               -147.997803             12.413011           -383.010743   \n10               -12.516775           -147.997803             12.413011   \n...                     ...                   ...                   ...   \n39306              0.000000           -380.262386            108.015670   \n39307             54.451139              0.000000           -380.262386   \n39308           1258.526453             54.451139              0.000000   \n39309           -572.583889           1258.526453             54.451139   \n39310           -271.631007           -572.583889           1258.526453   \n\n       xlk_prev4_money_flow  xlk_prev5_money_flow  x0  \n6                221.339077            237.625372   1  \n7               -810.857606            221.339077   1  \n8               -845.618739           -810.857606   1  \n9                 22.929684           -845.618739   1  \n10              -383.010743             22.929684   1  \n...                     ...                   ...  ..  \n39306            -44.136601             17.149483   1  \n39307            108.015670            -44.136601   1  \n39308           -380.262386            108.015670   1  \n39309              0.000000           -380.262386   1  \n39310             54.451139              0.000000   1  \n\n[35784 rows x 39 columns]",
      "text/html": "<div>\n<style scoped>\n    .dataframe tbody tr th:only-of-type {\n        vertical-align: middle;\n    }\n\n    .dataframe tbody tr th {\n        vertical-align: top;\n    }\n\n    .dataframe thead th {\n        text-align: right;\n    }\n</style>\n<table border=\"1\" class=\"dataframe\">\n  <thead>\n    <tr style=\"text-align: right;\">\n      <th></th>\n      <th>day</th>\n      <th>minute</th>\n      <th>next_ret</th>\n      <th>ret</th>\n      <th>prev1_ret</th>\n      <th>prev2_ret</th>\n      <th>prev3_ret</th>\n      <th>prev4_ret</th>\n      <th>money_flow</th>\n      <th>prev1_money_flow</th>\n      <th>...</th>\n      <th>xlk_prev2_ret</th>\n      <th>xlk_prev3_ret</th>\n      <th>xlk_prev4_ret</th>\n      <th>xlk_money_flow</th>\n      <th>xlk_prev1_money_flow</th>\n      <th>xlk_prev2_money_flow</th>\n      <th>xlk_prev3_money_flow</th>\n      <th>xlk_prev4_money_flow</th>\n      <th>xlk_prev5_money_flow</th>\n      <th>x0</th>\n    </tr>\n  </thead>\n  <tbody>\n    <tr>\n      <th>6</th>\n      <td>2022-03-21</td>\n      <td>600</td>\n      <td>-0.000045</td>\n      <td>-0.000874</td>\n      <td>0.000063</td>\n      <td>-0.002404</td>\n      <td>-0.001907</td>\n      <td>-0.000941</td>\n      <td>-929.561420</td>\n      <td>78.458299</td>\n      <td>...</td>\n      <td>-0.004474</td>\n      <td>-0.004840</td>\n      <td>0.001422</td>\n      <td>-383.010743</td>\n      <td>22.929684</td>\n      <td>-845.618739</td>\n      <td>-810.857606</td>\n      <td>221.339077</td>\n      <td>237.625372</td>\n      <td>1</td>\n    </tr>\n    <tr>\n      <th>7</th>\n      <td>2022-03-21</td>\n      <td>605</td>\n      <td>0.000361</td>\n      <td>0.000045</td>\n      <td>-0.000874</td>\n      <td>0.000063</td>\n      <td>-0.002404</td>\n      <td>-0.001907</td>\n      <td>54.872448</td>\n      <td>-929.561420</td>\n      <td>...</td>\n      <td>0.000130</td>\n      <td>-0.004474</td>\n      <td>-0.004840</td>\n      <td>12.413011</td>\n      <td>-383.010743</td>\n      <td>22.929684</td>\n      <td>-845.618739</td>\n      <td>-810.857606</td>\n      <td>221.339077</td>\n      <td>1</td>\n    </tr>\n    <tr>\n      <th>8</th>\n      <td>2022-03-21</td>\n      <td>610</td>\n      <td>-0.000248</td>\n      <td>-0.000361</td>\n      <td>0.000045</td>\n      <td>-0.000874</td>\n      <td>0.000063</td>\n      <td>-0.002404</td>\n      <td>-388.492258</td>\n      <td>54.872448</td>\n      <td>...</td>\n      <td>-0.002019</td>\n      <td>0.000130</td>\n      <td>-0.004474</td>\n      <td>-147.997803</td>\n      <td>12.413011</td>\n      <td>-383.010743</td>\n      <td>22.929684</td>\n      <td>-845.618739</td>\n      <td>-810.857606</td>\n      <td>1</td>\n    </tr>\n    <tr>\n      <th>9</th>\n      <td>2022-03-21</td>\n      <td>615</td>\n      <td>0.000496</td>\n      <td>0.000248</td>\n      <td>-0.000361</td>\n      <td>0.000045</td>\n      <td>-0.000874</td>\n      <td>0.000063</td>\n      <td>240.964449</td>\n      <td>-388.492258</td>\n      <td>...</td>\n      <td>0.000065</td>\n      <td>-0.002019</td>\n      <td>0.000130</td>\n      <td>-12.516775</td>\n      <td>-147.997803</td>\n      <td>12.413011</td>\n      <td>-383.010743</td>\n      <td>22.929684</td>\n      <td>-845.618739</td>\n      <td>1</td>\n    </tr>\n    <tr>\n      <th>10</th>\n      <td>2022-03-21</td>\n      <td>620</td>\n      <td>0.000722</td>\n      <td>-0.000496</td>\n      <td>0.000248</td>\n      <td>-0.000361</td>\n      <td>0.000045</td>\n      <td>-0.000874</td>\n      <td>-450.209114</td>\n      <td>240.964449</td>\n      <td>...</td>\n      <td>-0.001305</td>\n      <td>0.000065</td>\n      <td>-0.002019</td>\n      <td>-164.801012</td>\n      <td>-12.516775</td>\n      <td>-147.997803</td>\n      <td>12.413011</td>\n      <td>-383.010743</td>\n      <td>22.929684</td>\n      <td>1</td>\n    </tr>\n    <tr>\n      <th>...</th>\n      <td>...</td>\n      <td>...</td>\n      <td>...</td>\n      <td>...</td>\n      <td>...</td>\n      <td>...</td>\n      <td>...</td>\n      <td>...</td>\n      <td>...</td>\n      <td>...</td>\n      <td>...</td>\n      <td>...</td>\n      <td>...</td>\n      <td>...</td>\n      <td>...</td>\n      <td>...</td>\n      <td>...</td>\n      <td>...</td>\n      <td>...</td>\n      <td>...</td>\n      <td>...</td>\n    </tr>\n    <tr>\n      <th>39306</th>\n      <td>2022-05-18</td>\n      <td>930</td>\n      <td>-0.004525</td>\n      <td>0.001449</td>\n      <td>0.000310</td>\n      <td>-0.001550</td>\n      <td>0.000000</td>\n      <td>-0.001548</td>\n      <td>619.738830</td>\n      <td>97.007642</td>\n      <td>...</td>\n      <td>-0.001665</td>\n      <td>0.000833</td>\n      <td>-0.000303</td>\n      <td>54.451139</td>\n      <td>0.000000</td>\n      <td>-380.262386</td>\n      <td>108.015670</td>\n      <td>-44.136601</td>\n      <td>17.149483</td>\n      <td>1</td>\n    </tr>\n    <tr>\n      <th>39307</th>\n      <td>2022-05-18</td>\n      <td>935</td>\n      <td>0.001752</td>\n      <td>0.004546</td>\n      <td>0.001449</td>\n      <td>0.000310</td>\n      <td>-0.001550</td>\n      <td>0.000000</td>\n      <td>2242.416802</td>\n      <td>619.738830</td>\n      <td>...</td>\n      <td>0.000000</td>\n      <td>-0.001665</td>\n      <td>0.000833</td>\n      <td>1258.526453</td>\n      <td>54.451139</td>\n      <td>0.000000</td>\n      <td>-380.262386</td>\n      <td>108.015670</td>\n      <td>-44.136601</td>\n      <td>1</td>\n    </tr>\n    <tr>\n      <th>39308</th>\n      <td>2022-05-18</td>\n      <td>940</td>\n      <td>0.004138</td>\n      <td>-0.001748</td>\n      <td>0.004546</td>\n      <td>0.001449</td>\n      <td>0.000310</td>\n      <td>-0.001550</td>\n      <td>-1215.127898</td>\n      <td>2242.416802</td>\n      <td>...</td>\n      <td>0.000227</td>\n      <td>0.000000</td>\n      <td>-0.001665</td>\n      <td>-572.583889</td>\n      <td>1258.526453</td>\n      <td>54.451139</td>\n      <td>0.000000</td>\n      <td>-380.262386</td>\n      <td>108.015670</td>\n      <td>1</td>\n    </tr>\n    <tr>\n      <th>39309</th>\n      <td>2022-05-18</td>\n      <td>945</td>\n      <td>0.000000</td>\n      <td>-0.004121</td>\n      <td>-0.001748</td>\n      <td>0.004546</td>\n      <td>0.001449</td>\n      <td>0.000310</td>\n      <td>-4692.939017</td>\n      <td>-1215.127898</td>\n      <td>...</td>\n      <td>0.004243</td>\n      <td>0.000227</td>\n      <td>0.000000</td>\n      <td>-271.631007</td>\n      <td>-572.583889</td>\n      <td>1258.526453</td>\n      <td>54.451139</td>\n      <td>0.000000</td>\n      <td>-380.262386</td>\n      <td>1</td>\n    </tr>\n    <tr>\n      <th>39310</th>\n      <td>2022-05-18</td>\n      <td>950</td>\n      <td>-0.005351</td>\n      <td>0.000000</td>\n      <td>-0.004121</td>\n      <td>-0.001748</td>\n      <td>0.004546</td>\n      <td>0.001449</td>\n      <td>0.000000</td>\n      <td>-4692.939017</td>\n      <td>...</td>\n      <td>-0.002641</td>\n      <td>0.004243</td>\n      <td>0.000227</td>\n      <td>-957.716070</td>\n      <td>-271.631007</td>\n      <td>-572.583889</td>\n      <td>1258.526453</td>\n      <td>54.451139</td>\n      <td>0.000000</td>\n      <td>1</td>\n    </tr>\n  </tbody>\n</table>\n<p>35784 rows × 39 columns</p>\n</div>"
     },
     "execution_count": 69,
     "metadata": {},
     "output_type": "execute_result"
    }
   ],
   "source": [
    "stocks"
   ],
   "metadata": {
    "collapsed": false,
    "pycharm": {
     "name": "#%%\n"
    }
   }
  },
  {
   "cell_type": "code",
   "execution_count": 70,
   "outputs": [],
   "source": [
    "X0= stocks[vars0]\n",
    "Y = stocks['next_ret']"
   ],
   "metadata": {
    "collapsed": false,
    "pycharm": {
     "name": "#%%\n"
    }
   }
  },
  {
   "cell_type": "code",
   "execution_count": 72,
   "outputs": [],
   "source": [
    "model3 = sm.OLS(Y,X0).fit()"
   ],
   "metadata": {
    "collapsed": false,
    "pycharm": {
     "name": "#%%\n"
    }
   }
  },
  {
   "cell_type": "code",
   "execution_count": 73,
   "outputs": [
    {
     "data": {
      "text/plain": "array(<class 'statsmodels.iolib.summary.Summary'>\n\"\"\"\n                            OLS Regression Results                            \n==============================================================================\nDep. Variable:               next_ret   R-squared:                       0.012\nModel:                            OLS   Adj. R-squared:                  0.011\nMethod:                 Least Squares   F-statistic:                     13.43\nDate:                Thu, 02 Jun 2022   Prob (F-statistic):           8.92e-73\nTime:                        20:22:25   Log-Likelihood:             1.6805e+05\nNo. Observations:               35784   AIC:                        -3.360e+05\nDf Residuals:                   35750   BIC:                        -3.357e+05\nDf Model:                          33                                         \nCovariance Type:            nonrobust                                         \n========================================================================================\n                           coef    std err          t      P>|t|      [0.025      0.975]\n----------------------------------------------------------------------------------------\nx0                    3.975e-05   1.17e-05      3.383      0.001    1.67e-05    6.28e-05\nspy_ret                  0.0976      0.033      2.996      0.003       0.034       0.162\nspy_prev1_ret            0.0501      0.033      1.539      0.124      -0.014       0.114\nspy_prev2_ret           -0.1392      0.032     -4.334      0.000      -0.202      -0.076\nspy_prev3_ret           -0.1219      0.032     -3.862      0.000      -0.184      -0.060\nspy_prev4_ret           -0.0204      0.016     -1.314      0.189      -0.051       0.010\nspy_prev4_ret           -0.0204      0.016     -1.314      0.189      -0.051       0.010\nspy_money_flow         7.13e-08   1.17e-08      6.086      0.000    4.83e-08    9.43e-08\nspy_prev1_money_flow -1.473e-08   1.25e-08     -1.181      0.238   -3.92e-08    9.73e-09\nspy_prev2_money_flow  3.296e-08   1.27e-08      2.589      0.010       8e-09    5.79e-08\nspy_prev3_money_flow  1.975e-08   1.27e-08      1.557      0.119   -5.11e-09    4.46e-08\nspy_prev4_money_flow  5.456e-08   1.22e-08      4.483      0.000    3.07e-08    7.84e-08\nspy_prev5_money_flow -2.222e-08   9.79e-09     -2.269      0.023   -4.14e-08   -3.03e-09\nxlk_prev4_ret            0.0294      0.012      2.536      0.011       0.007       0.052\nxlk_ret                 -0.0131      0.025     -0.530      0.596      -0.062       0.035\nxlk_prev1_ret           -0.1137      0.024     -4.663      0.000      -0.161      -0.066\nxlk_prev2_ret            0.0508      0.024      2.105      0.035       0.004       0.098\nxlk_prev3_ret            0.0316      0.024      1.336      0.181      -0.015       0.078\nxlk_prev4_ret            0.0294      0.012      2.536      0.011       0.007       0.052\nxlk_money_flow       -7.549e-07   6.14e-08    -12.294      0.000   -8.75e-07   -6.35e-07\nxlk_prev1_money_flow  3.804e-07   6.77e-08      5.617      0.000    2.48e-07    5.13e-07\nxlk_prev2_money_flow -1.035e-08   7.18e-08     -0.144      0.885   -1.51e-07     1.3e-07\nxlk_prev3_money_flow  4.289e-08   7.16e-08      0.599      0.549   -9.74e-08    1.83e-07\nxlk_prev4_money_flow -3.222e-07   6.69e-08     -4.819      0.000   -4.53e-07   -1.91e-07\nxlk_prev5_money_flow  5.372e-08    5.7e-08      0.943      0.346   -5.79e-08    1.65e-07\nret                      0.0111      0.010      1.150      0.250      -0.008       0.030\nprev1_ret                0.0294      0.010      3.054      0.002       0.011       0.048\nprev2_ret               -0.0036      0.009     -0.381      0.703      -0.022       0.015\nprev3_ret               -0.0084      0.009     -0.918      0.359      -0.026       0.010\nprev4_ret               -0.0044      0.004     -0.996      0.319      -0.013       0.004\nprev4_ret               -0.0044      0.004     -0.996      0.319      -0.013       0.004\nmoney_flow             2.16e-08   8.88e-09      2.432      0.015    4.19e-09     3.9e-08\nprev1_money_flow     -2.647e-08   9.16e-09     -2.891      0.004   -4.44e-08   -8.52e-09\nprev2_money_flow      5.208e-09   8.92e-09      0.584      0.559   -1.23e-08    2.27e-08\nprev3_money_flow      3.112e-08   8.71e-09      3.574      0.000    1.41e-08    4.82e-08\nprev4_money_flow     -2.812e-10   8.15e-09     -0.034      0.972   -1.63e-08    1.57e-08\nprev5_money_flow     -9.985e-09   6.63e-09     -1.506      0.132    -2.3e-08    3.01e-09\n==============================================================================\nOmnibus:                     3912.917   Durbin-Watson:                   1.995\nProb(Omnibus):                  0.000   Jarque-Bera (JB):            36754.864\nSkew:                          -0.044   Prob(JB):                         0.00\nKurtosis:                       7.964   Cond. No.                     1.19e+16\n==============================================================================\n\nNotes:\n[1] Standard Errors assume that the covariance matrix of the errors is correctly specified.\n[2] The smallest eigenvalue is 2.32e-21. This might indicate that there are\nstrong multicollinearity problems or that the design matrix is singular.\n\"\"\", dtype=object)"
     },
     "execution_count": 73,
     "metadata": {},
     "output_type": "execute_result"
    }
   ],
   "source": [
    "stocks['pred0'] = model3.predict(X0) # make the predictions by the model\n",
    "np.array(model3.summary())"
   ],
   "metadata": {
    "collapsed": false,
    "pycharm": {
     "name": "#%%\n"
    }
   }
  },
  {
   "cell_type": "code",
   "execution_count": 74,
   "outputs": [],
   "source": [
    "stocks_train = stocks[pd.to_datetime(stocks['day']) < '2022-04-30']\n",
    "stocks_test = stocks[pd.to_datetime(stocks['day']) > '2022-04-30']\n",
    "stocks_train=stocks_train.dropna()\n",
    "stocks_test=stocks_test.dropna()"
   ],
   "metadata": {
    "collapsed": false,
    "pycharm": {
     "name": "#%%\n"
    }
   }
  },
  {
   "cell_type": "code",
   "execution_count": 76,
   "outputs": [],
   "source": [
    "x_train = stocks_train[vars0]\n",
    "x_test  = stocks_test[vars0]\n",
    "y_train= stocks_train['next_ret']\n",
    "y_test = stocks_test['next_ret']"
   ],
   "metadata": {
    "collapsed": false,
    "pycharm": {
     "name": "#%%\n"
    }
   }
  },
  {
   "cell_type": "code",
   "execution_count": 77,
   "outputs": [
    {
     "data": {
      "text/plain": "array(<class 'statsmodels.iolib.summary.Summary'>\n\"\"\"\n                            OLS Regression Results                            \n==============================================================================\nDep. Variable:               next_ret   R-squared:                       0.009\nModel:                            OLS   Adj. R-squared:                  0.007\nMethod:                 Least Squares   F-statistic:                     6.503\nDate:                Thu, 02 Jun 2022   Prob (F-statistic):           2.38e-28\nTime:                        20:27:51   Log-Likelihood:             1.1998e+05\nNo. Observations:               24708   AIC:                        -2.399e+05\nDf Residuals:                   24674   BIC:                        -2.396e+05\nDf Model:                          33                                         \nCovariance Type:            nonrobust                                         \n========================================================================================\n                           coef    std err          t      P>|t|      [0.025      0.975]\n----------------------------------------------------------------------------------------\nx0                    4.376e-05   1.21e-05      3.629      0.000    2.01e-05    6.74e-05\nspy_ret                  0.0438      0.037      1.178      0.239      -0.029       0.117\nspy_prev1_ret            0.1256      0.037      3.349      0.001       0.052       0.199\nspy_prev2_ret           -0.0485      0.037     -1.306      0.192      -0.121       0.024\nspy_prev3_ret           -0.0493      0.036     -1.353      0.176      -0.121       0.022\nspy_prev4_ret           -0.0002      0.018     -0.011      0.991      -0.035       0.035\nspy_prev4_ret           -0.0002      0.018     -0.011      0.991      -0.035       0.035\nspy_money_flow        2.071e-08   1.43e-08      1.452      0.146   -7.25e-09    4.87e-08\nspy_prev1_money_flow  1.722e-08   1.59e-08      1.086      0.278   -1.39e-08    4.83e-08\nspy_prev2_money_flow  3.452e-08   1.64e-08      2.109      0.035    2.44e-09    6.66e-08\nspy_prev3_money_flow  4.322e-08   1.63e-08      2.658      0.008    1.14e-08    7.51e-08\nspy_prev4_money_flow   2.92e-08    1.6e-08      1.822      0.068   -2.21e-09    6.06e-08\nspy_prev5_money_flow -3.479e-08   1.24e-08     -2.795      0.005   -5.92e-08   -1.04e-08\nxlk_prev4_ret           -0.0118      0.013     -0.889      0.374      -0.038       0.014\nxlk_ret                  0.0022      0.028      0.080      0.936      -0.052       0.056\nxlk_prev1_ret           -0.1673      0.028     -6.064      0.000      -0.221      -0.113\nxlk_prev2_ret           -0.1190      0.027     -4.346      0.000      -0.173      -0.065\nxlk_prev3_ret            0.0022      0.027      0.082      0.934      -0.051       0.055\nxlk_prev4_ret           -0.0118      0.013     -0.889      0.374      -0.038       0.014\nxlk_money_flow        -4.15e-07   7.58e-08     -5.475      0.000   -5.64e-07   -2.66e-07\nxlk_prev1_money_flow  1.507e-07   9.58e-08      1.573      0.116   -3.71e-08    3.39e-07\nxlk_prev2_money_flow  5.884e-07   9.78e-08      6.018      0.000    3.97e-07     7.8e-07\nxlk_prev3_money_flow -2.782e-07   9.72e-08     -2.863      0.004   -4.69e-07   -8.77e-08\nxlk_prev4_money_flow  -3.66e-08   9.46e-08     -0.387      0.699   -2.22e-07    1.49e-07\nxlk_prev5_money_flow  2.012e-07   6.57e-08      3.064      0.002    7.25e-08     3.3e-07\nret                      0.0007      0.011      0.060      0.952      -0.021       0.022\nprev1_ret                0.0299      0.011      2.704      0.007       0.008       0.052\nprev2_ret                0.0301      0.011      2.785      0.005       0.009       0.051\nprev3_ret                0.0147      0.011      1.385      0.166      -0.006       0.035\nprev4_ret               -0.0043      0.005     -0.836      0.403      -0.014       0.006\nprev4_ret               -0.0043      0.005     -0.836      0.403      -0.014       0.006\nmoney_flow            4.804e-08   1.22e-08      3.942      0.000    2.42e-08    7.19e-08\nprev1_money_flow     -7.083e-10   1.27e-08     -0.056      0.955   -2.56e-08    2.42e-08\nprev2_money_flow      -2.41e-08   1.22e-08     -1.981      0.048   -4.79e-08    -2.6e-10\nprev3_money_flow      2.419e-08   1.19e-08      2.032      0.042     8.6e-10    4.75e-08\nprev4_money_flow      7.405e-09   1.14e-08      0.652      0.514   -1.49e-08    2.97e-08\nprev5_money_flow     -5.076e-09   8.61e-09     -0.589      0.556    -2.2e-08    1.18e-08\n==============================================================================\nOmnibus:                     2557.917   Durbin-Watson:                   2.002\nProb(Omnibus):                  0.000   Jarque-Bera (JB):            21923.703\nSkew:                          -0.056   Prob(JB):                         0.00\nKurtosis:                       7.613   Cond. No.                     1.17e+16\n==============================================================================\n\nNotes:\n[1] Standard Errors assume that the covariance matrix of the errors is correctly specified.\n[2] The smallest eigenvalue is 7.36e-22. This might indicate that there are\nstrong multicollinearity problems or that the design matrix is singular.\n\"\"\", dtype=object)"
     },
     "execution_count": 77,
     "metadata": {},
     "output_type": "execute_result"
    }
   ],
   "source": [
    "lm0 = sm.OLS(y_train, x_train).fit()\n",
    "stocks_train['in_pred0'] = lm0.predict(x_train)\n",
    "stocks_test['out_pred0'] = lm0.predict(x_test)\n",
    "np.array(lm0.summary())"
   ],
   "metadata": {
    "collapsed": false,
    "pycharm": {
     "name": "#%%\n"
    }
   }
  },
  {
   "cell_type": "code",
   "execution_count": 78,
   "outputs": [
    {
     "data": {
      "text/plain": "0.09285497473935758"
     },
     "execution_count": 78,
     "metadata": {},
     "output_type": "execute_result"
    }
   ],
   "source": [
    "stocks_train['next_ret'].corr(stocks_train['in_pred0'])"
   ],
   "metadata": {
    "collapsed": false,
    "pycharm": {
     "name": "#%%\n"
    }
   }
  },
  {
   "cell_type": "code",
   "execution_count": 80,
   "outputs": [
    {
     "data": {
      "text/plain": "0.05529369485678101"
     },
     "execution_count": 80,
     "metadata": {},
     "output_type": "execute_result"
    }
   ],
   "source": [
    "stocks_test['next_ret'].corr(stocks_test['out_pred0'])"
   ],
   "metadata": {
    "collapsed": false,
    "pycharm": {
     "name": "#%%\n"
    }
   }
  },
  {
   "cell_type": "code",
   "execution_count": 81,
   "outputs": [
    {
     "name": "stdout",
     "output_type": "stream",
     "text": [
      "Requirement already satisfied: mlxtend in c:\\users\\shane\\anaconda3\\envs\\myenv\\lib\\site-packages (0.20.0)\n",
      "Requirement already satisfied: matplotlib>=3.0.0 in c:\\users\\shane\\anaconda3\\envs\\myenv\\lib\\site-packages (from mlxtend) (3.5.0)\n",
      "Requirement already satisfied: setuptools in c:\\users\\shane\\anaconda3\\envs\\myenv\\lib\\site-packages (from mlxtend) (58.0.4)\n",
      "Requirement already satisfied: scipy>=1.2.1 in c:\\users\\shane\\anaconda3\\envs\\myenv\\lib\\site-packages (from mlxtend) (1.7.3)\n",
      "Requirement already satisfied: scikit-learn>=1.0.2 in c:\\users\\shane\\anaconda3\\envs\\myenv\\lib\\site-packages (from mlxtend) (1.1.1)\n",
      "Requirement already satisfied: joblib>=0.13.2 in c:\\users\\shane\\anaconda3\\envs\\myenv\\lib\\site-packages (from mlxtend) (1.1.0)\n",
      "Requirement already satisfied: numpy>=1.16.2 in c:\\users\\shane\\anaconda3\\envs\\myenv\\lib\\site-packages (from mlxtend) (1.21.2)\n",
      "Requirement already satisfied: pandas>=0.24.2 in c:\\users\\shane\\anaconda3\\envs\\myenv\\lib\\site-packages (from mlxtend) (1.3.5)\n",
      "Requirement already satisfied: pillow>=6.2.0 in c:\\users\\shane\\anaconda3\\envs\\myenv\\lib\\site-packages (from matplotlib>=3.0.0->mlxtend) (8.4.0)\n",
      "Requirement already satisfied: cycler>=0.10 in c:\\users\\shane\\anaconda3\\envs\\myenv\\lib\\site-packages (from matplotlib>=3.0.0->mlxtend) (0.11.0)\n",
      "Requirement already satisfied: python-dateutil>=2.7 in c:\\users\\shane\\anaconda3\\envs\\myenv\\lib\\site-packages (from matplotlib>=3.0.0->mlxtend) (2.8.2)\n",
      "Requirement already satisfied: packaging>=20.0 in c:\\users\\shane\\anaconda3\\envs\\myenv\\lib\\site-packages (from matplotlib>=3.0.0->mlxtend) (21.3)\n",
      "Requirement already satisfied: pyparsing>=2.2.1 in c:\\users\\shane\\anaconda3\\envs\\myenv\\lib\\site-packages (from matplotlib>=3.0.0->mlxtend) (3.0.4)\n",
      "Requirement already satisfied: kiwisolver>=1.0.1 in c:\\users\\shane\\anaconda3\\envs\\myenv\\lib\\site-packages (from matplotlib>=3.0.0->mlxtend) (1.3.1)\n",
      "Requirement already satisfied: fonttools>=4.22.0 in c:\\users\\shane\\anaconda3\\envs\\myenv\\lib\\site-packages (from matplotlib>=3.0.0->mlxtend) (4.25.0)\n",
      "Requirement already satisfied: pytz>=2017.3 in c:\\users\\shane\\anaconda3\\envs\\myenv\\lib\\site-packages (from pandas>=0.24.2->mlxtend) (2021.3)\n",
      "Requirement already satisfied: six>=1.5 in c:\\users\\shane\\anaconda3\\envs\\myenv\\lib\\site-packages (from python-dateutil>=2.7->matplotlib>=3.0.0->mlxtend) (1.16.0)\n",
      "Requirement already satisfied: threadpoolctl>=2.0.0 in c:\\users\\shane\\anaconda3\\envs\\myenv\\lib\\site-packages (from scikit-learn>=1.0.2->mlxtend) (2.2.0)\n"
     ]
    }
   ],
   "source": [
    "!pip install mlxtend"
   ],
   "metadata": {
    "collapsed": false,
    "pycharm": {
     "name": "#%%\n"
    }
   }
  },
  {
   "cell_type": "code",
   "execution_count": 88,
   "outputs": [],
   "source": [
    "from mlxtend.feature_selection import SequentialFeatureSelector as SFS\n",
    "import matplotlib.pyplot as plt\n",
    "from sklearn.linear_model import LinearRegression\n",
    "\n",
    "lr = LinearRegression()\n",
    "\n",
    "sfs = SFS(lr,\n",
    "          k_features=10,\n",
    "          forward=True,\n",
    "          floating=False,\n",
    "          scoring='neg_mean_squared_error',\n",
    "          cv= 0)"
   ],
   "metadata": {
    "collapsed": false,
    "pycharm": {
     "name": "#%%\n"
    }
   }
  },
  {
   "cell_type": "code",
   "execution_count": 89,
   "outputs": [
    {
     "name": "stderr",
     "output_type": "stream",
     "text": [
      "C:\\Users\\shane\\anaconda3\\envs\\myenv\\lib\\site-packages\\numpy\\core\\_methods.py:262: RuntimeWarning: Degrees of freedom <= 0 for slice\n",
      "  ret = _var(a, axis=axis, dtype=dtype, out=out, ddof=ddof,\n",
      "C:\\Users\\shane\\anaconda3\\envs\\myenv\\lib\\site-packages\\numpy\\core\\_methods.py:254: RuntimeWarning: invalid value encountered in double_scalars\n",
      "  ret = ret.dtype.type(ret / rcount)\n"
     ]
    },
    {
     "data": {
      "text/plain": "{1: {'feature_idx': (19,),\n  'cv_scores': array([-4.93436345e-06]),\n  'avg_score': -4.9343634542603546e-06,\n  'feature_names': ('xlk_money_flow',),\n  'ci_bound': nan,\n  'std_dev': 0.0,\n  'std_err': nan},\n 2: {'feature_idx': (7, 19),\n  'cv_scores': array([-4.91481049e-06]),\n  'avg_score': -4.914810486154993e-06,\n  'feature_names': ('spy_money_flow', 'xlk_money_flow'),\n  'ci_bound': nan,\n  'std_dev': 0.0,\n  'std_err': nan},\n 3: {'feature_idx': (1, 7, 19),\n  'cv_scores': array([-4.90786948e-06]),\n  'avg_score': -4.907869482174074e-06,\n  'feature_names': ('spy_ret', 'spy_money_flow', 'xlk_money_flow'),\n  'ci_bound': nan,\n  'std_dev': 0.0,\n  'std_err': nan},\n 4: {'feature_idx': (1, 4, 7, 19),\n  'cv_scores': array([-4.90526126e-06]),\n  'avg_score': -4.905261261545558e-06,\n  'feature_names': ('spy_ret',\n   'spy_prev3_ret',\n   'spy_money_flow',\n   'xlk_money_flow'),\n  'ci_bound': nan,\n  'std_dev': 0.0,\n  'std_err': nan},\n 5: {'feature_idx': (1, 4, 7, 19, 34),\n  'cv_scores': array([-4.90284957e-06]),\n  'avg_score': -4.902849568746706e-06,\n  'feature_names': ('spy_ret',\n   'spy_prev3_ret',\n   'spy_money_flow',\n   'xlk_money_flow',\n   'prev3_money_flow'),\n  'ci_bound': nan,\n  'std_dev': 0.0,\n  'std_err': nan},\n 6: {'feature_idx': (1, 4, 7, 12, 19, 34),\n  'cv_scores': array([-4.90082592e-06]),\n  'avg_score': -4.900825915591428e-06,\n  'feature_names': ('spy_ret',\n   'spy_prev3_ret',\n   'spy_money_flow',\n   'spy_prev5_money_flow',\n   'xlk_money_flow',\n   'prev3_money_flow'),\n  'ci_bound': nan,\n  'std_dev': 0.0,\n  'std_err': nan},\n 7: {'feature_idx': (1, 4, 7, 12, 19, 20, 34),\n  'cv_scores': array([-4.89890886e-06]),\n  'avg_score': -4.89890885900923e-06,\n  'feature_names': ('spy_ret',\n   'spy_prev3_ret',\n   'spy_money_flow',\n   'spy_prev5_money_flow',\n   'xlk_money_flow',\n   'xlk_prev1_money_flow',\n   'prev3_money_flow'),\n  'ci_bound': nan,\n  'std_dev': 0.0,\n  'std_err': nan},\n 8: {'feature_idx': (1, 4, 7, 12, 15, 19, 20, 34),\n  'cv_scores': array([-4.89498422e-06]),\n  'avg_score': -4.894984220076196e-06,\n  'feature_names': ('spy_ret',\n   'spy_prev3_ret',\n   'spy_money_flow',\n   'spy_prev5_money_flow',\n   'xlk_prev1_ret',\n   'xlk_money_flow',\n   'xlk_prev1_money_flow',\n   'prev3_money_flow'),\n  'ci_bound': nan,\n  'std_dev': 0.0,\n  'std_err': nan},\n 9: {'feature_idx': (1, 4, 7, 11, 12, 15, 19, 20, 34),\n  'cv_scores': array([-4.89299033e-06]),\n  'avg_score': -4.892990329053022e-06,\n  'feature_names': ('spy_ret',\n   'spy_prev3_ret',\n   'spy_money_flow',\n   'spy_prev4_money_flow',\n   'spy_prev5_money_flow',\n   'xlk_prev1_ret',\n   'xlk_money_flow',\n   'xlk_prev1_money_flow',\n   'prev3_money_flow'),\n  'ci_bound': nan,\n  'std_dev': 0.0,\n  'std_err': nan},\n 10: {'feature_idx': (1, 4, 7, 11, 12, 15, 19, 20, 23, 34),\n  'cv_scores': array([-4.89107821e-06]),\n  'avg_score': -4.891078208350107e-06,\n  'feature_names': ('spy_ret',\n   'spy_prev3_ret',\n   'spy_money_flow',\n   'spy_prev4_money_flow',\n   'spy_prev5_money_flow',\n   'xlk_prev1_ret',\n   'xlk_money_flow',\n   'xlk_prev1_money_flow',\n   'xlk_prev4_money_flow',\n   'prev3_money_flow'),\n  'ci_bound': nan,\n  'std_dev': 0.0,\n  'std_err': nan}}"
     },
     "execution_count": 89,
     "metadata": {},
     "output_type": "execute_result"
    }
   ],
   "source": [
    "sfs = sfs.fit(X0, Y)\n",
    "out= sfs.get_metric_dict()\n",
    "sfs.get_metric_dict()"
   ],
   "metadata": {
    "collapsed": false,
    "pycharm": {
     "name": "#%%\n"
    }
   }
  },
  {
   "cell_type": "code",
   "execution_count": 107,
   "outputs": [
    {
     "data": {
      "text/plain": "['spy_ret',\n 'spy_prev3_ret',\n 'spy_money_flow',\n 'spy_prev4_money_flow',\n 'spy_prev5_money_flow',\n 'xlk_prev1_ret',\n 'xlk_money_flow',\n 'xlk_prev1_money_flow',\n 'xlk_prev4_money_flow',\n 'prev3_money_flow']"
     },
     "execution_count": 107,
     "metadata": {},
     "output_type": "execute_result"
    }
   ],
   "source": [
    "vars1= list ( out[10]['feature_names'] )\n",
    "vars1"
   ],
   "metadata": {
    "collapsed": false,
    "pycharm": {
     "name": "#%%\n"
    }
   }
  },
  {
   "cell_type": "code",
   "execution_count": 108,
   "outputs": [],
   "source": [
    "x_train = stocks_train[vars1]\n",
    "x_test  = stocks_test[vars1]\n",
    "y_train= stocks_train['next_ret']\n",
    "y_test = stocks_test['next_ret']"
   ],
   "metadata": {
    "collapsed": false,
    "pycharm": {
     "name": "#%%\n"
    }
   }
  },
  {
   "cell_type": "code",
   "execution_count": 109,
   "outputs": [
    {
     "data": {
      "text/plain": "<class 'statsmodels.iolib.summary.Summary'>\n\"\"\"\n                                 OLS Regression Results                                \n=======================================================================================\nDep. Variable:               next_ret   R-squared (uncentered):                   0.002\nModel:                            OLS   Adj. R-squared (uncentered):              0.002\nMethod:                 Least Squares   F-statistic:                              5.863\nDate:                Thu, 02 Jun 2022   Prob (F-statistic):                    6.74e-09\nTime:                        21:01:54   Log-Likelihood:                      1.1990e+05\nNo. Observations:               24708   AIC:                                 -2.398e+05\nDf Residuals:                   24698   BIC:                                 -2.397e+05\nDf Model:                          10                                                  \nCovariance Type:            nonrobust                                                  \n========================================================================================\n                           coef    std err          t      P>|t|      [0.025      0.975]\n----------------------------------------------------------------------------------------\nspy_ret                  0.0419      0.018      2.268      0.023       0.006       0.078\nspy_prev3_ret           -0.0329      0.013     -2.505      0.012      -0.059      -0.007\nspy_money_flow        2.804e-08   1.37e-08      2.053      0.040    1.27e-09    5.48e-08\nspy_prev4_money_flow  2.359e-08   1.31e-08      1.803      0.071   -2.06e-09    4.92e-08\nspy_prev5_money_flow -7.527e-09   8.03e-09     -0.937      0.349   -2.33e-08    8.22e-09\nxlk_prev1_ret           -0.0568      0.015     -3.715      0.000      -0.087      -0.027\nxlk_money_flow       -3.414e-07   6.85e-08     -4.986      0.000   -4.76e-07   -2.07e-07\nxlk_prev1_money_flow  2.324e-07   8.24e-08      2.822      0.005     7.1e-08    3.94e-07\nxlk_prev4_money_flow -1.212e-07    7.2e-08     -1.685      0.092   -2.62e-07    1.98e-08\nprev3_money_flow       3.14e-08   9.68e-09      3.242      0.001    1.24e-08    5.04e-08\n==============================================================================\nOmnibus:                     2595.070   Durbin-Watson:                   2.023\nProb(Omnibus):                  0.000   Jarque-Bera (JB):            22707.845\nSkew:                          -0.059   Prob(JB):                         0.00\nKurtosis:                       7.695   Cond. No.                     2.87e+06\n==============================================================================\n\nNotes:\n[1] R² is computed without centering (uncentered) since the model does not contain a constant.\n[2] Standard Errors assume that the covariance matrix of the errors is correctly specified.\n[3] The condition number is large, 2.87e+06. This might indicate that there are\nstrong multicollinearity or other numerical problems.\n\"\"\"",
      "text/html": "<table class=\"simpletable\">\n<caption>OLS Regression Results</caption>\n<tr>\n  <th>Dep. Variable:</th>        <td>next_ret</td>     <th>  R-squared (uncentered):</th>       <td>   0.002</td> \n</tr>\n<tr>\n  <th>Model:</th>                   <td>OLS</td>       <th>  Adj. R-squared (uncentered):</th>  <td>   0.002</td> \n</tr>\n<tr>\n  <th>Method:</th>             <td>Least Squares</td>  <th>  F-statistic:       </th>           <td>   5.863</td> \n</tr>\n<tr>\n  <th>Date:</th>             <td>Thu, 02 Jun 2022</td> <th>  Prob (F-statistic):</th>           <td>6.74e-09</td> \n</tr>\n<tr>\n  <th>Time:</th>                 <td>21:01:54</td>     <th>  Log-Likelihood:    </th>          <td>1.1990e+05</td>\n</tr>\n<tr>\n  <th>No. Observations:</th>      <td> 24708</td>      <th>  AIC:               </th>          <td>-2.398e+05</td>\n</tr>\n<tr>\n  <th>Df Residuals:</th>          <td> 24698</td>      <th>  BIC:               </th>          <td>-2.397e+05</td>\n</tr>\n<tr>\n  <th>Df Model:</th>              <td>    10</td>      <th>                     </th>               <td> </td>    \n</tr>\n<tr>\n  <th>Covariance Type:</th>      <td>nonrobust</td>    <th>                     </th>               <td> </td>    \n</tr>\n</table>\n<table class=\"simpletable\">\n<tr>\n            <td></td>              <th>coef</th>     <th>std err</th>      <th>t</th>      <th>P>|t|</th>  <th>[0.025</th>    <th>0.975]</th>  \n</tr>\n<tr>\n  <th>spy_ret</th>              <td>    0.0419</td> <td>    0.018</td> <td>    2.268</td> <td> 0.023</td> <td>    0.006</td> <td>    0.078</td>\n</tr>\n<tr>\n  <th>spy_prev3_ret</th>        <td>   -0.0329</td> <td>    0.013</td> <td>   -2.505</td> <td> 0.012</td> <td>   -0.059</td> <td>   -0.007</td>\n</tr>\n<tr>\n  <th>spy_money_flow</th>       <td> 2.804e-08</td> <td> 1.37e-08</td> <td>    2.053</td> <td> 0.040</td> <td> 1.27e-09</td> <td> 5.48e-08</td>\n</tr>\n<tr>\n  <th>spy_prev4_money_flow</th> <td> 2.359e-08</td> <td> 1.31e-08</td> <td>    1.803</td> <td> 0.071</td> <td>-2.06e-09</td> <td> 4.92e-08</td>\n</tr>\n<tr>\n  <th>spy_prev5_money_flow</th> <td>-7.527e-09</td> <td> 8.03e-09</td> <td>   -0.937</td> <td> 0.349</td> <td>-2.33e-08</td> <td> 8.22e-09</td>\n</tr>\n<tr>\n  <th>xlk_prev1_ret</th>        <td>   -0.0568</td> <td>    0.015</td> <td>   -3.715</td> <td> 0.000</td> <td>   -0.087</td> <td>   -0.027</td>\n</tr>\n<tr>\n  <th>xlk_money_flow</th>       <td>-3.414e-07</td> <td> 6.85e-08</td> <td>   -4.986</td> <td> 0.000</td> <td>-4.76e-07</td> <td>-2.07e-07</td>\n</tr>\n<tr>\n  <th>xlk_prev1_money_flow</th> <td> 2.324e-07</td> <td> 8.24e-08</td> <td>    2.822</td> <td> 0.005</td> <td>  7.1e-08</td> <td> 3.94e-07</td>\n</tr>\n<tr>\n  <th>xlk_prev4_money_flow</th> <td>-1.212e-07</td> <td>  7.2e-08</td> <td>   -1.685</td> <td> 0.092</td> <td>-2.62e-07</td> <td> 1.98e-08</td>\n</tr>\n<tr>\n  <th>prev3_money_flow</th>     <td>  3.14e-08</td> <td> 9.68e-09</td> <td>    3.242</td> <td> 0.001</td> <td> 1.24e-08</td> <td> 5.04e-08</td>\n</tr>\n</table>\n<table class=\"simpletable\">\n<tr>\n  <th>Omnibus:</th>       <td>2595.070</td> <th>  Durbin-Watson:     </th> <td>   2.023</td> \n</tr>\n<tr>\n  <th>Prob(Omnibus):</th>  <td> 0.000</td>  <th>  Jarque-Bera (JB):  </th> <td>22707.845</td>\n</tr>\n<tr>\n  <th>Skew:</th>           <td>-0.059</td>  <th>  Prob(JB):          </th> <td>    0.00</td> \n</tr>\n<tr>\n  <th>Kurtosis:</th>       <td> 7.695</td>  <th>  Cond. No.          </th> <td>2.87e+06</td> \n</tr>\n</table><br/><br/>Notes:<br/>[1] R² is computed without centering (uncentered) since the model does not contain a constant.<br/>[2] Standard Errors assume that the covariance matrix of the errors is correctly specified.<br/>[3] The condition number is large, 2.87e+06. This might indicate that there are<br/>strong multicollinearity or other numerical problems."
     },
     "execution_count": 109,
     "metadata": {},
     "output_type": "execute_result"
    }
   ],
   "source": [
    "lm1 = sm.OLS(y_train, x_train).fit()\n",
    "stocks_train['in_pred1'] = lm1.predict(x_train)\n",
    "stocks_test['out_pred1'] = lm1.predict(x_test)\n",
    "lm1.summary()"
   ],
   "metadata": {
    "collapsed": false,
    "pycharm": {
     "name": "#%%\n"
    }
   }
  },
  {
   "cell_type": "code",
   "execution_count": 110,
   "outputs": [
    {
     "data": {
      "text/plain": "0.04848559908502434"
     },
     "execution_count": 110,
     "metadata": {},
     "output_type": "execute_result"
    }
   ],
   "source": [
    "stocks_train['next_ret'].corr(stocks_train['in_pred1'])"
   ],
   "metadata": {
    "collapsed": false,
    "pycharm": {
     "name": "#%%\n"
    }
   }
  },
  {
   "cell_type": "code",
   "execution_count": 111,
   "outputs": [
    {
     "data": {
      "text/plain": "0.1305013506827604"
     },
     "execution_count": 111,
     "metadata": {},
     "output_type": "execute_result"
    }
   ],
   "source": [
    "stocks_test['next_ret'].corr(stocks_test['out_pred1'])"
   ],
   "metadata": {
    "collapsed": false,
    "pycharm": {
     "name": "#%%\n"
    }
   }
  },
  {
   "cell_type": "code",
   "execution_count": 112,
   "outputs": [],
   "source": [
    "x_train = stocks_train[vars0]\n",
    "x_test  = stocks_test[vars0]\n",
    "y_train= stocks_train['next_ret']\n",
    "y_test = stocks_test['next_ret']"
   ],
   "metadata": {
    "collapsed": false,
    "pycharm": {
     "name": "#%%\n"
    }
   }
  },
  {
   "cell_type": "code",
   "execution_count": 113,
   "outputs": [
    {
     "name": "stdout",
     "output_type": "stream",
     "text": [
      "in-sample LASSO r =  0.0634562344338466 out-of-sample LASSO r=  0.05287446283580775\n"
     ]
    },
    {
     "data": {
      "text/plain": "array([4.33603627e-05, 1.42483691e-04, 1.65918306e-04, 1.53414064e-04,\n       2.50296960e-05, 1.04937003e-04])"
     },
     "execution_count": 113,
     "metadata": {},
     "output_type": "execute_result"
    }
   ],
   "source": [
    "model1 = sm.OLS(y_train, x_train).fit_regularized(alpha=0.0001, L1_wt=0)\n",
    "stocks_train['in_LASSO'] = model1.predict(x_train)\n",
    "stocks_test['out_LASSO'] = model1.predict(x_test)\n",
    "\n",
    "r_in_LASSO= stocks_train['next_ret'].corr(stocks_train['in_LASSO'])\n",
    "r_out_LASSO= stocks_test['next_ret'].corr(stocks_test['out_LASSO'])\n",
    "print ('in-sample LASSO r = ', r_in_LASSO, 'out-of-sample LASSO r= ', r_out_LASSO)\n",
    "model1.params[model1.params > 0.000001]"
   ],
   "metadata": {
    "collapsed": false,
    "pycharm": {
     "name": "#%%\n"
    }
   }
  },
  {
   "cell_type": "code",
   "execution_count": 116,
   "outputs": [
    {
     "name": "stdout",
     "output_type": "stream",
     "text": [
      "in-sample ridge r =  0.056583724445351216 out-of-sample ridge r=  0.04829429740767971\n"
     ]
    },
    {
     "data": {
      "text/plain": "spy_prev4_money_flow    1.753984e-08\nxlk_prev2_money_flow    1.611628e-07\nxlk_prev5_money_flow    2.176366e-07\nmoney_flow              5.187881e-08\nprev3_money_flow        3.521177e-08\ndtype: float64"
     },
     "execution_count": 116,
     "metadata": {},
     "output_type": "execute_result"
    }
   ],
   "source": [
    "model1 = sm.OLS(y_train, x_train).fit_regularized(alpha=0.0001, L1_wt=1)\n",
    "stocks_train['in_ridge'] = model1.predict(x_train)\n",
    "stocks_test['out_ridge'] = model1.predict(x_test)\n",
    "\n",
    "r_in_LASSO= stocks_train['next_ret'].corr(stocks_train['in_ridge'])\n",
    "r_out_LASSO= stocks_test['next_ret'].corr(stocks_test['out_ridge'])\n",
    "print ('in-sample ridge r = ', r_in_LASSO, 'out-of-sample ridge r= ', r_out_LASSO)\n",
    "model1.params.columns= ['beta']\n",
    "model1.params[model1.params>0]"
   ],
   "metadata": {
    "collapsed": false,
    "pycharm": {
     "name": "#%%\n"
    }
   }
  },
  {
   "cell_type": "code",
   "execution_count": 121,
   "outputs": [
    {
     "name": "stdout",
     "output_type": "stream",
     "text": [
      "in-sample LASSO r =  0.056584501849412425 out-of-sample LASSO r=  0.048186582138970674\n"
     ]
    },
    {
     "data": {
      "text/plain": "spy_prev4_money_flow    1.781371e-08\nxlk_prev2_money_flow    1.622090e-07\nxlk_prev5_money_flow    2.192492e-07\nmoney_flow              5.199170e-08\nprev3_money_flow        3.532251e-08\ndtype: float64"
     },
     "execution_count": 121,
     "metadata": {},
     "output_type": "execute_result"
    }
   ],
   "source": [
    "model1 = sm.OLS(y_train, x_train).fit_regularized(alpha=0.0001, L1_wt=.50)\n",
    "stocks_train['in_LASSO'] = model1.predict(x_train)\n",
    "stocks_test['out_LASSO'] = model1.predict(x_test)\n",
    "\n",
    "r_in_LASSO= stocks_train['next_ret'].corr(stocks_train['in_LASSO'])\n",
    "r_out_LASSO= stocks_test['next_ret'].corr(stocks_test['out_LASSO'])\n",
    "print ('in-sample LASSO r = ', r_in_LASSO, 'out-of-sample LASSO r= ', r_out_LASSO)\n",
    "model1.params[model1.params > 0.000001]\n",
    "model1.params[model1.params>0]"
   ],
   "metadata": {
    "collapsed": false,
    "pycharm": {
     "name": "#%%\n"
    }
   }
  },
  {
   "cell_type": "code",
   "execution_count": 122,
   "outputs": [],
   "source": [
    "from sklearn.ensemble import RandomForestRegressor\n",
    "import matplotlib.pyplot as plt"
   ],
   "metadata": {
    "collapsed": false,
    "pycharm": {
     "name": "#%%\n"
    }
   }
  },
  {
   "cell_type": "code",
   "execution_count": 123,
   "outputs": [],
   "source": [
    "regressor = RandomForestRegressor(n_estimators = 100, random_state = 0)"
   ],
   "metadata": {
    "collapsed": false,
    "pycharm": {
     "name": "#%%\n"
    }
   }
  },
  {
   "cell_type": "code",
   "execution_count": 124,
   "outputs": [
    {
     "data": {
      "text/plain": "RandomForestRegressor(random_state=0)",
      "text/html": "<style>#sk-container-id-1 {color: black;background-color: white;}#sk-container-id-1 pre{padding: 0;}#sk-container-id-1 div.sk-toggleable {background-color: white;}#sk-container-id-1 label.sk-toggleable__label {cursor: pointer;display: block;width: 100%;margin-bottom: 0;padding: 0.3em;box-sizing: border-box;text-align: center;}#sk-container-id-1 label.sk-toggleable__label-arrow:before {content: \"▸\";float: left;margin-right: 0.25em;color: #696969;}#sk-container-id-1 label.sk-toggleable__label-arrow:hover:before {color: black;}#sk-container-id-1 div.sk-estimator:hover label.sk-toggleable__label-arrow:before {color: black;}#sk-container-id-1 div.sk-toggleable__content {max-height: 0;max-width: 0;overflow: hidden;text-align: left;background-color: #f0f8ff;}#sk-container-id-1 div.sk-toggleable__content pre {margin: 0.2em;color: black;border-radius: 0.25em;background-color: #f0f8ff;}#sk-container-id-1 input.sk-toggleable__control:checked~div.sk-toggleable__content {max-height: 200px;max-width: 100%;overflow: auto;}#sk-container-id-1 input.sk-toggleable__control:checked~label.sk-toggleable__label-arrow:before {content: \"▾\";}#sk-container-id-1 div.sk-estimator input.sk-toggleable__control:checked~label.sk-toggleable__label {background-color: #d4ebff;}#sk-container-id-1 div.sk-label input.sk-toggleable__control:checked~label.sk-toggleable__label {background-color: #d4ebff;}#sk-container-id-1 input.sk-hidden--visually {border: 0;clip: rect(1px 1px 1px 1px);clip: rect(1px, 1px, 1px, 1px);height: 1px;margin: -1px;overflow: hidden;padding: 0;position: absolute;width: 1px;}#sk-container-id-1 div.sk-estimator {font-family: monospace;background-color: #f0f8ff;border: 1px dotted black;border-radius: 0.25em;box-sizing: border-box;margin-bottom: 0.5em;}#sk-container-id-1 div.sk-estimator:hover {background-color: #d4ebff;}#sk-container-id-1 div.sk-parallel-item::after {content: \"\";width: 100%;border-bottom: 1px solid gray;flex-grow: 1;}#sk-container-id-1 div.sk-label:hover label.sk-toggleable__label {background-color: #d4ebff;}#sk-container-id-1 div.sk-serial::before {content: \"\";position: absolute;border-left: 1px solid gray;box-sizing: border-box;top: 0;bottom: 0;left: 50%;z-index: 0;}#sk-container-id-1 div.sk-serial {display: flex;flex-direction: column;align-items: center;background-color: white;padding-right: 0.2em;padding-left: 0.2em;position: relative;}#sk-container-id-1 div.sk-item {position: relative;z-index: 1;}#sk-container-id-1 div.sk-parallel {display: flex;align-items: stretch;justify-content: center;background-color: white;position: relative;}#sk-container-id-1 div.sk-item::before, #sk-container-id-1 div.sk-parallel-item::before {content: \"\";position: absolute;border-left: 1px solid gray;box-sizing: border-box;top: 0;bottom: 0;left: 50%;z-index: -1;}#sk-container-id-1 div.sk-parallel-item {display: flex;flex-direction: column;z-index: 1;position: relative;background-color: white;}#sk-container-id-1 div.sk-parallel-item:first-child::after {align-self: flex-end;width: 50%;}#sk-container-id-1 div.sk-parallel-item:last-child::after {align-self: flex-start;width: 50%;}#sk-container-id-1 div.sk-parallel-item:only-child::after {width: 0;}#sk-container-id-1 div.sk-dashed-wrapped {border: 1px dashed gray;margin: 0 0.4em 0.5em 0.4em;box-sizing: border-box;padding-bottom: 0.4em;background-color: white;}#sk-container-id-1 div.sk-label label {font-family: monospace;font-weight: bold;display: inline-block;line-height: 1.2em;}#sk-container-id-1 div.sk-label-container {text-align: center;}#sk-container-id-1 div.sk-container {/* jupyter's `normalize.less` sets `[hidden] { display: none; }` but bootstrap.min.css set `[hidden] { display: none !important; }` so we also need the `!important` here to be able to override the default hidden behavior on the sphinx rendered scikit-learn.org. See: https://github.com/scikit-learn/scikit-learn/issues/21755 */display: inline-block !important;position: relative;}#sk-container-id-1 div.sk-text-repr-fallback {display: none;}</style><div id=\"sk-container-id-1\" class=\"sk-top-container\"><div class=\"sk-text-repr-fallback\"><pre>RandomForestRegressor(random_state=0)</pre><b>In a Jupyter environment, please rerun this cell to show the HTML representation or trust the notebook. <br />On GitHub, the HTML representation is unable to render, please try loading this page with nbviewer.org.</b></div><div class=\"sk-container\" hidden><div class=\"sk-item\"><div class=\"sk-estimator sk-toggleable\"><input class=\"sk-toggleable__control sk-hidden--visually\" id=\"sk-estimator-id-1\" type=\"checkbox\" checked><label for=\"sk-estimator-id-1\" class=\"sk-toggleable__label sk-toggleable__label-arrow\">RandomForestRegressor</label><div class=\"sk-toggleable__content\"><pre>RandomForestRegressor(random_state=0)</pre></div></div></div></div></div>"
     },
     "execution_count": 124,
     "metadata": {},
     "output_type": "execute_result"
    }
   ],
   "source": [
    "regressor.fit(x_train, y_train)"
   ],
   "metadata": {
    "collapsed": false,
    "pycharm": {
     "name": "#%%\n"
    }
   }
  },
  {
   "cell_type": "code",
   "execution_count": 125,
   "outputs": [],
   "source": [
    "in_sample_randF_r = regressor.predict(x_train)\n",
    "out_sample_randF_r = regressor.predict(x_test)"
   ],
   "metadata": {
    "collapsed": false,
    "pycharm": {
     "name": "#%%\n"
    }
   }
  }
 ],
 "metadata": {
  "kernelspec": {
   "display_name": "Python 3 (ipykernel)",
   "language": "python",
   "name": "python3"
  },
  "language_info": {
   "codemirror_mode": {
    "name": "ipython",
    "version": 3
   },
   "file_extension": ".py",
   "mimetype": "text/x-python",
   "name": "python",
   "nbconvert_exporter": "python",
   "pygments_lexer": "ipython3",
   "version": "3.9.7"
  }
 },
 "nbformat": 4,
 "nbformat_minor": 1
}