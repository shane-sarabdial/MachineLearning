{
 "cells": [
  {
   "cell_type": "markdown",
   "metadata": {
    "pycharm": {
     "name": "#%% md\n"
    }
   },
   "source": [
    "### Satram Shane Sarabdial Assignment 1"
   ]
  },
  {
   "cell_type": "code",
   "execution_count": 4,
   "metadata": {
    "pycharm": {
     "name": "#%%\n"
    }
   },
   "outputs": [],
   "source": [
    "import matplotlib.pyplot as plt\n",
    "import numpy as np\n",
    "import pandas as pd\n",
    "import matplotlib.pyplot as plt\n",
    "from yahooquery import Ticker\n",
    "import statsmodels.api as sm\n",
    "from itertools import chain, combinations\n",
    "import statsmodels.formula.api as smf\n",
    "import scipy.stats as scipystats\n",
    "import statsmodels.stats.stattools as stools\n",
    "import statsmodels.stats as stats\n",
    "from statsmodels.graphics.regressionplots import *\n",
    "import seaborn as sns\n",
    "import copy\n",
    "#from sklearn.cross_validation import train_test_split\n",
    "import math\n",
    "import time"
   ]
  },
  {
   "cell_type": "markdown",
   "metadata": {
    "pycharm": {
     "name": "#%% md\n"
    }
   },
   "source": [
    "### Question 1: Verify that  the type of data0 is a dataframe. The index of this data frame is:"
   ]
  },
  {
   "cell_type": "code",
   "execution_count": 5,
   "metadata": {
    "pycharm": {
     "name": "#%%\n"
    }
   },
   "outputs": [
    {
     "data": {
      "text/html": [
       "<div>\n",
       "<style scoped>\n",
       "    .dataframe tbody tr th:only-of-type {\n",
       "        vertical-align: middle;\n",
       "    }\n",
       "\n",
       "    .dataframe tbody tr th {\n",
       "        vertical-align: top;\n",
       "    }\n",
       "\n",
       "    .dataframe thead th {\n",
       "        text-align: right;\n",
       "    }\n",
       "</style>\n",
       "<table border=\"1\" class=\"dataframe\">\n",
       "  <thead>\n",
       "    <tr style=\"text-align: right;\">\n",
       "      <th></th>\n",
       "      <th></th>\n",
       "      <th>open</th>\n",
       "      <th>close</th>\n",
       "      <th>low</th>\n",
       "      <th>high</th>\n",
       "      <th>volume</th>\n",
       "      <th>adjclose</th>\n",
       "      <th>dividends</th>\n",
       "      <th>splits</th>\n",
       "    </tr>\n",
       "    <tr>\n",
       "      <th>symbol</th>\n",
       "      <th>date</th>\n",
       "      <th></th>\n",
       "      <th></th>\n",
       "      <th></th>\n",
       "      <th></th>\n",
       "      <th></th>\n",
       "      <th></th>\n",
       "      <th></th>\n",
       "      <th></th>\n",
       "    </tr>\n",
       "  </thead>\n",
       "  <tbody>\n",
       "    <tr>\n",
       "      <th rowspan=\"5\" valign=\"top\">SPY</th>\n",
       "      <th>2006-01-01</th>\n",
       "      <td>125.190002</td>\n",
       "      <td>127.500000</td>\n",
       "      <td>124.389999</td>\n",
       "      <td>129.440002</td>\n",
       "      <td>1.233911e+09</td>\n",
       "      <td>92.759422</td>\n",
       "      <td>0.000</td>\n",
       "      <td>0.0</td>\n",
       "    </tr>\n",
       "    <tr>\n",
       "      <th>2006-02-01</th>\n",
       "      <td>127.820000</td>\n",
       "      <td>128.229996</td>\n",
       "      <td>125.400002</td>\n",
       "      <td>130.039993</td>\n",
       "      <td>1.145244e+09</td>\n",
       "      <td>93.290520</td>\n",
       "      <td>0.000</td>\n",
       "      <td>0.0</td>\n",
       "    </tr>\n",
       "    <tr>\n",
       "      <th>2006-03-01</th>\n",
       "      <td>128.600006</td>\n",
       "      <td>129.830002</td>\n",
       "      <td>127.180000</td>\n",
       "      <td>131.470001</td>\n",
       "      <td>1.350777e+09</td>\n",
       "      <td>94.454544</td>\n",
       "      <td>0.000</td>\n",
       "      <td>0.0</td>\n",
       "    </tr>\n",
       "    <tr>\n",
       "      <th>2006-03-17</th>\n",
       "      <td>NaN</td>\n",
       "      <td>NaN</td>\n",
       "      <td>NaN</td>\n",
       "      <td>NaN</td>\n",
       "      <td>NaN</td>\n",
       "      <td>NaN</td>\n",
       "      <td>0.519</td>\n",
       "      <td>0.0</td>\n",
       "    </tr>\n",
       "    <tr>\n",
       "      <th>2006-04-01</th>\n",
       "      <td>130.070007</td>\n",
       "      <td>131.470001</td>\n",
       "      <td>128.020004</td>\n",
       "      <td>131.860001</td>\n",
       "      <td>1.300328e+09</td>\n",
       "      <td>96.028030</td>\n",
       "      <td>0.000</td>\n",
       "      <td>0.0</td>\n",
       "    </tr>\n",
       "    <tr>\n",
       "      <th>...</th>\n",
       "      <th>...</th>\n",
       "      <td>...</td>\n",
       "      <td>...</td>\n",
       "      <td>...</td>\n",
       "      <td>...</td>\n",
       "      <td>...</td>\n",
       "      <td>...</td>\n",
       "      <td>...</td>\n",
       "      <td>...</td>\n",
       "    </tr>\n",
       "    <tr>\n",
       "      <th rowspan=\"5\" valign=\"top\">SBNY</th>\n",
       "      <th>2021-09-01</th>\n",
       "      <td>260.350006</td>\n",
       "      <td>272.279999</td>\n",
       "      <td>246.100006</td>\n",
       "      <td>280.089996</td>\n",
       "      <td>1.073460e+07</td>\n",
       "      <td>270.652191</td>\n",
       "      <td>0.000</td>\n",
       "      <td>0.0</td>\n",
       "    </tr>\n",
       "    <tr>\n",
       "      <th>2021-10-01</th>\n",
       "      <td>274.700012</td>\n",
       "      <td>297.820007</td>\n",
       "      <td>272.010010</td>\n",
       "      <td>317.510010</td>\n",
       "      <td>1.212230e+07</td>\n",
       "      <td>296.039520</td>\n",
       "      <td>0.000</td>\n",
       "      <td>0.0</td>\n",
       "    </tr>\n",
       "    <tr>\n",
       "      <th>2021-10-28</th>\n",
       "      <td>NaN</td>\n",
       "      <td>NaN</td>\n",
       "      <td>NaN</td>\n",
       "      <td>NaN</td>\n",
       "      <td>NaN</td>\n",
       "      <td>NaN</td>\n",
       "      <td>0.560</td>\n",
       "      <td>0.0</td>\n",
       "    </tr>\n",
       "    <tr>\n",
       "      <th>2021-11-01</th>\n",
       "      <td>301.359985</td>\n",
       "      <td>302.299988</td>\n",
       "      <td>299.000000</td>\n",
       "      <td>342.029999</td>\n",
       "      <td>1.832010e+07</td>\n",
       "      <td>301.063141</td>\n",
       "      <td>0.000</td>\n",
       "      <td>0.0</td>\n",
       "    </tr>\n",
       "    <tr>\n",
       "      <th>2021-12-01</th>\n",
       "      <td>314.200012</td>\n",
       "      <td>323.470001</td>\n",
       "      <td>288.149994</td>\n",
       "      <td>328.209991</td>\n",
       "      <td>2.784870e+07</td>\n",
       "      <td>322.146545</td>\n",
       "      <td>0.000</td>\n",
       "      <td>0.0</td>\n",
       "    </tr>\n",
       "  </tbody>\n",
       "</table>\n",
       "<p>2474 rows × 8 columns</p>\n",
       "</div>"
      ],
      "text/plain": [
       "                         open       close         low        high  \\\n",
       "symbol date                                                         \n",
       "SPY    2006-01-01  125.190002  127.500000  124.389999  129.440002   \n",
       "       2006-02-01  127.820000  128.229996  125.400002  130.039993   \n",
       "       2006-03-01  128.600006  129.830002  127.180000  131.470001   \n",
       "       2006-03-17         NaN         NaN         NaN         NaN   \n",
       "       2006-04-01  130.070007  131.470001  128.020004  131.860001   \n",
       "...                       ...         ...         ...         ...   \n",
       "SBNY   2021-09-01  260.350006  272.279999  246.100006  280.089996   \n",
       "       2021-10-01  274.700012  297.820007  272.010010  317.510010   \n",
       "       2021-10-28         NaN         NaN         NaN         NaN   \n",
       "       2021-11-01  301.359985  302.299988  299.000000  342.029999   \n",
       "       2021-12-01  314.200012  323.470001  288.149994  328.209991   \n",
       "\n",
       "                         volume    adjclose  dividends  splits  \n",
       "symbol date                                                     \n",
       "SPY    2006-01-01  1.233911e+09   92.759422      0.000     0.0  \n",
       "       2006-02-01  1.145244e+09   93.290520      0.000     0.0  \n",
       "       2006-03-01  1.350777e+09   94.454544      0.000     0.0  \n",
       "       2006-03-17           NaN         NaN      0.519     0.0  \n",
       "       2006-04-01  1.300328e+09   96.028030      0.000     0.0  \n",
       "...                         ...         ...        ...     ...  \n",
       "SBNY   2021-09-01  1.073460e+07  270.652191      0.000     0.0  \n",
       "       2021-10-01  1.212230e+07  296.039520      0.000     0.0  \n",
       "       2021-10-28           NaN         NaN      0.560     0.0  \n",
       "       2021-11-01  1.832010e+07  301.063141      0.000     0.0  \n",
       "       2021-12-01  2.784870e+07  322.146545      0.000     0.0  \n",
       "\n",
       "[2474 rows x 8 columns]"
      ]
     },
     "execution_count": 5,
     "metadata": {},
     "output_type": "execute_result"
    }
   ],
   "source": [
    "symbols = ['SPY', 'XLF', 'JPM', 'BAC', 'WFC', 'C', 'PNC', 'EWBC', 'BK', 'SBNY']\n",
    "tickers = Ticker(symbols)\n",
    "data = tickers.history(start='2005-12-30', end='2021-12-31', interval='1mo')\n",
    "data"
   ]
  },
  {
   "cell_type": "markdown",
   "metadata": {
    "pycharm": {
     "name": "#%% md\n"
    }
   },
   "source": [
    "### Question 2: create a data frame data0_  from data0 by droping its missing values. Print data0.shape and data0_shape."
   ]
  },
  {
   "cell_type": "code",
   "execution_count": 6,
   "metadata": {
    "pycharm": {
     "name": "#%%\n"
    }
   },
   "outputs": [
    {
     "data": {
      "text/html": [
       "<div>\n",
       "<style scoped>\n",
       "    .dataframe tbody tr th:only-of-type {\n",
       "        vertical-align: middle;\n",
       "    }\n",
       "\n",
       "    .dataframe tbody tr th {\n",
       "        vertical-align: top;\n",
       "    }\n",
       "\n",
       "    .dataframe thead th {\n",
       "        text-align: right;\n",
       "    }\n",
       "</style>\n",
       "<table border=\"1\" class=\"dataframe\">\n",
       "  <thead>\n",
       "    <tr style=\"text-align: right;\">\n",
       "      <th></th>\n",
       "      <th></th>\n",
       "      <th>open</th>\n",
       "      <th>close</th>\n",
       "      <th>low</th>\n",
       "      <th>high</th>\n",
       "      <th>volume</th>\n",
       "      <th>adjclose</th>\n",
       "      <th>dividends</th>\n",
       "      <th>splits</th>\n",
       "    </tr>\n",
       "    <tr>\n",
       "      <th>symbol</th>\n",
       "      <th>date</th>\n",
       "      <th></th>\n",
       "      <th></th>\n",
       "      <th></th>\n",
       "      <th></th>\n",
       "      <th></th>\n",
       "      <th></th>\n",
       "      <th></th>\n",
       "      <th></th>\n",
       "    </tr>\n",
       "  </thead>\n",
       "  <tbody>\n",
       "    <tr>\n",
       "      <th rowspan=\"5\" valign=\"top\">SPY</th>\n",
       "      <th>2006-01-01</th>\n",
       "      <td>125.190002</td>\n",
       "      <td>127.500000</td>\n",
       "      <td>124.389999</td>\n",
       "      <td>129.440002</td>\n",
       "      <td>1.233911e+09</td>\n",
       "      <td>92.759422</td>\n",
       "      <td>0.0</td>\n",
       "      <td>0.0</td>\n",
       "    </tr>\n",
       "    <tr>\n",
       "      <th>2006-02-01</th>\n",
       "      <td>127.820000</td>\n",
       "      <td>128.229996</td>\n",
       "      <td>125.400002</td>\n",
       "      <td>130.039993</td>\n",
       "      <td>1.145244e+09</td>\n",
       "      <td>93.290520</td>\n",
       "      <td>0.0</td>\n",
       "      <td>0.0</td>\n",
       "    </tr>\n",
       "    <tr>\n",
       "      <th>2006-03-01</th>\n",
       "      <td>128.600006</td>\n",
       "      <td>129.830002</td>\n",
       "      <td>127.180000</td>\n",
       "      <td>131.470001</td>\n",
       "      <td>1.350777e+09</td>\n",
       "      <td>94.454544</td>\n",
       "      <td>0.0</td>\n",
       "      <td>0.0</td>\n",
       "    </tr>\n",
       "    <tr>\n",
       "      <th>2006-04-01</th>\n",
       "      <td>130.070007</td>\n",
       "      <td>131.470001</td>\n",
       "      <td>128.020004</td>\n",
       "      <td>131.860001</td>\n",
       "      <td>1.300328e+09</td>\n",
       "      <td>96.028030</td>\n",
       "      <td>0.0</td>\n",
       "      <td>0.0</td>\n",
       "    </tr>\n",
       "    <tr>\n",
       "      <th>2006-05-01</th>\n",
       "      <td>131.470001</td>\n",
       "      <td>127.510002</td>\n",
       "      <td>124.760002</td>\n",
       "      <td>132.800003</td>\n",
       "      <td>1.752747e+09</td>\n",
       "      <td>93.135590</td>\n",
       "      <td>0.0</td>\n",
       "      <td>0.0</td>\n",
       "    </tr>\n",
       "  </tbody>\n",
       "</table>\n",
       "</div>"
      ],
      "text/plain": [
       "                         open       close         low        high  \\\n",
       "symbol date                                                         \n",
       "SPY    2006-01-01  125.190002  127.500000  124.389999  129.440002   \n",
       "       2006-02-01  127.820000  128.229996  125.400002  130.039993   \n",
       "       2006-03-01  128.600006  129.830002  127.180000  131.470001   \n",
       "       2006-04-01  130.070007  131.470001  128.020004  131.860001   \n",
       "       2006-05-01  131.470001  127.510002  124.760002  132.800003   \n",
       "\n",
       "                         volume   adjclose  dividends  splits  \n",
       "symbol date                                                    \n",
       "SPY    2006-01-01  1.233911e+09  92.759422        0.0     0.0  \n",
       "       2006-02-01  1.145244e+09  93.290520        0.0     0.0  \n",
       "       2006-03-01  1.350777e+09  94.454544        0.0     0.0  \n",
       "       2006-04-01  1.300328e+09  96.028030        0.0     0.0  \n",
       "       2006-05-01  1.752747e+09  93.135590        0.0     0.0  "
      ]
     },
     "execution_count": 6,
     "metadata": {},
     "output_type": "execute_result"
    }
   ],
   "source": [
    "data1 = data.dropna()\n",
    "data1.head()"
   ]
  },
  {
   "cell_type": "code",
   "execution_count": 7,
   "metadata": {
    "pycharm": {
     "name": "#%%\n"
    }
   },
   "outputs": [
    {
     "data": {
      "text/plain": [
       "(1920, 8)"
      ]
     },
     "execution_count": 7,
     "metadata": {},
     "output_type": "execute_result"
    }
   ],
   "source": [
    "data1.shape"
   ]
  },
  {
   "cell_type": "markdown",
   "metadata": {
    "pycharm": {
     "name": "#%% md\n"
    }
   },
   "source": [
    "### Question 3: Create a dataframe with a name, data, by resting the index of data0_\n",
    "### Filter out data frame ,df, for  for symbol == 'BK'.  Create a column in df  name it, BK_ret that provide the adjclose monthly return. Based on this column, the standard deviation of BK_ret is"
   ]
  },
  {
   "cell_type": "code",
   "execution_count": 8,
   "metadata": {
    "pycharm": {
     "name": "#%%\n"
    }
   },
   "outputs": [
    {
     "data": {
      "text/html": [
       "<div>\n",
       "<style scoped>\n",
       "    .dataframe tbody tr th:only-of-type {\n",
       "        vertical-align: middle;\n",
       "    }\n",
       "\n",
       "    .dataframe tbody tr th {\n",
       "        vertical-align: top;\n",
       "    }\n",
       "\n",
       "    .dataframe thead th {\n",
       "        text-align: right;\n",
       "    }\n",
       "</style>\n",
       "<table border=\"1\" class=\"dataframe\">\n",
       "  <thead>\n",
       "    <tr style=\"text-align: right;\">\n",
       "      <th></th>\n",
       "      <th>symbol</th>\n",
       "      <th>date</th>\n",
       "      <th>open</th>\n",
       "      <th>close</th>\n",
       "      <th>low</th>\n",
       "      <th>high</th>\n",
       "      <th>volume</th>\n",
       "      <th>adjclose</th>\n",
       "      <th>dividends</th>\n",
       "      <th>splits</th>\n",
       "    </tr>\n",
       "  </thead>\n",
       "  <tbody>\n",
       "    <tr>\n",
       "      <th>0</th>\n",
       "      <td>SPY</td>\n",
       "      <td>2006-01-01</td>\n",
       "      <td>125.190002</td>\n",
       "      <td>127.500000</td>\n",
       "      <td>124.389999</td>\n",
       "      <td>129.440002</td>\n",
       "      <td>1.233911e+09</td>\n",
       "      <td>92.759422</td>\n",
       "      <td>0.0</td>\n",
       "      <td>0.0</td>\n",
       "    </tr>\n",
       "    <tr>\n",
       "      <th>1</th>\n",
       "      <td>SPY</td>\n",
       "      <td>2006-02-01</td>\n",
       "      <td>127.820000</td>\n",
       "      <td>128.229996</td>\n",
       "      <td>125.400002</td>\n",
       "      <td>130.039993</td>\n",
       "      <td>1.145244e+09</td>\n",
       "      <td>93.290520</td>\n",
       "      <td>0.0</td>\n",
       "      <td>0.0</td>\n",
       "    </tr>\n",
       "    <tr>\n",
       "      <th>2</th>\n",
       "      <td>SPY</td>\n",
       "      <td>2006-03-01</td>\n",
       "      <td>128.600006</td>\n",
       "      <td>129.830002</td>\n",
       "      <td>127.180000</td>\n",
       "      <td>131.470001</td>\n",
       "      <td>1.350777e+09</td>\n",
       "      <td>94.454544</td>\n",
       "      <td>0.0</td>\n",
       "      <td>0.0</td>\n",
       "    </tr>\n",
       "    <tr>\n",
       "      <th>3</th>\n",
       "      <td>SPY</td>\n",
       "      <td>2006-04-01</td>\n",
       "      <td>130.070007</td>\n",
       "      <td>131.470001</td>\n",
       "      <td>128.020004</td>\n",
       "      <td>131.860001</td>\n",
       "      <td>1.300328e+09</td>\n",
       "      <td>96.028030</td>\n",
       "      <td>0.0</td>\n",
       "      <td>0.0</td>\n",
       "    </tr>\n",
       "    <tr>\n",
       "      <th>4</th>\n",
       "      <td>SPY</td>\n",
       "      <td>2006-05-01</td>\n",
       "      <td>131.470001</td>\n",
       "      <td>127.510002</td>\n",
       "      <td>124.760002</td>\n",
       "      <td>132.800003</td>\n",
       "      <td>1.752747e+09</td>\n",
       "      <td>93.135590</td>\n",
       "      <td>0.0</td>\n",
       "      <td>0.0</td>\n",
       "    </tr>\n",
       "    <tr>\n",
       "      <th>...</th>\n",
       "      <td>...</td>\n",
       "      <td>...</td>\n",
       "      <td>...</td>\n",
       "      <td>...</td>\n",
       "      <td>...</td>\n",
       "      <td>...</td>\n",
       "      <td>...</td>\n",
       "      <td>...</td>\n",
       "      <td>...</td>\n",
       "      <td>...</td>\n",
       "    </tr>\n",
       "    <tr>\n",
       "      <th>1915</th>\n",
       "      <td>SBNY</td>\n",
       "      <td>2021-08-01</td>\n",
       "      <td>228.660004</td>\n",
       "      <td>259.329987</td>\n",
       "      <td>223.960007</td>\n",
       "      <td>268.459991</td>\n",
       "      <td>9.439300e+06</td>\n",
       "      <td>257.779633</td>\n",
       "      <td>0.0</td>\n",
       "      <td>0.0</td>\n",
       "    </tr>\n",
       "    <tr>\n",
       "      <th>1916</th>\n",
       "      <td>SBNY</td>\n",
       "      <td>2021-09-01</td>\n",
       "      <td>260.350006</td>\n",
       "      <td>272.279999</td>\n",
       "      <td>246.100006</td>\n",
       "      <td>280.089996</td>\n",
       "      <td>1.073460e+07</td>\n",
       "      <td>270.652191</td>\n",
       "      <td>0.0</td>\n",
       "      <td>0.0</td>\n",
       "    </tr>\n",
       "    <tr>\n",
       "      <th>1917</th>\n",
       "      <td>SBNY</td>\n",
       "      <td>2021-10-01</td>\n",
       "      <td>274.700012</td>\n",
       "      <td>297.820007</td>\n",
       "      <td>272.010010</td>\n",
       "      <td>317.510010</td>\n",
       "      <td>1.212230e+07</td>\n",
       "      <td>296.039520</td>\n",
       "      <td>0.0</td>\n",
       "      <td>0.0</td>\n",
       "    </tr>\n",
       "    <tr>\n",
       "      <th>1918</th>\n",
       "      <td>SBNY</td>\n",
       "      <td>2021-11-01</td>\n",
       "      <td>301.359985</td>\n",
       "      <td>302.299988</td>\n",
       "      <td>299.000000</td>\n",
       "      <td>342.029999</td>\n",
       "      <td>1.832010e+07</td>\n",
       "      <td>301.063141</td>\n",
       "      <td>0.0</td>\n",
       "      <td>0.0</td>\n",
       "    </tr>\n",
       "    <tr>\n",
       "      <th>1919</th>\n",
       "      <td>SBNY</td>\n",
       "      <td>2021-12-01</td>\n",
       "      <td>314.200012</td>\n",
       "      <td>323.470001</td>\n",
       "      <td>288.149994</td>\n",
       "      <td>328.209991</td>\n",
       "      <td>2.784870e+07</td>\n",
       "      <td>322.146545</td>\n",
       "      <td>0.0</td>\n",
       "      <td>0.0</td>\n",
       "    </tr>\n",
       "  </tbody>\n",
       "</table>\n",
       "<p>1920 rows × 10 columns</p>\n",
       "</div>"
      ],
      "text/plain": [
       "     symbol        date        open       close         low        high  \\\n",
       "0       SPY  2006-01-01  125.190002  127.500000  124.389999  129.440002   \n",
       "1       SPY  2006-02-01  127.820000  128.229996  125.400002  130.039993   \n",
       "2       SPY  2006-03-01  128.600006  129.830002  127.180000  131.470001   \n",
       "3       SPY  2006-04-01  130.070007  131.470001  128.020004  131.860001   \n",
       "4       SPY  2006-05-01  131.470001  127.510002  124.760002  132.800003   \n",
       "...     ...         ...         ...         ...         ...         ...   \n",
       "1915   SBNY  2021-08-01  228.660004  259.329987  223.960007  268.459991   \n",
       "1916   SBNY  2021-09-01  260.350006  272.279999  246.100006  280.089996   \n",
       "1917   SBNY  2021-10-01  274.700012  297.820007  272.010010  317.510010   \n",
       "1918   SBNY  2021-11-01  301.359985  302.299988  299.000000  342.029999   \n",
       "1919   SBNY  2021-12-01  314.200012  323.470001  288.149994  328.209991   \n",
       "\n",
       "            volume    adjclose  dividends  splits  \n",
       "0     1.233911e+09   92.759422        0.0     0.0  \n",
       "1     1.145244e+09   93.290520        0.0     0.0  \n",
       "2     1.350777e+09   94.454544        0.0     0.0  \n",
       "3     1.300328e+09   96.028030        0.0     0.0  \n",
       "4     1.752747e+09   93.135590        0.0     0.0  \n",
       "...            ...         ...        ...     ...  \n",
       "1915  9.439300e+06  257.779633        0.0     0.0  \n",
       "1916  1.073460e+07  270.652191        0.0     0.0  \n",
       "1917  1.212230e+07  296.039520        0.0     0.0  \n",
       "1918  1.832010e+07  301.063141        0.0     0.0  \n",
       "1919  2.784870e+07  322.146545        0.0     0.0  \n",
       "\n",
       "[1920 rows x 10 columns]"
      ]
     },
     "execution_count": 8,
     "metadata": {},
     "output_type": "execute_result"
    }
   ],
   "source": [
    "data1 = data1.reset_index()\n",
    "data1"
   ]
  },
  {
   "cell_type": "markdown",
   "metadata": {
    "pycharm": {
     "name": "#%% md\n"
    }
   },
   "source": [
    "### Question 3 +4 : Similar to the note book \"ML-2-Introduction to Regression Analysis .jpynb\", create a data frame named, returns, with stocks monthly-returns are columns. Test the following code and answer the     following question\n",
    " returns.min()\t,returns.iloc[returns['XLF_ret'].idxmin()]\n",
    " The above code outputs\n"
   ]
  },
  {
   "cell_type": "code",
   "execution_count": 9,
   "metadata": {
    "pycharm": {
     "name": "#%%\n"
    }
   },
   "outputs": [
    {
     "name": "stderr",
     "output_type": "stream",
     "text": [
      "C:\\Users\\shane\\AppData\\Local\\Temp/ipykernel_21580/4282308300.py:5: SettingWithCopyWarning: \n",
      "A value is trying to be set on a copy of a slice from a DataFrame.\n",
      "Try using .loc[row_indexer,col_indexer] = value instead\n",
      "\n",
      "See the caveats in the documentation: https://pandas.pydata.org/pandas-docs/stable/user_guide/indexing.html#returning-a-view-versus-a-copy\n",
      "  df[syml+'_ret'] = df['adjclose'].pct_change()\n"
     ]
    }
   ],
   "source": [
    "returns=pd.DataFrame()\n",
    "for syml in symbols:\n",
    "    df = 'sym_' +syml\n",
    "    df = data1[data1.symbol == syml]\n",
    "    df[syml+'_ret'] = df['adjclose'].pct_change()\n",
    "    df = df[['date', syml+'_ret']]\n",
    "    df['date'] =pd.to_datetime(df['date']).dt.strftime(\"%Y%m%d\")\n",
    "    if syml == symbols[0]:\n",
    "        returns = df\n",
    "    else:\n",
    "        returns = pd.merge(df,returns)\n"
   ]
  },
  {
   "cell_type": "code",
   "execution_count": 10,
   "metadata": {
    "pycharm": {
     "name": "#%%\n"
    }
   },
   "outputs": [
    {
     "data": {
      "text/html": [
       "<div>\n",
       "<style scoped>\n",
       "    .dataframe tbody tr th:only-of-type {\n",
       "        vertical-align: middle;\n",
       "    }\n",
       "\n",
       "    .dataframe tbody tr th {\n",
       "        vertical-align: top;\n",
       "    }\n",
       "\n",
       "    .dataframe thead th {\n",
       "        text-align: right;\n",
       "    }\n",
       "</style>\n",
       "<table border=\"1\" class=\"dataframe\">\n",
       "  <thead>\n",
       "    <tr style=\"text-align: right;\">\n",
       "      <th></th>\n",
       "      <th>date</th>\n",
       "      <th>SBNY_ret</th>\n",
       "      <th>BK_ret</th>\n",
       "      <th>EWBC_ret</th>\n",
       "      <th>PNC_ret</th>\n",
       "      <th>C_ret</th>\n",
       "      <th>WFC_ret</th>\n",
       "      <th>BAC_ret</th>\n",
       "      <th>JPM_ret</th>\n",
       "      <th>XLF_ret</th>\n",
       "      <th>SPY_ret</th>\n",
       "    </tr>\n",
       "  </thead>\n",
       "  <tbody>\n",
       "    <tr>\n",
       "      <th>1</th>\n",
       "      <td>20060201</td>\n",
       "      <td>0.064039</td>\n",
       "      <td>0.083623</td>\n",
       "      <td>0.021133</td>\n",
       "      <td>0.093121</td>\n",
       "      <td>-0.004508</td>\n",
       "      <td>0.029506</td>\n",
       "      <td>0.036626</td>\n",
       "      <td>0.043799</td>\n",
       "      <td>0.021283</td>\n",
       "      <td>0.005726</td>\n",
       "    </tr>\n",
       "    <tr>\n",
       "      <th>2</th>\n",
       "      <td>20060301</td>\n",
       "      <td>0.005864</td>\n",
       "      <td>0.052570</td>\n",
       "      <td>0.024227</td>\n",
       "      <td>-0.043212</td>\n",
       "      <td>0.029434</td>\n",
       "      <td>0.003226</td>\n",
       "      <td>-0.006761</td>\n",
       "      <td>0.012154</td>\n",
       "      <td>-0.002452</td>\n",
       "      <td>0.012477</td>\n",
       "    </tr>\n",
       "    <tr>\n",
       "      <th>3</th>\n",
       "      <td>20060401</td>\n",
       "      <td>0.085302</td>\n",
       "      <td>-0.024695</td>\n",
       "      <td>0.029053</td>\n",
       "      <td>0.061804</td>\n",
       "      <td>0.057591</td>\n",
       "      <td>0.075466</td>\n",
       "      <td>0.108266</td>\n",
       "      <td>0.089817</td>\n",
       "      <td>0.048913</td>\n",
       "      <td>0.016659</td>\n",
       "    </tr>\n",
       "    <tr>\n",
       "      <th>4</th>\n",
       "      <td>20060501</td>\n",
       "      <td>0.010179</td>\n",
       "      <td>-0.048786</td>\n",
       "      <td>0.007058</td>\n",
       "      <td>-0.027843</td>\n",
       "      <td>-0.002780</td>\n",
       "      <td>-0.033775</td>\n",
       "      <td>-0.030449</td>\n",
       "      <td>-0.052697</td>\n",
       "      <td>-0.037692</td>\n",
       "      <td>-0.030121</td>\n",
       "    </tr>\n",
       "    <tr>\n",
       "      <th>5</th>\n",
       "      <td>20060601</td>\n",
       "      <td>-0.093759</td>\n",
       "      <td>-0.030996</td>\n",
       "      <td>-0.049866</td>\n",
       "      <td>0.018285</td>\n",
       "      <td>-0.021298</td>\n",
       "      <td>0.018499</td>\n",
       "      <td>0.004111</td>\n",
       "      <td>-0.015009</td>\n",
       "      <td>-0.010404</td>\n",
       "      <td>-0.001804</td>\n",
       "    </tr>\n",
       "  </tbody>\n",
       "</table>\n",
       "</div>"
      ],
      "text/plain": [
       "       date  SBNY_ret    BK_ret  EWBC_ret   PNC_ret     C_ret   WFC_ret  \\\n",
       "1  20060201  0.064039  0.083623  0.021133  0.093121 -0.004508  0.029506   \n",
       "2  20060301  0.005864  0.052570  0.024227 -0.043212  0.029434  0.003226   \n",
       "3  20060401  0.085302 -0.024695  0.029053  0.061804  0.057591  0.075466   \n",
       "4  20060501  0.010179 -0.048786  0.007058 -0.027843 -0.002780 -0.033775   \n",
       "5  20060601 -0.093759 -0.030996 -0.049866  0.018285 -0.021298  0.018499   \n",
       "\n",
       "    BAC_ret   JPM_ret   XLF_ret   SPY_ret  \n",
       "1  0.036626  0.043799  0.021283  0.005726  \n",
       "2 -0.006761  0.012154 -0.002452  0.012477  \n",
       "3  0.108266  0.089817  0.048913  0.016659  \n",
       "4 -0.030449 -0.052697 -0.037692 -0.030121  \n",
       "5  0.004111 -0.015009 -0.010404 -0.001804  "
      ]
     },
     "execution_count": 10,
     "metadata": {},
     "output_type": "execute_result"
    }
   ],
   "source": [
    "returns = returns.dropna()\n",
    "returns.head()"
   ]
  },
  {
   "cell_type": "code",
   "execution_count": 11,
   "metadata": {
    "pycharm": {
     "name": "#%%\n"
    }
   },
   "outputs": [
    {
     "data": {
      "text/plain": [
       "0.06900513231269681"
      ]
     },
     "execution_count": 11,
     "metadata": {},
     "output_type": "execute_result"
    }
   ],
   "source": [
    "returns['BK_ret'].std()\n"
   ]
  },
  {
   "cell_type": "code",
   "execution_count": 12,
   "metadata": {
    "pycharm": {
     "name": "#%%\n"
    }
   },
   "outputs": [
    {
     "data": {
      "text/plain": [
       "date        20090201\n",
       "SBNY_ret   -0.026469\n",
       "BK_ret     -0.127676\n",
       "EWBC_ret    -0.25079\n",
       "PNC_ret    -0.147054\n",
       "C_ret      -0.576459\n",
       "WFC_ret    -0.359788\n",
       "BAC_ret    -0.399696\n",
       "JPM_ret    -0.093346\n",
       "XLF_ret    -0.177489\n",
       "SPY_ret    -0.107449\n",
       "Name: 37, dtype: object"
      ]
     },
     "execution_count": 12,
     "metadata": {},
     "output_type": "execute_result"
    }
   ],
   "source": [
    "returns.min()\n",
    "returns.iloc[returns['XLF_ret'].idxmin()]"
   ]
  },
  {
   "cell_type": "markdown",
   "metadata": {
    "pycharm": {
     "name": "#%% md\n"
    }
   },
   "source": [
    "### Question 5: Calculate the correlation matrix of the returnsin the dataframe returns.  The symbol most correlated with XLF is\n"
   ]
  },
  {
   "cell_type": "code",
   "execution_count": 13,
   "metadata": {
    "pycharm": {
     "name": "#%%\n"
    }
   },
   "outputs": [
    {
     "data": {
      "text/plain": [
       "<AxesSubplot:>"
      ]
     },
     "execution_count": 13,
     "metadata": {},
     "output_type": "execute_result"
    },
    {
     "data": {
      "image/png": "[encoded data removed]",
      "text/plain": [
       "<Figure size 864x648 with 2 Axes>"
      ]
     },
     "metadata": {
      "needs_background": "light"
     },
     "output_type": "display_data"
    }
   ],
   "source": [
    "corrmat = returns.corr()\n",
    "plt.subplots(figsize = (12,9))\n",
    "sns.heatmap(corrmat, vmax =0.9, square = True, annot=True, cbar_kws ={'shrink': .5})"
   ]
  },
  {
   "cell_type": "code",
   "execution_count": 14,
   "metadata": {
    "pycharm": {
     "name": "#%%\n"
    }
   },
   "outputs": [
    {
     "data": {
      "text/html": [
       "<div>\n",
       "<style scoped>\n",
       "    .dataframe tbody tr th:only-of-type {\n",
       "        vertical-align: middle;\n",
       "    }\n",
       "\n",
       "    .dataframe tbody tr th {\n",
       "        vertical-align: top;\n",
       "    }\n",
       "\n",
       "    .dataframe thead th {\n",
       "        text-align: right;\n",
       "    }\n",
       "</style>\n",
       "<table border=\"1\" class=\"dataframe\">\n",
       "  <thead>\n",
       "    <tr style=\"text-align: right;\">\n",
       "      <th></th>\n",
       "      <th>SBNY_ret</th>\n",
       "      <th>BK_ret</th>\n",
       "      <th>EWBC_ret</th>\n",
       "      <th>PNC_ret</th>\n",
       "      <th>C_ret</th>\n",
       "      <th>WFC_ret</th>\n",
       "      <th>BAC_ret</th>\n",
       "      <th>JPM_ret</th>\n",
       "      <th>XLF_ret</th>\n",
       "      <th>SPY_ret</th>\n",
       "    </tr>\n",
       "  </thead>\n",
       "  <tbody>\n",
       "    <tr>\n",
       "      <th>SBNY_ret</th>\n",
       "      <td>1.000000</td>\n",
       "      <td>0.485620</td>\n",
       "      <td>0.508925</td>\n",
       "      <td>0.537973</td>\n",
       "      <td>0.488592</td>\n",
       "      <td>0.541495</td>\n",
       "      <td>0.492102</td>\n",
       "      <td>0.545591</td>\n",
       "      <td>0.567803</td>\n",
       "      <td>0.508449</td>\n",
       "    </tr>\n",
       "    <tr>\n",
       "      <th>BK_ret</th>\n",
       "      <td>0.485620</td>\n",
       "      <td>1.000000</td>\n",
       "      <td>0.319612</td>\n",
       "      <td>0.502666</td>\n",
       "      <td>0.657232</td>\n",
       "      <td>0.512087</td>\n",
       "      <td>0.626982</td>\n",
       "      <td>0.602639</td>\n",
       "      <td>0.665884</td>\n",
       "      <td>0.621839</td>\n",
       "    </tr>\n",
       "    <tr>\n",
       "      <th>EWBC_ret</th>\n",
       "      <td>0.508925</td>\n",
       "      <td>0.319612</td>\n",
       "      <td>1.000000</td>\n",
       "      <td>0.658625</td>\n",
       "      <td>0.427790</td>\n",
       "      <td>0.607175</td>\n",
       "      <td>0.498850</td>\n",
       "      <td>0.591950</td>\n",
       "      <td>0.606031</td>\n",
       "      <td>0.495535</td>\n",
       "    </tr>\n",
       "    <tr>\n",
       "      <th>PNC_ret</th>\n",
       "      <td>0.537973</td>\n",
       "      <td>0.502666</td>\n",
       "      <td>0.658625</td>\n",
       "      <td>1.000000</td>\n",
       "      <td>0.703097</td>\n",
       "      <td>0.817743</td>\n",
       "      <td>0.717829</td>\n",
       "      <td>0.773504</td>\n",
       "      <td>0.827051</td>\n",
       "      <td>0.643505</td>\n",
       "    </tr>\n",
       "    <tr>\n",
       "      <th>C_ret</th>\n",
       "      <td>0.488592</td>\n",
       "      <td>0.657232</td>\n",
       "      <td>0.427790</td>\n",
       "      <td>0.703097</td>\n",
       "      <td>1.000000</td>\n",
       "      <td>0.732178</td>\n",
       "      <td>0.832752</td>\n",
       "      <td>0.768885</td>\n",
       "      <td>0.858863</td>\n",
       "      <td>0.691060</td>\n",
       "    </tr>\n",
       "    <tr>\n",
       "      <th>WFC_ret</th>\n",
       "      <td>0.541495</td>\n",
       "      <td>0.512087</td>\n",
       "      <td>0.607175</td>\n",
       "      <td>0.817743</td>\n",
       "      <td>0.732178</td>\n",
       "      <td>1.000000</td>\n",
       "      <td>0.776209</td>\n",
       "      <td>0.776811</td>\n",
       "      <td>0.808350</td>\n",
       "      <td>0.580403</td>\n",
       "    </tr>\n",
       "    <tr>\n",
       "      <th>BAC_ret</th>\n",
       "      <td>0.492102</td>\n",
       "      <td>0.626982</td>\n",
       "      <td>0.498850</td>\n",
       "      <td>0.717829</td>\n",
       "      <td>0.832752</td>\n",
       "      <td>0.776209</td>\n",
       "      <td>1.000000</td>\n",
       "      <td>0.806683</td>\n",
       "      <td>0.845378</td>\n",
       "      <td>0.627194</td>\n",
       "    </tr>\n",
       "    <tr>\n",
       "      <th>JPM_ret</th>\n",
       "      <td>0.545591</td>\n",
       "      <td>0.602639</td>\n",
       "      <td>0.591950</td>\n",
       "      <td>0.773504</td>\n",
       "      <td>0.768885</td>\n",
       "      <td>0.776811</td>\n",
       "      <td>0.806683</td>\n",
       "      <td>1.000000</td>\n",
       "      <td>0.869192</td>\n",
       "      <td>0.661582</td>\n",
       "    </tr>\n",
       "    <tr>\n",
       "      <th>XLF_ret</th>\n",
       "      <td>0.567803</td>\n",
       "      <td>0.665884</td>\n",
       "      <td>0.606031</td>\n",
       "      <td>0.827051</td>\n",
       "      <td>0.858863</td>\n",
       "      <td>0.808350</td>\n",
       "      <td>0.845378</td>\n",
       "      <td>0.869192</td>\n",
       "      <td>1.000000</td>\n",
       "      <td>0.870299</td>\n",
       "    </tr>\n",
       "    <tr>\n",
       "      <th>SPY_ret</th>\n",
       "      <td>0.508449</td>\n",
       "      <td>0.621839</td>\n",
       "      <td>0.495535</td>\n",
       "      <td>0.643505</td>\n",
       "      <td>0.691060</td>\n",
       "      <td>0.580403</td>\n",
       "      <td>0.627194</td>\n",
       "      <td>0.661582</td>\n",
       "      <td>0.870299</td>\n",
       "      <td>1.000000</td>\n",
       "    </tr>\n",
       "  </tbody>\n",
       "</table>\n",
       "</div>"
      ],
      "text/plain": [
       "          SBNY_ret    BK_ret  EWBC_ret   PNC_ret     C_ret   WFC_ret  \\\n",
       "SBNY_ret  1.000000  0.485620  0.508925  0.537973  0.488592  0.541495   \n",
       "BK_ret    0.485620  1.000000  0.319612  0.502666  0.657232  0.512087   \n",
       "EWBC_ret  0.508925  0.319612  1.000000  0.658625  0.427790  0.607175   \n",
       "PNC_ret   0.537973  0.502666  0.658625  1.000000  0.703097  0.817743   \n",
       "C_ret     0.488592  0.657232  0.427790  0.703097  1.000000  0.732178   \n",
       "WFC_ret   0.541495  0.512087  0.607175  0.817743  0.732178  1.000000   \n",
       "BAC_ret   0.492102  0.626982  0.498850  0.717829  0.832752  0.776209   \n",
       "JPM_ret   0.545591  0.602639  0.591950  0.773504  0.768885  0.776811   \n",
       "XLF_ret   0.567803  0.665884  0.606031  0.827051  0.858863  0.808350   \n",
       "SPY_ret   0.508449  0.621839  0.495535  0.643505  0.691060  0.580403   \n",
       "\n",
       "           BAC_ret   JPM_ret   XLF_ret   SPY_ret  \n",
       "SBNY_ret  0.492102  0.545591  0.567803  0.508449  \n",
       "BK_ret    0.626982  0.602639  0.665884  0.621839  \n",
       "EWBC_ret  0.498850  0.591950  0.606031  0.495535  \n",
       "PNC_ret   0.717829  0.773504  0.827051  0.643505  \n",
       "C_ret     0.832752  0.768885  0.858863  0.691060  \n",
       "WFC_ret   0.776209  0.776811  0.808350  0.580403  \n",
       "BAC_ret   1.000000  0.806683  0.845378  0.627194  \n",
       "JPM_ret   0.806683  1.000000  0.869192  0.661582  \n",
       "XLF_ret   0.845378  0.869192  1.000000  0.870299  \n",
       "SPY_ret   0.627194  0.661582  0.870299  1.000000  "
      ]
     },
     "execution_count": 14,
     "metadata": {},
     "output_type": "execute_result"
    }
   ],
   "source": [
    "returns.corr()"
   ]
  },
  {
   "cell_type": "markdown",
   "metadata": {
    "pycharm": {
     "name": "#%% md\n"
    }
   },
   "source": [
    "### Question 6: Use statsmodels regression librar to run a regression of PNC return agians  SPY_ret.\n"
   ]
  },
  {
   "cell_type": "code",
   "execution_count": 15,
   "metadata": {
    "pycharm": {
     "name": "#%%\n"
    }
   },
   "outputs": [
    {
     "data": {
      "text/plain": [
       "array(<class 'statsmodels.iolib.summary.Summary'>\n",
       "\"\"\"\n",
       "                            OLS Regression Results                            \n",
       "==============================================================================\n",
       "Dep. Variable:                PNC_ret   R-squared:                       0.414\n",
       "Model:                            OLS   Adj. R-squared:                  0.411\n",
       "Method:                 Least Squares   F-statistic:                     133.6\n",
       "Date:                Tue, 10 May 2022   Prob (F-statistic):           1.03e-23\n",
       "Time:                        20:21:43   Log-Likelihood:                 263.75\n",
       "No. Observations:                 191   AIC:                            -523.5\n",
       "Df Residuals:                     189   BIC:                            -517.0\n",
       "Df Model:                           1                                         \n",
       "Covariance Type:            nonrobust                                         \n",
       "==============================================================================\n",
       "                 coef    std err          t      P>|t|      [0.025      0.975]\n",
       "------------------------------------------------------------------------------\n",
       "Intercept      0.0002      0.005      0.035      0.972      -0.009       0.009\n",
       "SPY_ret        1.1750      0.102     11.558      0.000       0.974       1.376\n",
       "==============================================================================\n",
       "Omnibus:                       22.547   Durbin-Watson:                   1.876\n",
       "Prob(Omnibus):                  0.000   Jarque-Bera (JB):               71.470\n",
       "Skew:                           0.376   Prob(JB):                     3.02e-16\n",
       "Kurtosis:                       5.901   Cond. No.                         23.0\n",
       "==============================================================================\n",
       "\n",
       "Notes:\n",
       "[1] Standard Errors assume that the covariance matrix of the errors is correctly specified.\n",
       "\"\"\", dtype=object)"
      ]
     },
     "execution_count": 15,
     "metadata": {},
     "output_type": "execute_result"
    }
   ],
   "source": [
    "reg1 = smf.ols('PNC_ret ~ SPY_ret', data = returns).fit()\n",
    "np.array(reg1.summary())"
   ]
  },
  {
   "cell_type": "markdown",
   "metadata": {
    "pycharm": {
     "name": "#%% md\n"
    }
   },
   "source": [
    "### Question 7: Use statsmodels regression librar to run a regression of PNC return agians XLF_ret and SPY_ret\n"
   ]
  },
  {
   "cell_type": "code",
   "execution_count": 16,
   "metadata": {
    "pycharm": {
     "name": "#%%\n"
    }
   },
   "outputs": [
    {
     "data": {
      "text/plain": [
       "array(<class 'statsmodels.iolib.summary.Summary'>\n",
       "\"\"\"\n",
       "                            OLS Regression Results                            \n",
       "==============================================================================\n",
       "Dep. Variable:                PNC_ret   R-squared:                       0.708\n",
       "Model:                            OLS   Adj. R-squared:                  0.705\n",
       "Method:                 Least Squares   F-statistic:                     227.9\n",
       "Date:                Tue, 10 May 2022   Prob (F-statistic):           5.58e-51\n",
       "Time:                        20:21:43   Log-Likelihood:                 330.25\n",
       "No. Observations:                 191   AIC:                            -654.5\n",
       "Df Residuals:                     188   BIC:                            -644.7\n",
       "Df Model:                           2                                         \n",
       "Covariance Type:            nonrobust                                         \n",
       "==============================================================================\n",
       "                 coef    std err          t      P>|t|      [0.025      0.975]\n",
       "------------------------------------------------------------------------------\n",
       "Intercept      0.0087      0.003      2.677      0.008       0.002       0.015\n",
       "SPY_ret       -0.5742      0.146     -3.930      0.000      -0.862      -0.286\n",
       "XLF_ret        1.3138      0.096     13.756      0.000       1.125       1.502\n",
       "==============================================================================\n",
       "Omnibus:                       11.883   Durbin-Watson:                   1.766\n",
       "Prob(Omnibus):                  0.003   Jarque-Bera (JB):               25.015\n",
       "Skew:                           0.208   Prob(JB):                     3.70e-06\n",
       "Kurtosis:                       4.724   Cond. No.                         54.2\n",
       "==============================================================================\n",
       "\n",
       "Notes:\n",
       "[1] Standard Errors assume that the covariance matrix of the errors is correctly specified.\n",
       "\"\"\", dtype=object)"
      ]
     },
     "execution_count": 16,
     "metadata": {},
     "output_type": "execute_result"
    }
   ],
   "source": [
    "reg2 = smf.ols('PNC_ret ~ SPY_ret + XLF_ret', data = returns).fit()\n",
    "np.array(reg2.summary())"
   ]
  },
  {
   "cell_type": "markdown",
   "metadata": {
    "pycharm": {
     "name": "#%% md\n"
    }
   },
   "source": [
    "### Question 8: Veriy that the following code runs a regression of PNC_ret on XLF_returns and creates PNC_ret prediction column conditional on XLF_ret and calculates the residual return of PNC with respect to XLF return\n",
    "lm0 = smf.ols(' PNC_ret ~ XLF_ret', data =returns ).fit()\n",
    "returns['pnc|xlf']= lm0.predict()\n",
    "returns['pnc_xlf_res']= returns['PNC_ret']-returns['pnc|xlf']\n",
    "returns.head()\n"
   ]
  },
  {
   "cell_type": "code",
   "execution_count": 17,
   "metadata": {
    "pycharm": {
     "name": "#%%\n"
    }
   },
   "outputs": [
    {
     "data": {
      "text/html": [
       "<div>\n",
       "<style scoped>\n",
       "    .dataframe tbody tr th:only-of-type {\n",
       "        vertical-align: middle;\n",
       "    }\n",
       "\n",
       "    .dataframe tbody tr th {\n",
       "        vertical-align: top;\n",
       "    }\n",
       "\n",
       "    .dataframe thead th {\n",
       "        text-align: right;\n",
       "    }\n",
       "</style>\n",
       "<table border=\"1\" class=\"dataframe\">\n",
       "  <thead>\n",
       "    <tr style=\"text-align: right;\">\n",
       "      <th></th>\n",
       "      <th>date</th>\n",
       "      <th>SBNY_ret</th>\n",
       "      <th>BK_ret</th>\n",
       "      <th>EWBC_ret</th>\n",
       "      <th>PNC_ret</th>\n",
       "      <th>C_ret</th>\n",
       "      <th>WFC_ret</th>\n",
       "      <th>BAC_ret</th>\n",
       "      <th>JPM_ret</th>\n",
       "      <th>XLF_ret</th>\n",
       "      <th>SPY_ret</th>\n",
       "      <th>pnc|xlf</th>\n",
       "      <th>pnc_xlf_res</th>\n",
       "    </tr>\n",
       "  </thead>\n",
       "  <tbody>\n",
       "    <tr>\n",
       "      <th>1</th>\n",
       "      <td>20060201</td>\n",
       "      <td>0.064039</td>\n",
       "      <td>0.083623</td>\n",
       "      <td>0.021133</td>\n",
       "      <td>0.093121</td>\n",
       "      <td>-0.004508</td>\n",
       "      <td>0.029506</td>\n",
       "      <td>0.036626</td>\n",
       "      <td>0.043799</td>\n",
       "      <td>0.021283</td>\n",
       "      <td>0.005726</td>\n",
       "      <td>0.026292</td>\n",
       "      <td>0.066828</td>\n",
       "    </tr>\n",
       "    <tr>\n",
       "      <th>2</th>\n",
       "      <td>20060301</td>\n",
       "      <td>0.005864</td>\n",
       "      <td>0.052570</td>\n",
       "      <td>0.024227</td>\n",
       "      <td>-0.043212</td>\n",
       "      <td>0.029434</td>\n",
       "      <td>0.003226</td>\n",
       "      <td>-0.006761</td>\n",
       "      <td>0.012154</td>\n",
       "      <td>-0.002452</td>\n",
       "      <td>0.012477</td>\n",
       "      <td>0.002863</td>\n",
       "      <td>-0.046075</td>\n",
       "    </tr>\n",
       "    <tr>\n",
       "      <th>3</th>\n",
       "      <td>20060401</td>\n",
       "      <td>0.085302</td>\n",
       "      <td>-0.024695</td>\n",
       "      <td>0.029053</td>\n",
       "      <td>0.061804</td>\n",
       "      <td>0.057591</td>\n",
       "      <td>0.075466</td>\n",
       "      <td>0.108266</td>\n",
       "      <td>0.089817</td>\n",
       "      <td>0.048913</td>\n",
       "      <td>0.016659</td>\n",
       "      <td>0.053566</td>\n",
       "      <td>0.008237</td>\n",
       "    </tr>\n",
       "    <tr>\n",
       "      <th>4</th>\n",
       "      <td>20060501</td>\n",
       "      <td>0.010179</td>\n",
       "      <td>-0.048786</td>\n",
       "      <td>0.007058</td>\n",
       "      <td>-0.027843</td>\n",
       "      <td>-0.002780</td>\n",
       "      <td>-0.033775</td>\n",
       "      <td>-0.030449</td>\n",
       "      <td>-0.052697</td>\n",
       "      <td>-0.037692</td>\n",
       "      <td>-0.030121</td>\n",
       "      <td>-0.031924</td>\n",
       "      <td>0.004080</td>\n",
       "    </tr>\n",
       "    <tr>\n",
       "      <th>5</th>\n",
       "      <td>20060601</td>\n",
       "      <td>-0.093759</td>\n",
       "      <td>-0.030996</td>\n",
       "      <td>-0.049866</td>\n",
       "      <td>0.018285</td>\n",
       "      <td>-0.021298</td>\n",
       "      <td>0.018499</td>\n",
       "      <td>0.004111</td>\n",
       "      <td>-0.015009</td>\n",
       "      <td>-0.010404</td>\n",
       "      <td>-0.001804</td>\n",
       "      <td>-0.004987</td>\n",
       "      <td>0.023272</td>\n",
       "    </tr>\n",
       "  </tbody>\n",
       "</table>\n",
       "</div>"
      ],
      "text/plain": [
       "       date  SBNY_ret    BK_ret  EWBC_ret   PNC_ret     C_ret   WFC_ret  \\\n",
       "1  20060201  0.064039  0.083623  0.021133  0.093121 -0.004508  0.029506   \n",
       "2  20060301  0.005864  0.052570  0.024227 -0.043212  0.029434  0.003226   \n",
       "3  20060401  0.085302 -0.024695  0.029053  0.061804  0.057591  0.075466   \n",
       "4  20060501  0.010179 -0.048786  0.007058 -0.027843 -0.002780 -0.033775   \n",
       "5  20060601 -0.093759 -0.030996 -0.049866  0.018285 -0.021298  0.018499   \n",
       "\n",
       "    BAC_ret   JPM_ret   XLF_ret   SPY_ret   pnc|xlf  pnc_xlf_res  \n",
       "1  0.036626  0.043799  0.021283  0.005726  0.026292     0.066828  \n",
       "2 -0.006761  0.012154 -0.002452  0.012477  0.002863    -0.046075  \n",
       "3  0.108266  0.089817  0.048913  0.016659  0.053566     0.008237  \n",
       "4 -0.030449 -0.052697 -0.037692 -0.030121 -0.031924     0.004080  \n",
       "5  0.004111 -0.015009 -0.010404 -0.001804 -0.004987     0.023272  "
      ]
     },
     "execution_count": 17,
     "metadata": {},
     "output_type": "execute_result"
    }
   ],
   "source": [
    "lm0 = smf.ols(' PNC_ret ~ XLF_ret', data =returns ).fit()\n",
    "returns['pnc|xlf']= lm0.predict()\n",
    "returns['pnc_xlf_res']= returns['PNC_ret']-returns['pnc|xlf']\n",
    "returns.head()"
   ]
  },
  {
   "cell_type": "code",
   "execution_count": 18,
   "metadata": {
    "pycharm": {
     "name": "#%%\n"
    }
   },
   "outputs": [
    {
     "data": {
      "text/html": [
       "<div>\n",
       "<style scoped>\n",
       "    .dataframe tbody tr th:only-of-type {\n",
       "        vertical-align: middle;\n",
       "    }\n",
       "\n",
       "    .dataframe tbody tr th {\n",
       "        vertical-align: top;\n",
       "    }\n",
       "\n",
       "    .dataframe thead th {\n",
       "        text-align: right;\n",
       "    }\n",
       "</style>\n",
       "<table border=\"1\" class=\"dataframe\">\n",
       "  <thead>\n",
       "    <tr style=\"text-align: right;\">\n",
       "      <th></th>\n",
       "      <th>SBNY_ret</th>\n",
       "      <th>BK_ret</th>\n",
       "      <th>EWBC_ret</th>\n",
       "      <th>PNC_ret</th>\n",
       "      <th>C_ret</th>\n",
       "      <th>WFC_ret</th>\n",
       "      <th>BAC_ret</th>\n",
       "      <th>JPM_ret</th>\n",
       "      <th>XLF_ret</th>\n",
       "      <th>SPY_ret</th>\n",
       "      <th>pnc|xlf</th>\n",
       "      <th>pnc_xlf_res</th>\n",
       "    </tr>\n",
       "  </thead>\n",
       "  <tbody>\n",
       "    <tr>\n",
       "      <th>SBNY_ret</th>\n",
       "      <td>1.000000</td>\n",
       "      <td>0.485620</td>\n",
       "      <td>0.508925</td>\n",
       "      <td>0.537973</td>\n",
       "      <td>0.488592</td>\n",
       "      <td>0.541495</td>\n",
       "      <td>0.492102</td>\n",
       "      <td>0.545591</td>\n",
       "      <td>5.678027e-01</td>\n",
       "      <td>0.508449</td>\n",
       "      <td>5.678027e-01</td>\n",
       "      <td>1.216293e-01</td>\n",
       "    </tr>\n",
       "    <tr>\n",
       "      <th>BK_ret</th>\n",
       "      <td>0.485620</td>\n",
       "      <td>1.000000</td>\n",
       "      <td>0.319612</td>\n",
       "      <td>0.502666</td>\n",
       "      <td>0.657232</td>\n",
       "      <td>0.512087</td>\n",
       "      <td>0.626982</td>\n",
       "      <td>0.602639</td>\n",
       "      <td>6.658842e-01</td>\n",
       "      <td>0.621839</td>\n",
       "      <td>6.658842e-01</td>\n",
       "      <td>-8.548695e-02</td>\n",
       "    </tr>\n",
       "    <tr>\n",
       "      <th>EWBC_ret</th>\n",
       "      <td>0.508925</td>\n",
       "      <td>0.319612</td>\n",
       "      <td>1.000000</td>\n",
       "      <td>0.658625</td>\n",
       "      <td>0.427790</td>\n",
       "      <td>0.607175</td>\n",
       "      <td>0.498850</td>\n",
       "      <td>0.591950</td>\n",
       "      <td>6.060309e-01</td>\n",
       "      <td>0.495535</td>\n",
       "      <td>6.060309e-01</td>\n",
       "      <td>2.800190e-01</td>\n",
       "    </tr>\n",
       "    <tr>\n",
       "      <th>PNC_ret</th>\n",
       "      <td>0.537973</td>\n",
       "      <td>0.502666</td>\n",
       "      <td>0.658625</td>\n",
       "      <td>1.000000</td>\n",
       "      <td>0.703097</td>\n",
       "      <td>0.817743</td>\n",
       "      <td>0.717829</td>\n",
       "      <td>0.773504</td>\n",
       "      <td>8.270508e-01</td>\n",
       "      <td>0.643505</td>\n",
       "      <td>8.270508e-01</td>\n",
       "      <td>5.621272e-01</td>\n",
       "    </tr>\n",
       "    <tr>\n",
       "      <th>C_ret</th>\n",
       "      <td>0.488592</td>\n",
       "      <td>0.657232</td>\n",
       "      <td>0.427790</td>\n",
       "      <td>0.703097</td>\n",
       "      <td>1.000000</td>\n",
       "      <td>0.732178</td>\n",
       "      <td>0.832752</td>\n",
       "      <td>0.768885</td>\n",
       "      <td>8.588635e-01</td>\n",
       "      <td>0.691060</td>\n",
       "      <td>8.588635e-01</td>\n",
       "      <td>-1.285552e-02</td>\n",
       "    </tr>\n",
       "    <tr>\n",
       "      <th>WFC_ret</th>\n",
       "      <td>0.541495</td>\n",
       "      <td>0.512087</td>\n",
       "      <td>0.607175</td>\n",
       "      <td>0.817743</td>\n",
       "      <td>0.732178</td>\n",
       "      <td>1.000000</td>\n",
       "      <td>0.776209</td>\n",
       "      <td>0.776811</td>\n",
       "      <td>8.083505e-01</td>\n",
       "      <td>0.580403</td>\n",
       "      <td>8.083505e-01</td>\n",
       "      <td>2.654127e-01</td>\n",
       "    </tr>\n",
       "    <tr>\n",
       "      <th>BAC_ret</th>\n",
       "      <td>0.492102</td>\n",
       "      <td>0.626982</td>\n",
       "      <td>0.498850</td>\n",
       "      <td>0.717829</td>\n",
       "      <td>0.832752</td>\n",
       "      <td>0.776209</td>\n",
       "      <td>1.000000</td>\n",
       "      <td>0.806683</td>\n",
       "      <td>8.453781e-01</td>\n",
       "      <td>0.627194</td>\n",
       "      <td>8.453781e-01</td>\n",
       "      <td>3.319244e-02</td>\n",
       "    </tr>\n",
       "    <tr>\n",
       "      <th>JPM_ret</th>\n",
       "      <td>0.545591</td>\n",
       "      <td>0.602639</td>\n",
       "      <td>0.591950</td>\n",
       "      <td>0.773504</td>\n",
       "      <td>0.768885</td>\n",
       "      <td>0.776811</td>\n",
       "      <td>0.806683</td>\n",
       "      <td>1.000000</td>\n",
       "      <td>8.691923e-01</td>\n",
       "      <td>0.661582</td>\n",
       "      <td>8.691923e-01</td>\n",
       "      <td>9.719839e-02</td>\n",
       "    </tr>\n",
       "    <tr>\n",
       "      <th>XLF_ret</th>\n",
       "      <td>0.567803</td>\n",
       "      <td>0.665884</td>\n",
       "      <td>0.606031</td>\n",
       "      <td>0.827051</td>\n",
       "      <td>0.858863</td>\n",
       "      <td>0.808350</td>\n",
       "      <td>0.845378</td>\n",
       "      <td>0.869192</td>\n",
       "      <td>1.000000e+00</td>\n",
       "      <td>0.870299</td>\n",
       "      <td>1.000000e+00</td>\n",
       "      <td>7.183317e-16</td>\n",
       "    </tr>\n",
       "    <tr>\n",
       "      <th>SPY_ret</th>\n",
       "      <td>0.508449</td>\n",
       "      <td>0.621839</td>\n",
       "      <td>0.495535</td>\n",
       "      <td>0.643505</td>\n",
       "      <td>0.691060</td>\n",
       "      <td>0.580403</td>\n",
       "      <td>0.627194</td>\n",
       "      <td>0.661582</td>\n",
       "      <td>8.702994e-01</td>\n",
       "      <td>1.000000</td>\n",
       "      <td>8.702994e-01</td>\n",
       "      <td>-1.356933e-01</td>\n",
       "    </tr>\n",
       "    <tr>\n",
       "      <th>pnc|xlf</th>\n",
       "      <td>0.567803</td>\n",
       "      <td>0.665884</td>\n",
       "      <td>0.606031</td>\n",
       "      <td>0.827051</td>\n",
       "      <td>0.858863</td>\n",
       "      <td>0.808350</td>\n",
       "      <td>0.845378</td>\n",
       "      <td>0.869192</td>\n",
       "      <td>1.000000e+00</td>\n",
       "      <td>0.870299</td>\n",
       "      <td>1.000000e+00</td>\n",
       "      <td>7.459736e-16</td>\n",
       "    </tr>\n",
       "    <tr>\n",
       "      <th>pnc_xlf_res</th>\n",
       "      <td>0.121629</td>\n",
       "      <td>-0.085487</td>\n",
       "      <td>0.280019</td>\n",
       "      <td>0.562127</td>\n",
       "      <td>-0.012856</td>\n",
       "      <td>0.265413</td>\n",
       "      <td>0.033192</td>\n",
       "      <td>0.097198</td>\n",
       "      <td>7.183317e-16</td>\n",
       "      <td>-0.135693</td>\n",
       "      <td>7.459736e-16</td>\n",
       "      <td>1.000000e+00</td>\n",
       "    </tr>\n",
       "  </tbody>\n",
       "</table>\n",
       "</div>"
      ],
      "text/plain": [
       "             SBNY_ret    BK_ret  EWBC_ret   PNC_ret     C_ret   WFC_ret  \\\n",
       "SBNY_ret     1.000000  0.485620  0.508925  0.537973  0.488592  0.541495   \n",
       "BK_ret       0.485620  1.000000  0.319612  0.502666  0.657232  0.512087   \n",
       "EWBC_ret     0.508925  0.319612  1.000000  0.658625  0.427790  0.607175   \n",
       "PNC_ret      0.537973  0.502666  0.658625  1.000000  0.703097  0.817743   \n",
       "C_ret        0.488592  0.657232  0.427790  0.703097  1.000000  0.732178   \n",
       "WFC_ret      0.541495  0.512087  0.607175  0.817743  0.732178  1.000000   \n",
       "BAC_ret      0.492102  0.626982  0.498850  0.717829  0.832752  0.776209   \n",
       "JPM_ret      0.545591  0.602639  0.591950  0.773504  0.768885  0.776811   \n",
       "XLF_ret      0.567803  0.665884  0.606031  0.827051  0.858863  0.808350   \n",
       "SPY_ret      0.508449  0.621839  0.495535  0.643505  0.691060  0.580403   \n",
       "pnc|xlf      0.567803  0.665884  0.606031  0.827051  0.858863  0.808350   \n",
       "pnc_xlf_res  0.121629 -0.085487  0.280019  0.562127 -0.012856  0.265413   \n",
       "\n",
       "              BAC_ret   JPM_ret       XLF_ret   SPY_ret       pnc|xlf  \\\n",
       "SBNY_ret     0.492102  0.545591  5.678027e-01  0.508449  5.678027e-01   \n",
       "BK_ret       0.626982  0.602639  6.658842e-01  0.621839  6.658842e-01   \n",
       "EWBC_ret     0.498850  0.591950  6.060309e-01  0.495535  6.060309e-01   \n",
       "PNC_ret      0.717829  0.773504  8.270508e-01  0.643505  8.270508e-01   \n",
       "C_ret        0.832752  0.768885  8.588635e-01  0.691060  8.588635e-01   \n",
       "WFC_ret      0.776209  0.776811  8.083505e-01  0.580403  8.083505e-01   \n",
       "BAC_ret      1.000000  0.806683  8.453781e-01  0.627194  8.453781e-01   \n",
       "JPM_ret      0.806683  1.000000  8.691923e-01  0.661582  8.691923e-01   \n",
       "XLF_ret      0.845378  0.869192  1.000000e+00  0.870299  1.000000e+00   \n",
       "SPY_ret      0.627194  0.661582  8.702994e-01  1.000000  8.702994e-01   \n",
       "pnc|xlf      0.845378  0.869192  1.000000e+00  0.870299  1.000000e+00   \n",
       "pnc_xlf_res  0.033192  0.097198  7.183317e-16 -0.135693  7.459736e-16   \n",
       "\n",
       "              pnc_xlf_res  \n",
       "SBNY_ret     1.216293e-01  \n",
       "BK_ret      -8.548695e-02  \n",
       "EWBC_ret     2.800190e-01  \n",
       "PNC_ret      5.621272e-01  \n",
       "C_ret       -1.285552e-02  \n",
       "WFC_ret      2.654127e-01  \n",
       "BAC_ret      3.319244e-02  \n",
       "JPM_ret      9.719839e-02  \n",
       "XLF_ret      7.183317e-16  \n",
       "SPY_ret     -1.356933e-01  \n",
       "pnc|xlf      7.459736e-16  \n",
       "pnc_xlf_res  1.000000e+00  "
      ]
     },
     "execution_count": 18,
     "metadata": {},
     "output_type": "execute_result"
    }
   ],
   "source": [
    "returns.corr()"
   ]
  },
  {
   "cell_type": "markdown",
   "metadata": {
    "pycharm": {
     "name": "#%% md\n"
    }
   },
   "source": [
    "### Question 9:Veriy that the following code runs a regression o SPY_ret on XLF_ret  and creates a prediction column for SPY_ret conditional on XLF_ret and calculates the residual return of SPY_ret with respect to XLF_ret\n",
    "lm1 = smf.ols(' SPY_ret ~ XLF_ret', data =returns ).fit()\n",
    "returns['spy|xlf']= lm1.predict()\n",
    "returns['spy_xlf_res']= returns['SPY_ret']-returns['spy|xlf']\n",
    "returns.head()\n"
   ]
  },
  {
   "cell_type": "code",
   "execution_count": 19,
   "metadata": {
    "pycharm": {
     "name": "#%%\n"
    }
   },
   "outputs": [
    {
     "data": {
      "text/html": [
       "<div>\n",
       "<style scoped>\n",
       "    .dataframe tbody tr th:only-of-type {\n",
       "        vertical-align: middle;\n",
       "    }\n",
       "\n",
       "    .dataframe tbody tr th {\n",
       "        vertical-align: top;\n",
       "    }\n",
       "\n",
       "    .dataframe thead th {\n",
       "        text-align: right;\n",
       "    }\n",
       "</style>\n",
       "<table border=\"1\" class=\"dataframe\">\n",
       "  <thead>\n",
       "    <tr style=\"text-align: right;\">\n",
       "      <th></th>\n",
       "      <th>date</th>\n",
       "      <th>SBNY_ret</th>\n",
       "      <th>BK_ret</th>\n",
       "      <th>EWBC_ret</th>\n",
       "      <th>PNC_ret</th>\n",
       "      <th>C_ret</th>\n",
       "      <th>WFC_ret</th>\n",
       "      <th>BAC_ret</th>\n",
       "      <th>JPM_ret</th>\n",
       "      <th>XLF_ret</th>\n",
       "      <th>SPY_ret</th>\n",
       "      <th>pnc|xlf</th>\n",
       "      <th>pnc_xlf_res</th>\n",
       "      <th>spy|xlf</th>\n",
       "      <th>spy_xlf_res</th>\n",
       "    </tr>\n",
       "  </thead>\n",
       "  <tbody>\n",
       "    <tr>\n",
       "      <th>1</th>\n",
       "      <td>20060201</td>\n",
       "      <td>0.064039</td>\n",
       "      <td>0.083623</td>\n",
       "      <td>0.021133</td>\n",
       "      <td>0.093121</td>\n",
       "      <td>-0.004508</td>\n",
       "      <td>0.029506</td>\n",
       "      <td>0.036626</td>\n",
       "      <td>0.043799</td>\n",
       "      <td>0.021283</td>\n",
       "      <td>0.005726</td>\n",
       "      <td>0.026292</td>\n",
       "      <td>0.066828</td>\n",
       "      <td>0.018130</td>\n",
       "      <td>-0.012405</td>\n",
       "    </tr>\n",
       "    <tr>\n",
       "      <th>2</th>\n",
       "      <td>20060301</td>\n",
       "      <td>0.005864</td>\n",
       "      <td>0.052570</td>\n",
       "      <td>0.024227</td>\n",
       "      <td>-0.043212</td>\n",
       "      <td>0.029434</td>\n",
       "      <td>0.003226</td>\n",
       "      <td>-0.006761</td>\n",
       "      <td>0.012154</td>\n",
       "      <td>-0.002452</td>\n",
       "      <td>0.012477</td>\n",
       "      <td>0.002863</td>\n",
       "      <td>-0.046075</td>\n",
       "      <td>0.004628</td>\n",
       "      <td>0.007849</td>\n",
       "    </tr>\n",
       "    <tr>\n",
       "      <th>3</th>\n",
       "      <td>20060401</td>\n",
       "      <td>0.085302</td>\n",
       "      <td>-0.024695</td>\n",
       "      <td>0.029053</td>\n",
       "      <td>0.061804</td>\n",
       "      <td>0.057591</td>\n",
       "      <td>0.075466</td>\n",
       "      <td>0.108266</td>\n",
       "      <td>0.089817</td>\n",
       "      <td>0.048913</td>\n",
       "      <td>0.016659</td>\n",
       "      <td>0.053566</td>\n",
       "      <td>0.008237</td>\n",
       "      <td>0.033848</td>\n",
       "      <td>-0.017189</td>\n",
       "    </tr>\n",
       "    <tr>\n",
       "      <th>4</th>\n",
       "      <td>20060501</td>\n",
       "      <td>0.010179</td>\n",
       "      <td>-0.048786</td>\n",
       "      <td>0.007058</td>\n",
       "      <td>-0.027843</td>\n",
       "      <td>-0.002780</td>\n",
       "      <td>-0.033775</td>\n",
       "      <td>-0.030449</td>\n",
       "      <td>-0.052697</td>\n",
       "      <td>-0.037692</td>\n",
       "      <td>-0.030121</td>\n",
       "      <td>-0.031924</td>\n",
       "      <td>0.004080</td>\n",
       "      <td>-0.015419</td>\n",
       "      <td>-0.014702</td>\n",
       "    </tr>\n",
       "    <tr>\n",
       "      <th>5</th>\n",
       "      <td>20060601</td>\n",
       "      <td>-0.093759</td>\n",
       "      <td>-0.030996</td>\n",
       "      <td>-0.049866</td>\n",
       "      <td>0.018285</td>\n",
       "      <td>-0.021298</td>\n",
       "      <td>0.018499</td>\n",
       "      <td>0.004111</td>\n",
       "      <td>-0.015009</td>\n",
       "      <td>-0.010404</td>\n",
       "      <td>-0.001804</td>\n",
       "      <td>-0.004987</td>\n",
       "      <td>0.023272</td>\n",
       "      <td>0.000104</td>\n",
       "      <td>-0.001908</td>\n",
       "    </tr>\n",
       "  </tbody>\n",
       "</table>\n",
       "</div>"
      ],
      "text/plain": [
       "       date  SBNY_ret    BK_ret  EWBC_ret   PNC_ret     C_ret   WFC_ret  \\\n",
       "1  20060201  0.064039  0.083623  0.021133  0.093121 -0.004508  0.029506   \n",
       "2  20060301  0.005864  0.052570  0.024227 -0.043212  0.029434  0.003226   \n",
       "3  20060401  0.085302 -0.024695  0.029053  0.061804  0.057591  0.075466   \n",
       "4  20060501  0.010179 -0.048786  0.007058 -0.027843 -0.002780 -0.033775   \n",
       "5  20060601 -0.093759 -0.030996 -0.049866  0.018285 -0.021298  0.018499   \n",
       "\n",
       "    BAC_ret   JPM_ret   XLF_ret   SPY_ret   pnc|xlf  pnc_xlf_res   spy|xlf  \\\n",
       "1  0.036626  0.043799  0.021283  0.005726  0.026292     0.066828  0.018130   \n",
       "2 -0.006761  0.012154 -0.002452  0.012477  0.002863    -0.046075  0.004628   \n",
       "3  0.108266  0.089817  0.048913  0.016659  0.053566     0.008237  0.033848   \n",
       "4 -0.030449 -0.052697 -0.037692 -0.030121 -0.031924     0.004080 -0.015419   \n",
       "5  0.004111 -0.015009 -0.010404 -0.001804 -0.004987     0.023272  0.000104   \n",
       "\n",
       "   spy_xlf_res  \n",
       "1    -0.012405  \n",
       "2     0.007849  \n",
       "3    -0.017189  \n",
       "4    -0.014702  \n",
       "5    -0.001908  "
      ]
     },
     "execution_count": 19,
     "metadata": {},
     "output_type": "execute_result"
    }
   ],
   "source": [
    "lm1 = smf.ols(' SPY_ret ~ XLF_ret', data =returns ).fit()\n",
    "returns['spy|xlf']= lm1.predict()\n",
    "returns['spy_xlf_res']= returns['SPY_ret']-returns['spy|xlf']\n",
    "returns.head()"
   ]
  },
  {
   "cell_type": "code",
   "execution_count": 20,
   "metadata": {
    "pycharm": {
     "name": "#%%\n"
    }
   },
   "outputs": [
    {
     "data": {
      "text/plain": [
       "date                    inf\n",
       "SBNY_ret       1.664533e-02\n",
       "BK_ret         7.026192e-03\n",
       "EWBC_ret       1.395656e-02\n",
       "PNC_ret        1.133444e-02\n",
       "C_ret          3.036670e-04\n",
       "WFC_ret        8.720166e-03\n",
       "BAC_ret        9.885732e-03\n",
       "JPM_ret        1.266131e-02\n",
       "XLF_ret        6.130557e-03\n",
       "SPY_ret        9.510269e-03\n",
       "pnc|xlf        1.133444e-02\n",
       "pnc_xlf_res    9.191310e-18\n",
       "spy|xlf        9.510269e-03\n",
       "spy_xlf_res    5.013442e-18\n",
       "dtype: float64"
      ]
     },
     "execution_count": 20,
     "metadata": {},
     "output_type": "execute_result"
    }
   ],
   "source": [
    "returns.mean()"
   ]
  },
  {
   "cell_type": "code",
   "execution_count": 21,
   "metadata": {
    "pycharm": {
     "name": "#%%\n"
    }
   },
   "outputs": [
    {
     "name": "stderr",
     "output_type": "stream",
     "text": [
      "C:\\Users\\shane\\AppData\\Local\\Temp/ipykernel_21580/54076382.py:1: FutureWarning: Dropping of nuisance columns in DataFrame reductions (with 'numeric_only=None') is deprecated; in a future version this will raise TypeError.  Select only valid columns before calling the reduction.\n",
      "  returns.std()\n"
     ]
    },
    {
     "data": {
      "text/plain": [
       "SBNY_ret       0.089365\n",
       "BK_ret         0.069005\n",
       "EWBC_ret       0.133347\n",
       "PNC_ret        0.079668\n",
       "C_ret          0.133544\n",
       "WFC_ret        0.090023\n",
       "BAC_ret        0.126567\n",
       "JPM_ret        0.079699\n",
       "XLF_ret        0.066749\n",
       "SPY_ret        0.043630\n",
       "pnc|xlf        0.065890\n",
       "pnc_xlf_res    0.044784\n",
       "spy|xlf        0.037971\n",
       "spy_xlf_res    0.021489\n",
       "dtype: float64"
      ]
     },
     "execution_count": 21,
     "metadata": {},
     "output_type": "execute_result"
    }
   ],
   "source": [
    "returns.std()"
   ]
  },
  {
   "cell_type": "markdown",
   "metadata": {
    "pycharm": {
     "name": "#%% md\n"
    }
   },
   "source": [
    "### Question 10: Runa regression of pnc_xlf_res agains spy_xlf_res. compare the beta of this regression with\n"
   ]
  },
  {
   "cell_type": "code",
   "execution_count": 22,
   "metadata": {
    "pycharm": {
     "name": "#%%\n"
    }
   },
   "outputs": [
    {
     "data": {
      "text/plain": [
       "array(<class 'statsmodels.iolib.summary.Summary'>\n",
       "\"\"\"\n",
       "                            OLS Regression Results                            \n",
       "==============================================================================\n",
       "Dep. Variable:            pnc_xlf_res   R-squared:                       0.076\n",
       "Model:                            OLS   Adj. R-squared:                  0.071\n",
       "Method:                 Least Squares   F-statistic:                     15.52\n",
       "Date:                Tue, 10 May 2022   Prob (F-statistic):           0.000115\n",
       "Time:                        20:21:43   Log-Likelihood:                 330.25\n",
       "No. Observations:                 191   AIC:                            -656.5\n",
       "Df Residuals:                     189   BIC:                            -650.0\n",
       "Df Model:                           1                                         \n",
       "Covariance Type:            nonrobust                                         \n",
       "===============================================================================\n",
       "                  coef    std err          t      P>|t|      [0.025      0.975]\n",
       "-------------------------------------------------------------------------------\n",
       "Intercept    8.348e-18      0.003   2.67e-15      1.000      -0.006       0.006\n",
       "spy_xlf_res    -0.5742      0.146     -3.940      0.000      -0.862      -0.287\n",
       "==============================================================================\n",
       "Omnibus:                       11.883   Durbin-Watson:                   1.766\n",
       "Prob(Omnibus):                  0.003   Jarque-Bera (JB):               25.015\n",
       "Skew:                           0.208   Prob(JB):                     3.70e-06\n",
       "Kurtosis:                       4.724   Cond. No.                         46.7\n",
       "==============================================================================\n",
       "\n",
       "Notes:\n",
       "[1] Standard Errors assume that the covariance matrix of the errors is correctly specified.\n",
       "\"\"\", dtype=object)"
      ]
     },
     "execution_count": 22,
     "metadata": {},
     "output_type": "execute_result"
    }
   ],
   "source": [
    "reg3 = smf.ols('pnc_xlf_res ~ spy_xlf_res ', data = returns).fit()\n",
    "np.array(reg3.summary())"
   ]
  },
  {
   "cell_type": "markdown",
   "metadata": {
    "pycharm": {
     "name": "#%% md\n"
    }
   },
   "source": [
    "### Question 11 : Assume you want to assess the unconditional VaR of each symbol over the period 2005-2021. use the quantile method to output those VaRs. Based on this output, the bank with the worst VaR is\n"
   ]
  },
  {
   "cell_type": "code",
   "execution_count": 23,
   "metadata": {
    "pycharm": {
     "name": "#%%\n"
    }
   },
   "outputs": [
    {
     "data": {
      "text/plain": [
       "C_ret       0.192799\n",
       "EWBC_ret    0.192013\n",
       "BAC_ret     0.155014\n",
       "WFC_ret     0.128625\n",
       "JPM_ret     0.116921\n",
       "BK_ret      0.106668\n",
       "PNC_ret     0.105380\n",
       "XLF_ret     0.104215\n",
       "SBNY_ret    0.100835\n",
       "SPY_ret     0.071908\n",
       "Name: 0.05, dtype: float64"
      ]
     },
     "execution_count": 23,
     "metadata": {},
     "output_type": "execute_result"
    }
   ],
   "source": [
    "returns_var= returns.filter(like= 'ret')\n",
    "p05 = abs(returns_var.quantile(0.05))\n",
    "p05.sort_values(axis=0,ascending=False,inplace=False)"
   ]
  },
  {
   "cell_type": "markdown",
   "metadata": {
    "pycharm": {
     "name": "#%% md\n"
    }
   },
   "source": [
    "### Question 12 :Verify that the following code creates two columns in the data frame returns. One is the 'year' and the other is 'period'\n",
    "returns['year']=pd.to_datetime(returns['date']).dt.year\n",
    "cond=[ (returns.year <  2011),\n",
    "(returns.year > 2010) & (returns.year< 2016),\n",
    "(returns.year > 2015) ]\n",
    "values = ['2006-2010', '2011-2015' , '2016-2021']\n",
    "returns['period']= np.select(cond, values)\n",
    "returns.period.value_counts()\n"
   ]
  },
  {
   "cell_type": "code",
   "execution_count": 24,
   "metadata": {
    "pycharm": {
     "name": "#%%\n"
    }
   },
   "outputs": [
    {
     "data": {
      "text/plain": [
       "2016-2021    72\n",
       "2011-2015    60\n",
       "2006-2010    59\n",
       "Name: period, dtype: int64"
      ]
     },
     "execution_count": 24,
     "metadata": {},
     "output_type": "execute_result"
    }
   ],
   "source": [
    "returns['year']=pd.to_datetime(returns['date']).dt.year\n",
    "cond=[ (returns.year <  2011),\n",
    "(returns.year > 2010) & (returns.year< 2016),\n",
    "(returns.year > 2015) ]\n",
    "values = ['2006-2010', '2011-2015' , '2016-2021']\n",
    "returns['period']= np.select(cond, values)\n",
    "returns.period.value_counts()"
   ]
  },
  {
   "cell_type": "markdown",
   "metadata": {
    "pycharm": {
     "name": "#%% md\n"
    }
   },
   "source": [
    "### Question 13:Verify that the following code helps calculating the VaR for each period\n",
    "returns_only= returns.filter(like='ret')\n",
    "returns.groupby('period')[returns_only.columns].quantile(0.05)\n"
   ]
  },
  {
   "cell_type": "code",
   "execution_count": 25,
   "metadata": {
    "pycharm": {
     "name": "#%%\n"
    }
   },
   "outputs": [],
   "source": [
    "returns_only= returns.filter(like='ret')\n",
    "VaR_2 = returns.groupby('period')[returns_only.columns].quantile(0.05)"
   ]
  },
  {
   "cell_type": "code",
   "execution_count": 26,
   "metadata": {
    "pycharm": {
     "name": "#%%\n"
    }
   },
   "outputs": [
    {
     "data": {
      "text/html": [
       "<div>\n",
       "<style scoped>\n",
       "    .dataframe tbody tr th:only-of-type {\n",
       "        vertical-align: middle;\n",
       "    }\n",
       "\n",
       "    .dataframe tbody tr th {\n",
       "        vertical-align: top;\n",
       "    }\n",
       "\n",
       "    .dataframe thead th {\n",
       "        text-align: right;\n",
       "    }\n",
       "</style>\n",
       "<table border=\"1\" class=\"dataframe\">\n",
       "  <thead>\n",
       "    <tr style=\"text-align: right;\">\n",
       "      <th></th>\n",
       "      <th>SBNY_ret</th>\n",
       "      <th>BK_ret</th>\n",
       "      <th>EWBC_ret</th>\n",
       "      <th>PNC_ret</th>\n",
       "      <th>C_ret</th>\n",
       "      <th>WFC_ret</th>\n",
       "      <th>BAC_ret</th>\n",
       "      <th>JPM_ret</th>\n",
       "      <th>XLF_ret</th>\n",
       "      <th>SPY_ret</th>\n",
       "    </tr>\n",
       "    <tr>\n",
       "      <th>period</th>\n",
       "      <th></th>\n",
       "      <th></th>\n",
       "      <th></th>\n",
       "      <th></th>\n",
       "      <th></th>\n",
       "      <th></th>\n",
       "      <th></th>\n",
       "      <th></th>\n",
       "      <th></th>\n",
       "      <th></th>\n",
       "    </tr>\n",
       "  </thead>\n",
       "  <tbody>\n",
       "    <tr>\n",
       "      <th>2006-2010</th>\n",
       "      <td>0.094462</td>\n",
       "      <td>0.100617</td>\n",
       "      <td>0.261301</td>\n",
       "      <td>0.147146</td>\n",
       "      <td>0.339529</td>\n",
       "      <td>0.150819</td>\n",
       "      <td>0.301101</td>\n",
       "      <td>0.140479</td>\n",
       "      <td>0.182051</td>\n",
       "      <td>0.089262</td>\n",
       "    </tr>\n",
       "    <tr>\n",
       "      <th>2011-2015</th>\n",
       "      <td>0.083493</td>\n",
       "      <td>0.101230</td>\n",
       "      <td>0.082215</td>\n",
       "      <td>0.072903</td>\n",
       "      <td>0.134451</td>\n",
       "      <td>0.066151</td>\n",
       "      <td>0.152862</td>\n",
       "      <td>0.102682</td>\n",
       "      <td>0.071678</td>\n",
       "      <td>0.055230</td>\n",
       "    </tr>\n",
       "    <tr>\n",
       "      <th>2016-2021</th>\n",
       "      <td>0.134883</td>\n",
       "      <td>0.106308</td>\n",
       "      <td>0.157067</td>\n",
       "      <td>0.091845</td>\n",
       "      <td>0.148337</td>\n",
       "      <td>0.124120</td>\n",
       "      <td>0.130934</td>\n",
       "      <td>0.088480</td>\n",
       "      <td>0.076729</td>\n",
       "      <td>0.064275</td>\n",
       "    </tr>\n",
       "  </tbody>\n",
       "</table>\n",
       "</div>"
      ],
      "text/plain": [
       "           SBNY_ret    BK_ret  EWBC_ret   PNC_ret     C_ret   WFC_ret  \\\n",
       "period                                                                  \n",
       "2006-2010  0.094462  0.100617  0.261301  0.147146  0.339529  0.150819   \n",
       "2011-2015  0.083493  0.101230  0.082215  0.072903  0.134451  0.066151   \n",
       "2016-2021  0.134883  0.106308  0.157067  0.091845  0.148337  0.124120   \n",
       "\n",
       "            BAC_ret   JPM_ret   XLF_ret   SPY_ret  \n",
       "period                                             \n",
       "2006-2010  0.301101  0.140479  0.182051  0.089262  \n",
       "2011-2015  0.152862  0.102682  0.071678  0.055230  \n",
       "2016-2021  0.130934  0.088480  0.076729  0.064275  "
      ]
     },
     "execution_count": 26,
     "metadata": {},
     "output_type": "execute_result"
    }
   ],
   "source": [
    "VaR_2 =abs(VaR_2.select_dtypes(exclude=['object', 'datetime']))\n",
    "VaR_2"
   ]
  },
  {
   "cell_type": "code",
   "execution_count": 27,
   "metadata": {
    "pycharm": {
     "name": "#%%\n"
    }
   },
   "outputs": [
    {
     "data": {
      "text/plain": [
       "period\n",
       "2006-2010    0.339529\n",
       "2011-2015    0.152862\n",
       "2016-2021    0.157067\n",
       "dtype: float64"
      ]
     },
     "execution_count": 27,
     "metadata": {},
     "output_type": "execute_result"
    }
   ],
   "source": [
    "VaR_2.T.max()"
   ]
  },
  {
   "cell_type": "code",
   "execution_count": 27,
   "metadata": {
    "pycharm": {
     "name": "#%%\n"
    }
   },
   "outputs": [],
   "source": []
  },
  {
   "cell_type": "code",
   "execution_count": 28,
   "metadata": {
    "pycharm": {
     "name": "#%%\n"
    }
   },
   "outputs": [
    {
     "data": {
      "text/plain": [
       "period\n",
       "2006-2010    2.146296\n",
       "2011-2015    1.075758\n",
       "2016-2021    1.280044\n",
       "dtype: float64"
      ]
     },
     "execution_count": 28,
     "metadata": {},
     "output_type": "execute_result"
    }
   ],
   "source": [
    "VaR_2['worst'] = VaR_2.max(axis =1 )\n",
    "VaR_2.sum(axis =1)"
   ]
  },
  {
   "cell_type": "markdown",
   "metadata": {
    "pycharm": {
     "name": "#%% md\n"
    }
   },
   "source": [
    "### Question 14: Assume you want to calculate the conditional 5%_Var of the market (SPY) using Returns on citigroup ( C ). Import the relevant libraries for Quantile Regression and run a Quantile regression over all data (2016-2021) and output the regression summary and answer questions 14 and 15"
   ]
  },
  {
   "cell_type": "code",
   "execution_count": 29,
   "metadata": {
    "pycharm": {
     "name": "#%%\n"
    }
   },
   "outputs": [
    {
     "data": {
      "text/html": [
       "<div>\n",
       "<style scoped>\n",
       "    .dataframe tbody tr th:only-of-type {\n",
       "        vertical-align: middle;\n",
       "    }\n",
       "\n",
       "    .dataframe tbody tr th {\n",
       "        vertical-align: top;\n",
       "    }\n",
       "\n",
       "    .dataframe thead th {\n",
       "        text-align: right;\n",
       "    }\n",
       "</style>\n",
       "<table border=\"1\" class=\"dataframe\">\n",
       "  <thead>\n",
       "    <tr style=\"text-align: right;\">\n",
       "      <th></th>\n",
       "      <th>date</th>\n",
       "      <th>SBNY_ret</th>\n",
       "      <th>BK_ret</th>\n",
       "      <th>EWBC_ret</th>\n",
       "      <th>PNC_ret</th>\n",
       "      <th>C_ret</th>\n",
       "      <th>WFC_ret</th>\n",
       "      <th>BAC_ret</th>\n",
       "      <th>JPM_ret</th>\n",
       "      <th>XLF_ret</th>\n",
       "      <th>SPY_ret</th>\n",
       "      <th>pnc|xlf</th>\n",
       "      <th>pnc_xlf_res</th>\n",
       "      <th>spy|xlf</th>\n",
       "      <th>spy_xlf_res</th>\n",
       "      <th>year</th>\n",
       "      <th>period</th>\n",
       "    </tr>\n",
       "  </thead>\n",
       "  <tbody>\n",
       "    <tr>\n",
       "      <th>120</th>\n",
       "      <td>20160101</td>\n",
       "      <td>-0.091478</td>\n",
       "      <td>-0.121300</td>\n",
       "      <td>-0.219923</td>\n",
       "      <td>-0.090861</td>\n",
       "      <td>-0.177198</td>\n",
       "      <td>-0.075975</td>\n",
       "      <td>-0.157468</td>\n",
       "      <td>-0.098894</td>\n",
       "      <td>-0.082833</td>\n",
       "      <td>-0.044132</td>\n",
       "      <td>-0.076484</td>\n",
       "      <td>-0.014378</td>\n",
       "      <td>-0.041098</td>\n",
       "      <td>-0.003034</td>\n",
       "      <td>2016</td>\n",
       "      <td>2016-2021</td>\n",
       "    </tr>\n",
       "    <tr>\n",
       "      <th>121</th>\n",
       "      <td>20160201</td>\n",
       "      <td>-0.070260</td>\n",
       "      <td>-0.018197</td>\n",
       "      <td>-0.070101</td>\n",
       "      <td>-0.056056</td>\n",
       "      <td>-0.086473</td>\n",
       "      <td>-0.065897</td>\n",
       "      <td>-0.114569</td>\n",
       "      <td>-0.047434</td>\n",
       "      <td>-0.029006</td>\n",
       "      <td>-0.000826</td>\n",
       "      <td>-0.023349</td>\n",
       "      <td>-0.032707</td>\n",
       "      <td>-0.010477</td>\n",
       "      <td>0.009652</td>\n",
       "      <td>2016</td>\n",
       "      <td>2016-2021</td>\n",
       "    </tr>\n",
       "    <tr>\n",
       "      <th>122</th>\n",
       "      <td>20160301</td>\n",
       "      <td>0.050714</td>\n",
       "      <td>0.040690</td>\n",
       "      <td>0.083750</td>\n",
       "      <td>0.040093</td>\n",
       "      <td>0.074646</td>\n",
       "      <td>0.038667</td>\n",
       "      <td>0.079872</td>\n",
       "      <td>0.051865</td>\n",
       "      <td>0.066856</td>\n",
       "      <td>0.061790</td>\n",
       "      <td>0.071278</td>\n",
       "      <td>-0.031185</td>\n",
       "      <td>0.044055</td>\n",
       "      <td>0.017735</td>\n",
       "      <td>2016</td>\n",
       "      <td>2016-2021</td>\n",
       "    </tr>\n",
       "    <tr>\n",
       "      <th>123</th>\n",
       "      <td>20160401</td>\n",
       "      <td>0.012562</td>\n",
       "      <td>0.092587</td>\n",
       "      <td>0.154249</td>\n",
       "      <td>0.037957</td>\n",
       "      <td>0.108503</td>\n",
       "      <td>0.033499</td>\n",
       "      <td>0.081021</td>\n",
       "      <td>0.067207</td>\n",
       "      <td>0.040598</td>\n",
       "      <td>0.009119</td>\n",
       "      <td>0.045359</td>\n",
       "      <td>-0.007402</td>\n",
       "      <td>0.029118</td>\n",
       "      <td>-0.019999</td>\n",
       "      <td>2016</td>\n",
       "      <td>2016-2021</td>\n",
       "    </tr>\n",
       "    <tr>\n",
       "      <th>124</th>\n",
       "      <td>20160501</td>\n",
       "      <td>-0.020533</td>\n",
       "      <td>0.049619</td>\n",
       "      <td>0.029607</td>\n",
       "      <td>0.028660</td>\n",
       "      <td>0.007330</td>\n",
       "      <td>0.014806</td>\n",
       "      <td>0.015797</td>\n",
       "      <td>0.040400</td>\n",
       "      <td>0.018876</td>\n",
       "      <td>0.017011</td>\n",
       "      <td>0.023916</td>\n",
       "      <td>0.004744</td>\n",
       "      <td>0.016761</td>\n",
       "      <td>0.000251</td>\n",
       "      <td>2016</td>\n",
       "      <td>2016-2021</td>\n",
       "    </tr>\n",
       "  </tbody>\n",
       "</table>\n",
       "</div>"
      ],
      "text/plain": [
       "         date  SBNY_ret    BK_ret  EWBC_ret   PNC_ret     C_ret   WFC_ret  \\\n",
       "120  20160101 -0.091478 -0.121300 -0.219923 -0.090861 -0.177198 -0.075975   \n",
       "121  20160201 -0.070260 -0.018197 -0.070101 -0.056056 -0.086473 -0.065897   \n",
       "122  20160301  0.050714  0.040690  0.083750  0.040093  0.074646  0.038667   \n",
       "123  20160401  0.012562  0.092587  0.154249  0.037957  0.108503  0.033499   \n",
       "124  20160501 -0.020533  0.049619  0.029607  0.028660  0.007330  0.014806   \n",
       "\n",
       "      BAC_ret   JPM_ret   XLF_ret   SPY_ret   pnc|xlf  pnc_xlf_res   spy|xlf  \\\n",
       "120 -0.157468 -0.098894 -0.082833 -0.044132 -0.076484    -0.014378 -0.041098   \n",
       "121 -0.114569 -0.047434 -0.029006 -0.000826 -0.023349    -0.032707 -0.010477   \n",
       "122  0.079872  0.051865  0.066856  0.061790  0.071278    -0.031185  0.044055   \n",
       "123  0.081021  0.067207  0.040598  0.009119  0.045359    -0.007402  0.029118   \n",
       "124  0.015797  0.040400  0.018876  0.017011  0.023916     0.004744  0.016761   \n",
       "\n",
       "     spy_xlf_res  year     period  \n",
       "120    -0.003034  2016  2016-2021  \n",
       "121     0.009652  2016  2016-2021  \n",
       "122     0.017735  2016  2016-2021  \n",
       "123    -0.019999  2016  2016-2021  \n",
       "124     0.000251  2016  2016-2021  "
      ]
     },
     "execution_count": 29,
     "metadata": {},
     "output_type": "execute_result"
    }
   ],
   "source": [
    "var_2016_2021 = returns.loc[returns['period'] == '2016-2021']\n",
    "var_2016_2021.head()"
   ]
  },
  {
   "cell_type": "code",
   "execution_count": 30,
   "metadata": {
    "pycharm": {
     "name": "#%%\n"
    }
   },
   "outputs": [],
   "source": [
    "model = smf.quantreg('SPY_ret ~ C_ret', returns_only)\n",
    "out = model.fit(q=.05)"
   ]
  },
  {
   "cell_type": "code",
   "execution_count": 31,
   "metadata": {
    "pycharm": {
     "name": "#%%\n"
    }
   },
   "outputs": [
    {
     "data": {
      "text/plain": [
       "array(<class 'statsmodels.iolib.summary.Summary'>\n",
       "\"\"\"\n",
       "                         QuantReg Regression Results                          \n",
       "==============================================================================\n",
       "Dep. Variable:                SPY_ret   Pseudo R-squared:               0.2923\n",
       "Model:                       QuantReg   Bandwidth:                     0.02090\n",
       "Method:                 Least Squares   Sparsity:                       0.4055\n",
       "Date:                Tue, 10 May 2022   No. Observations:                  191\n",
       "Time:                        20:21:43   Df Residuals:                      189\n",
       "                                        Df Model:                            1\n",
       "==============================================================================\n",
       "                 coef    std err          t      P>|t|      [0.025      0.975]\n",
       "------------------------------------------------------------------------------\n",
       "Intercept     -0.0478      0.007     -7.310      0.000      -0.061      -0.035\n",
       "C_ret          0.1797      0.123      1.464      0.145      -0.062       0.422\n",
       "==============================================================================\n",
       "\"\"\", dtype=object)"
      ]
     },
     "execution_count": 31,
     "metadata": {},
     "output_type": "execute_result"
    }
   ],
   "source": [
    "np.array(out.summary())"
   ]
  },
  {
   "cell_type": "markdown",
   "metadata": {
    "pycharm": {
     "name": "#%% md\n"
    }
   },
   "source": [
    "### Question 15:If you expect C to loose 30%,\n"
   ]
  },
  {
   "cell_type": "code",
   "execution_count": 32,
   "metadata": {
    "pycharm": {
     "name": "#%%\n"
    }
   },
   "outputs": [
    {
     "data": {
      "text/plain": [
       "Intercept   -0.047781\n",
       "C_ret        0.179730\n",
       "dtype: float64"
      ]
     },
     "execution_count": 32,
     "metadata": {},
     "output_type": "execute_result"
    }
   ],
   "source": [
    "out.params"
   ]
  },
  {
   "cell_type": "code",
   "execution_count": 33,
   "metadata": {
    "pycharm": {
     "name": "#%%\n"
    }
   },
   "outputs": [
    {
     "data": {
      "text/plain": [
       "-0.10169975547231014"
      ]
     },
     "execution_count": 33,
     "metadata": {},
     "output_type": "execute_result"
    }
   ],
   "source": [
    "r = -.30\n",
    "SPY_cond_Var = out.params['Intercept'] + out.params['C_ret']*r\n",
    "SPY_cond_Var"
   ]
  },
  {
   "cell_type": "markdown",
   "metadata": {
    "pycharm": {
     "name": "#%% md\n"
    }
   },
   "source": [
    "### Question 16: One way to estimate the unconditional VaR of SPY_ret is to run the following regression\n",
    "mod = smf.quantreg('SPY_ret ~ 1', returns)\n",
    "out = mod.fit(q=.05)\n",
    "out.summary()\n"
   ]
  },
  {
   "cell_type": "code",
   "execution_count": 34,
   "metadata": {
    "pycharm": {
     "name": "#%%\n"
    }
   },
   "outputs": [
    {
     "data": {
      "text/plain": [
       "array(<class 'statsmodels.iolib.summary.Summary'>\n",
       "\"\"\"\n",
       "                         QuantReg Regression Results                          \n",
       "==============================================================================\n",
       "Dep. Variable:                SPY_ret   Pseudo R-squared:            0.0009914\n",
       "Model:                       QuantReg   Bandwidth:                     0.02962\n",
       "Method:                 Least Squares   Sparsity:                       0.6259\n",
       "Date:                Tue, 10 May 2022   No. Observations:                  191\n",
       "Time:                        20:21:44   Df Residuals:                      190\n",
       "                                        Df Model:                            0\n",
       "==============================================================================\n",
       "                 coef    std err          t      P>|t|      [0.025      0.975]\n",
       "------------------------------------------------------------------------------\n",
       "Intercept     -0.0742      0.010     -7.356      0.000      -0.094      -0.054\n",
       "==============================================================================\n",
       "\"\"\", dtype=object)"
      ]
     },
     "execution_count": 34,
     "metadata": {},
     "output_type": "execute_result"
    }
   ],
   "source": [
    "mod = smf.quantreg('SPY_ret ~ 1', returns)\n",
    "out_2 = mod.fit(q=.05)\n",
    "np.array(out_2.summary())"
   ]
  },
  {
   "cell_type": "markdown",
   "metadata": {
    "pycharm": {
     "name": "#%% md\n"
    }
   },
   "source": [
    "### Question 17: Consider and run the following code\n",
    "mod = smf.quantreg('SPY_ret ~ period + C_ret -1', returns)\n",
    "out = mod.fit(q=.05)\n",
    "out.summary()"
   ]
  },
  {
   "cell_type": "code",
   "execution_count": 35,
   "metadata": {
    "pycharm": {
     "name": "#%%\n"
    }
   },
   "outputs": [
    {
     "data": {
      "text/plain": [
       "array(<class 'statsmodels.iolib.summary.Summary'>\n",
       "\"\"\"\n",
       "                         QuantReg Regression Results                          \n",
       "==============================================================================\n",
       "Dep. Variable:                SPY_ret   Pseudo R-squared:               0.3497\n",
       "Model:                       QuantReg   Bandwidth:                     0.03164\n",
       "Method:                 Least Squares   Sparsity:                       0.3297\n",
       "Date:                Tue, 10 May 2022   No. Observations:                  191\n",
       "Time:                        20:21:44   Df Residuals:                      187\n",
       "                                        Df Model:                            3\n",
       "=====================================================================================\n",
       "                        coef    std err          t      P>|t|      [0.025      0.975]\n",
       "-------------------------------------------------------------------------------------\n",
       "period[2006-2010]    -0.0831      0.012     -7.114      0.000      -0.106      -0.060\n",
       "period[2011-2015]    -0.0316      0.009     -3.391      0.001      -0.050      -0.013\n",
       "period[2016-2021]    -0.0447      0.009     -4.812      0.000      -0.063      -0.026\n",
       "C_ret                 0.2311      0.102      2.255      0.025       0.029       0.433\n",
       "=====================================================================================\n",
       "\"\"\", dtype=object)"
      ]
     },
     "execution_count": 35,
     "metadata": {},
     "output_type": "execute_result"
    }
   ],
   "source": [
    "mod = smf.quantreg('SPY_ret ~ period + C_ret -1', returns)\n",
    "out_3 = mod.fit(q=.05)\n",
    "np.array(out_3.summary())"
   ]
  },
  {
   "cell_type": "code",
   "execution_count": 36,
   "metadata": {
    "pycharm": {
     "name": "#%%\n"
    }
   },
   "outputs": [
    {
     "data": {
      "text/plain": [
       "-7.6305401053081585"
      ]
     },
     "execution_count": 36,
     "metadata": {},
     "output_type": "execute_result"
    }
   ],
   "source": [
    "f= (out_3.params['period[2016-2021]']+ out_3.params['period[2011-2015]'])/2\n",
    "f = f*2*100\n",
    "f\n"
   ]
  },
  {
   "cell_type": "markdown",
   "metadata": {
    "pycharm": {
     "name": "#%% md\n"
    }
   },
   "source": [
    "### Question 18: Consider and run the following code\n",
    "mod = smf.quantreg('SPY_ret ~ period *C_ret -1', returns)\n",
    "out = mod.fit(q=.05)\n",
    "out.summary()\n"
   ]
  },
  {
   "cell_type": "code",
   "execution_count": 37,
   "metadata": {
    "pycharm": {
     "name": "#%%\n"
    }
   },
   "outputs": [
    {
     "data": {
      "text/plain": [
       "array(<class 'statsmodels.iolib.summary.Summary'>\n",
       "\"\"\"\n",
       "                         QuantReg Regression Results                          \n",
       "==============================================================================\n",
       "Dep. Variable:                SPY_ret   Pseudo R-squared:               0.4166\n",
       "Model:                       QuantReg   Bandwidth:                     0.02659\n",
       "Method:                 Least Squares   Sparsity:                       0.2321\n",
       "Date:                Tue, 10 May 2022   No. Observations:                  191\n",
       "Time:                        20:21:44   Df Residuals:                      185\n",
       "                                        Df Model:                            5\n",
       "=============================================================================================\n",
       "                                coef    std err          t      P>|t|      [0.025      0.975]\n",
       "---------------------------------------------------------------------------------------------\n",
       "period[2006-2010]            -0.0632      0.008     -7.984      0.000      -0.079      -0.048\n",
       "period[2011-2015]            -0.0326      0.008     -4.334      0.000      -0.047      -0.018\n",
       "period[2016-2021]            -0.0314      0.007     -4.421      0.000      -0.045      -0.017\n",
       "C_ret                         0.1734      0.069      2.513      0.013       0.037       0.310\n",
       "period[T.2011-2015]:C_ret     0.0645      0.157      0.412      0.681      -0.245       0.374\n",
       "period[T.2016-2021]:C_ret     0.1640      0.099      1.654      0.100      -0.032       0.360\n",
       "=============================================================================================\n",
       "\"\"\", dtype=object)"
      ]
     },
     "execution_count": 37,
     "metadata": {},
     "output_type": "execute_result"
    }
   ],
   "source": [
    "mod = smf.quantreg('SPY_ret ~ period *C_ret -1', returns)\n",
    "out_4 = mod.fit(q=.05)\n",
    "np.array(out_4.summary())"
   ]
  },
  {
   "cell_type": "code",
   "execution_count": 38,
   "metadata": {
    "pycharm": {
     "name": "#%%\n"
    }
   },
   "outputs": [
    {
     "data": {
      "text/plain": [
       "0.04580304215184871"
      ]
     },
     "execution_count": 38,
     "metadata": {},
     "output_type": "execute_result"
    }
   ],
   "source": [
    "np.average(out_4.params)"
   ]
  },
  {
   "cell_type": "markdown",
   "metadata": {
    "pycharm": {
     "name": "#%% md\n"
    }
   },
   "source": [
    "### Question 19: Use the following returnss and quantreg to explain the 5% SPY i\n",
    "XLF_ret\tJPM_ret\tBAC_ret\tWFC_ret\tC_ret\tPNC_ret\tEWBC_ret\tBK_ret\tSBNY_ret\n"
   ]
  },
  {
   "cell_type": "code",
   "execution_count": 39,
   "metadata": {
    "pycharm": {
     "name": "#%%\n"
    }
   },
   "outputs": [
    {
     "data": {
      "text/plain": [
       "array(<class 'statsmodels.iolib.summary.Summary'>\n",
       "\"\"\"\n",
       "                         QuantReg Regression Results                          \n",
       "==============================================================================\n",
       "Dep. Variable:                SPY_ret   Pseudo R-squared:               0.6873\n",
       "Model:                       QuantReg   Bandwidth:                     0.01604\n",
       "Method:                 Least Squares   Sparsity:                       0.1290\n",
       "Date:                Tue, 10 May 2022   No. Observations:                  191\n",
       "Time:                        20:21:44   Df Residuals:                      181\n",
       "                                        Df Model:                            9\n",
       "==============================================================================\n",
       "                 coef    std err          t      P>|t|      [0.025      0.975]\n",
       "------------------------------------------------------------------------------\n",
       "Intercept     -0.0238      0.003     -8.718      0.000      -0.029      -0.018\n",
       "XLF_ret        1.6425      0.066     24.971      0.000       1.513       1.772\n",
       "JPM_ret       -0.3292      0.107     -3.081      0.002      -0.540      -0.118\n",
       "BAC_ret       -0.1914      0.043     -4.489      0.000      -0.276      -0.107\n",
       "WFC_ret       -0.1196      0.080     -1.502      0.135      -0.277       0.038\n",
       "C_ret         -0.0821      0.080     -1.023      0.308      -0.240       0.076\n",
       "PNC_ret       -0.0950      0.072     -1.313      0.191      -0.238       0.048\n",
       "EWBC_ret      -0.0095      0.021     -0.444      0.658      -0.052       0.033\n",
       "BK_ret         0.0588      0.038      1.555      0.122      -0.016       0.133\n",
       "SBNY_ret      -0.0529      0.032     -1.666      0.097      -0.116       0.010\n",
       "==============================================================================\n",
       "\"\"\", dtype=object)"
      ]
     },
     "execution_count": 39,
     "metadata": {},
     "output_type": "execute_result"
    }
   ],
   "source": [
    "mod = smf.quantreg('SPY_ret ~ XLF_ret + JPM_ret\t+ BAC_ret + WFC_ret\t+ C_ret\t+ PNC_ret +\tEWBC_ret +\tBK_ret +SBNY_ret ', returns)\n",
    "out_5 = mod.fit(q = 0.05)\n",
    "np.array(out_5.summary())"
   ]
  },
  {
   "cell_type": "markdown",
   "metadata": {
    "pycharm": {
     "name": "#%% md\n"
    }
   },
   "source": [
    "### Question 20:Use the following code to creat a column in the data fram 'returns' for the worst return of the banks-returns\n",
    "bank_names= returns.columns[2:11]\n",
    "returns['worst'] = returns[bank_names].min(axis=1)\n",
    "returns.head()"
   ]
  },
  {
   "cell_type": "code",
   "execution_count": 40,
   "metadata": {
    "pycharm": {
     "name": "#%%\n"
    }
   },
   "outputs": [
    {
     "data": {
      "text/html": [
       "<div>\n",
       "<style scoped>\n",
       "    .dataframe tbody tr th:only-of-type {\n",
       "        vertical-align: middle;\n",
       "    }\n",
       "\n",
       "    .dataframe tbody tr th {\n",
       "        vertical-align: top;\n",
       "    }\n",
       "\n",
       "    .dataframe thead th {\n",
       "        text-align: right;\n",
       "    }\n",
       "</style>\n",
       "<table border=\"1\" class=\"dataframe\">\n",
       "  <thead>\n",
       "    <tr style=\"text-align: right;\">\n",
       "      <th></th>\n",
       "      <th>date</th>\n",
       "      <th>SBNY_ret</th>\n",
       "      <th>BK_ret</th>\n",
       "      <th>EWBC_ret</th>\n",
       "      <th>PNC_ret</th>\n",
       "      <th>C_ret</th>\n",
       "      <th>WFC_ret</th>\n",
       "      <th>BAC_ret</th>\n",
       "      <th>JPM_ret</th>\n",
       "      <th>XLF_ret</th>\n",
       "      <th>SPY_ret</th>\n",
       "      <th>pnc|xlf</th>\n",
       "      <th>pnc_xlf_res</th>\n",
       "      <th>spy|xlf</th>\n",
       "      <th>spy_xlf_res</th>\n",
       "      <th>year</th>\n",
       "      <th>period</th>\n",
       "      <th>worst</th>\n",
       "    </tr>\n",
       "  </thead>\n",
       "  <tbody>\n",
       "    <tr>\n",
       "      <th>1</th>\n",
       "      <td>20060201</td>\n",
       "      <td>0.064039</td>\n",
       "      <td>0.083623</td>\n",
       "      <td>0.021133</td>\n",
       "      <td>0.093121</td>\n",
       "      <td>-0.004508</td>\n",
       "      <td>0.029506</td>\n",
       "      <td>0.036626</td>\n",
       "      <td>0.043799</td>\n",
       "      <td>0.021283</td>\n",
       "      <td>0.005726</td>\n",
       "      <td>0.026292</td>\n",
       "      <td>0.066828</td>\n",
       "      <td>0.018130</td>\n",
       "      <td>-0.012405</td>\n",
       "      <td>2006</td>\n",
       "      <td>2006-2010</td>\n",
       "      <td>-0.004508</td>\n",
       "    </tr>\n",
       "    <tr>\n",
       "      <th>2</th>\n",
       "      <td>20060301</td>\n",
       "      <td>0.005864</td>\n",
       "      <td>0.052570</td>\n",
       "      <td>0.024227</td>\n",
       "      <td>-0.043212</td>\n",
       "      <td>0.029434</td>\n",
       "      <td>0.003226</td>\n",
       "      <td>-0.006761</td>\n",
       "      <td>0.012154</td>\n",
       "      <td>-0.002452</td>\n",
       "      <td>0.012477</td>\n",
       "      <td>0.002863</td>\n",
       "      <td>-0.046075</td>\n",
       "      <td>0.004628</td>\n",
       "      <td>0.007849</td>\n",
       "      <td>2006</td>\n",
       "      <td>2006-2010</td>\n",
       "      <td>-0.043212</td>\n",
       "    </tr>\n",
       "    <tr>\n",
       "      <th>3</th>\n",
       "      <td>20060401</td>\n",
       "      <td>0.085302</td>\n",
       "      <td>-0.024695</td>\n",
       "      <td>0.029053</td>\n",
       "      <td>0.061804</td>\n",
       "      <td>0.057591</td>\n",
       "      <td>0.075466</td>\n",
       "      <td>0.108266</td>\n",
       "      <td>0.089817</td>\n",
       "      <td>0.048913</td>\n",
       "      <td>0.016659</td>\n",
       "      <td>0.053566</td>\n",
       "      <td>0.008237</td>\n",
       "      <td>0.033848</td>\n",
       "      <td>-0.017189</td>\n",
       "      <td>2006</td>\n",
       "      <td>2006-2010</td>\n",
       "      <td>-0.024695</td>\n",
       "    </tr>\n",
       "    <tr>\n",
       "      <th>4</th>\n",
       "      <td>20060501</td>\n",
       "      <td>0.010179</td>\n",
       "      <td>-0.048786</td>\n",
       "      <td>0.007058</td>\n",
       "      <td>-0.027843</td>\n",
       "      <td>-0.002780</td>\n",
       "      <td>-0.033775</td>\n",
       "      <td>-0.030449</td>\n",
       "      <td>-0.052697</td>\n",
       "      <td>-0.037692</td>\n",
       "      <td>-0.030121</td>\n",
       "      <td>-0.031924</td>\n",
       "      <td>0.004080</td>\n",
       "      <td>-0.015419</td>\n",
       "      <td>-0.014702</td>\n",
       "      <td>2006</td>\n",
       "      <td>2006-2010</td>\n",
       "      <td>-0.052697</td>\n",
       "    </tr>\n",
       "    <tr>\n",
       "      <th>5</th>\n",
       "      <td>20060601</td>\n",
       "      <td>-0.093759</td>\n",
       "      <td>-0.030996</td>\n",
       "      <td>-0.049866</td>\n",
       "      <td>0.018285</td>\n",
       "      <td>-0.021298</td>\n",
       "      <td>0.018499</td>\n",
       "      <td>0.004111</td>\n",
       "      <td>-0.015009</td>\n",
       "      <td>-0.010404</td>\n",
       "      <td>-0.001804</td>\n",
       "      <td>-0.004987</td>\n",
       "      <td>0.023272</td>\n",
       "      <td>0.000104</td>\n",
       "      <td>-0.001908</td>\n",
       "      <td>2006</td>\n",
       "      <td>2006-2010</td>\n",
       "      <td>-0.049866</td>\n",
       "    </tr>\n",
       "  </tbody>\n",
       "</table>\n",
       "</div>"
      ],
      "text/plain": [
       "       date  SBNY_ret    BK_ret  EWBC_ret   PNC_ret     C_ret   WFC_ret  \\\n",
       "1  20060201  0.064039  0.083623  0.021133  0.093121 -0.004508  0.029506   \n",
       "2  20060301  0.005864  0.052570  0.024227 -0.043212  0.029434  0.003226   \n",
       "3  20060401  0.085302 -0.024695  0.029053  0.061804  0.057591  0.075466   \n",
       "4  20060501  0.010179 -0.048786  0.007058 -0.027843 -0.002780 -0.033775   \n",
       "5  20060601 -0.093759 -0.030996 -0.049866  0.018285 -0.021298  0.018499   \n",
       "\n",
       "    BAC_ret   JPM_ret   XLF_ret   SPY_ret   pnc|xlf  pnc_xlf_res   spy|xlf  \\\n",
       "1  0.036626  0.043799  0.021283  0.005726  0.026292     0.066828  0.018130   \n",
       "2 -0.006761  0.012154 -0.002452  0.012477  0.002863    -0.046075  0.004628   \n",
       "3  0.108266  0.089817  0.048913  0.016659  0.053566     0.008237  0.033848   \n",
       "4 -0.030449 -0.052697 -0.037692 -0.030121 -0.031924     0.004080 -0.015419   \n",
       "5  0.004111 -0.015009 -0.010404 -0.001804 -0.004987     0.023272  0.000104   \n",
       "\n",
       "   spy_xlf_res  year     period     worst  \n",
       "1    -0.012405  2006  2006-2010 -0.004508  \n",
       "2     0.007849  2006  2006-2010 -0.043212  \n",
       "3    -0.017189  2006  2006-2010 -0.024695  \n",
       "4    -0.014702  2006  2006-2010 -0.052697  \n",
       "5    -0.001908  2006  2006-2010 -0.049866  "
      ]
     },
     "execution_count": 40,
     "metadata": {},
     "output_type": "execute_result"
    }
   ],
   "source": [
    "bank_names= returns.columns[2:11]\n",
    "returns['worst'] = returns[bank_names].min(axis=1)\n",
    "returns.head()"
   ]
  },
  {
   "cell_type": "code",
   "execution_count": 41,
   "metadata": {
    "pycharm": {
     "name": "#%%\n"
    }
   },
   "outputs": [
    {
     "data": {
      "text/plain": [
       "array(<class 'statsmodels.iolib.summary.Summary'>\n",
       "\"\"\"\n",
       "                         QuantReg Regression Results                          \n",
       "==============================================================================\n",
       "Dep. Variable:                SPY_ret   Pseudo R-squared:               0.4746\n",
       "Model:                       QuantReg   Bandwidth:                     0.02267\n",
       "Method:                 Least Squares   Sparsity:                       0.1964\n",
       "Date:                Tue, 10 May 2022   No. Observations:                  191\n",
       "Time:                        20:21:44   Df Residuals:                      189\n",
       "                                        Df Model:                            1\n",
       "==============================================================================\n",
       "                 coef    std err          t      P>|t|      [0.025      0.975]\n",
       "------------------------------------------------------------------------------\n",
       "Intercept     -0.0040      0.004     -1.141      0.255      -0.011       0.003\n",
       "worst          0.5013      0.017     28.710      0.000       0.467       0.536\n",
       "==============================================================================\n",
       "\"\"\", dtype=object)"
      ]
     },
     "execution_count": 41,
     "metadata": {},
     "output_type": "execute_result"
    }
   ],
   "source": [
    "mod = smf.quantreg('SPY_ret ~ worst ', returns)\n",
    "out_6 = mod.fit(q=0.05)\n",
    "np.array(out_6.summary())"
   ]
  },
  {
   "cell_type": "code",
   "execution_count": 42,
   "metadata": {
    "pycharm": {
     "name": "#%%\n"
    }
   },
   "outputs": [
    {
     "data": {
      "text/plain": [
       "-15.042237675360393"
      ]
     },
     "execution_count": 42,
     "metadata": {},
     "output_type": "execute_result"
    }
   ],
   "source": [
    "s = -.30\n",
    "x = out_6.params['Intercept'] + out_6.params['worst'] * s *100\n",
    "x"
   ]
  },
  {
   "cell_type": "code",
   "execution_count": 42,
   "metadata": {
    "pycharm": {
     "name": "#%%\n"
    }
   },
   "outputs": [],
   "source": []
  },
  {
   "cell_type": "code",
   "execution_count": 42,
   "metadata": {
    "pycharm": {
     "name": "#%%\n"
    }
   },
   "outputs": [],
   "source": []
  },
  {
   "cell_type": "code",
   "execution_count": 42,
   "metadata": {
    "pycharm": {
     "name": "#%%\n"
    }
   },
   "outputs": [],
   "source": []
  }
 ],
 "metadata": {
  "kernelspec": {
   "display_name": "Python 3 (ipykernel)",
   "language": "python",
   "name": "python3"
  },
  "language_info": {
   "codemirror_mode": {
    "name": "ipython",
    "version": 3
   },
   "file_extension": ".py",
   "mimetype": "text/x-python",
   "name": "python",
   "nbconvert_exporter": "python",
   "pygments_lexer": "ipython3",
   "version": "3.9.7"
  }
 },
 "nbformat": 4,
 "nbformat_minor": 1
}
